{
 "cells": [
  {
   "cell_type": "code",
   "execution_count": 176,
   "metadata": {
    "execution": {
     "iopub.execute_input": "2021-09-09T02:35:00.725131Z",
     "iopub.status.busy": "2021-09-09T02:35:00.724756Z",
     "iopub.status.idle": "2021-09-09T02:35:00.733836Z",
     "shell.execute_reply": "2021-09-09T02:35:00.732787Z",
     "shell.execute_reply.started": "2021-09-09T02:35:00.725080Z"
    }
   },
   "outputs": [],
   "source": [
    "# This Python 3 environment comes with many helpful analytics libraries installed\n",
    "# It is defined by the kaggle/python Docker image: https://github.com/kaggle/docker-python\n",
    "# For example, here's several helpful packages to load\n",
    "\n",
    "import numpy as np # linear algebra\n",
    "import pandas as pd # data processing, CSV file I/O (e.g. pd.read_csv)\n",
    "\n",
    "# Input data files are available in the read-only \"../input/\" directory\n",
    "# For example, running this (by clicking run or pressing Shift+Enter) will list all files under the input directory\n",
    "\n",
    "import os\n",
    "for dirname, _, filenames in os.walk('/kaggle/input'):\n",
    "    for filename in filenames:\n",
    "        print(os.path.join(dirname, filename))\n",
    "\n",
    "# You can write up to 20GB to the current directory (/kaggle/working/) that gets preserved as output when you create a version using \"Save & Run All\" \n",
    "# You can also write temporary files to /kaggle/temp/, but they won't be saved outside of the current session"
   ]
  },
  {
   "cell_type": "code",
   "execution_count": 177,
   "metadata": {
    "execution": {
     "iopub.execute_input": "2021-09-09T02:35:00.736080Z",
     "iopub.status.busy": "2021-09-09T02:35:00.735745Z",
     "iopub.status.idle": "2021-09-09T02:35:00.749581Z",
     "shell.execute_reply": "2021-09-09T02:35:00.748414Z",
     "shell.execute_reply.started": "2021-09-09T02:35:00.736050Z"
    }
   },
   "outputs": [],
   "source": [
    "import pandas as pd\n",
    "import numpy as np\n",
    "import matplotlib.pyplot as plt\n",
    "import seaborn as sns\n",
    "from sklearn.model_selection import train_test_split,KFold,cross_val_score\n",
    "import warnings\n",
    "warnings.filterwarnings('ignore')"
   ]
  },
  {
   "cell_type": "code",
   "execution_count": 178,
   "metadata": {
    "execution": {
     "iopub.execute_input": "2021-09-09T02:35:00.751788Z",
     "iopub.status.busy": "2021-09-09T02:35:00.751470Z",
     "iopub.status.idle": "2021-09-09T02:35:00.760803Z",
     "shell.execute_reply": "2021-09-09T02:35:00.759672Z",
     "shell.execute_reply.started": "2021-09-09T02:35:00.751761Z"
    }
   },
   "outputs": [],
   "source": [
    "#turns off scientific notations\n",
    "pd.options.display.float_format = '{:.2f}'.format"
   ]
  },
  {
   "cell_type": "code",
   "execution_count": 179,
   "metadata": {
    "execution": {
     "iopub.execute_input": "2021-09-09T02:35:00.763314Z",
     "iopub.status.busy": "2021-09-09T02:35:00.762875Z",
     "iopub.status.idle": "2021-09-09T02:35:02.689182Z",
     "shell.execute_reply": "2021-09-09T02:35:02.688145Z",
     "shell.execute_reply.started": "2021-09-09T02:35:00.763275Z"
    }
   },
   "outputs": [
    {
     "data": {
      "text/html": [
       "<div>\n",
       "<style scoped>\n",
       "    .dataframe tbody tr th:only-of-type {\n",
       "        vertical-align: middle;\n",
       "    }\n",
       "\n",
       "    .dataframe tbody tr th {\n",
       "        vertical-align: top;\n",
       "    }\n",
       "\n",
       "    .dataframe thead th {\n",
       "        text-align: right;\n",
       "    }\n",
       "</style>\n",
       "<table border=\"1\" class=\"dataframe\">\n",
       "  <thead>\n",
       "    <tr style=\"text-align: right;\">\n",
       "      <th></th>\n",
       "      <th>activity_year</th>\n",
       "      <th>lei</th>\n",
       "      <th>derived_msa-md</th>\n",
       "      <th>state_code</th>\n",
       "      <th>county_code</th>\n",
       "      <th>census_tract</th>\n",
       "      <th>conforming_loan_limit</th>\n",
       "      <th>derived_loan_product_type</th>\n",
       "      <th>derived_dwelling_category</th>\n",
       "      <th>derived_ethnicity</th>\n",
       "      <th>...</th>\n",
       "      <th>denial_reason-2</th>\n",
       "      <th>denial_reason-3</th>\n",
       "      <th>denial_reason-4</th>\n",
       "      <th>tract_population</th>\n",
       "      <th>tract_minority_population_percent</th>\n",
       "      <th>ffiec_msa_md_median_family_income</th>\n",
       "      <th>tract_to_msa_income_percentage</th>\n",
       "      <th>tract_owner_occupied_units</th>\n",
       "      <th>tract_one_to_four_family_homes</th>\n",
       "      <th>tract_median_age_of_housing_units</th>\n",
       "    </tr>\n",
       "  </thead>\n",
       "  <tbody>\n",
       "    <tr>\n",
       "      <th>0</th>\n",
       "      <td>2020</td>\n",
       "      <td>549300LYRWPSYPK6S325</td>\n",
       "      <td>35004</td>\n",
       "      <td>NY</td>\n",
       "      <td>36103.00</td>\n",
       "      <td>36103201001.00</td>\n",
       "      <td>NC</td>\n",
       "      <td>VA:First Lien</td>\n",
       "      <td>Single Family (1-4 Units):Site-Built</td>\n",
       "      <td>Ethnicity Not Available</td>\n",
       "      <td>...</td>\n",
       "      <td>NaN</td>\n",
       "      <td>NaN</td>\n",
       "      <td>NaN</td>\n",
       "      <td>6065</td>\n",
       "      <td>27.55</td>\n",
       "      <td>126600</td>\n",
       "      <td>90</td>\n",
       "      <td>2164</td>\n",
       "      <td>4750</td>\n",
       "      <td>36</td>\n",
       "    </tr>\n",
       "    <tr>\n",
       "      <th>1</th>\n",
       "      <td>2020</td>\n",
       "      <td>549300LYRWPSYPK6S325</td>\n",
       "      <td>35004</td>\n",
       "      <td>NY</td>\n",
       "      <td>36103.00</td>\n",
       "      <td>36103158402.00</td>\n",
       "      <td>C</td>\n",
       "      <td>VA:First Lien</td>\n",
       "      <td>Single Family (1-4 Units):Site-Built</td>\n",
       "      <td>Ethnicity Not Available</td>\n",
       "      <td>...</td>\n",
       "      <td>NaN</td>\n",
       "      <td>NaN</td>\n",
       "      <td>NaN</td>\n",
       "      <td>4384</td>\n",
       "      <td>12.02</td>\n",
       "      <td>126600</td>\n",
       "      <td>122</td>\n",
       "      <td>1319</td>\n",
       "      <td>1479</td>\n",
       "      <td>45</td>\n",
       "    </tr>\n",
       "    <tr>\n",
       "      <th>2</th>\n",
       "      <td>2020</td>\n",
       "      <td>549300LYRWPSYPK6S325</td>\n",
       "      <td>35004</td>\n",
       "      <td>NY</td>\n",
       "      <td>36103.00</td>\n",
       "      <td>36103159506.00</td>\n",
       "      <td>C</td>\n",
       "      <td>FHA:First Lien</td>\n",
       "      <td>Single Family (1-4 Units):Site-Built</td>\n",
       "      <td>Ethnicity Not Available</td>\n",
       "      <td>...</td>\n",
       "      <td>NaN</td>\n",
       "      <td>NaN</td>\n",
       "      <td>NaN</td>\n",
       "      <td>8488</td>\n",
       "      <td>40.34</td>\n",
       "      <td>126600</td>\n",
       "      <td>74</td>\n",
       "      <td>1943</td>\n",
       "      <td>2911</td>\n",
       "      <td>37</td>\n",
       "    </tr>\n",
       "    <tr>\n",
       "      <th>3</th>\n",
       "      <td>2020</td>\n",
       "      <td>549300LYRWPSYPK6S325</td>\n",
       "      <td>15380</td>\n",
       "      <td>NY</td>\n",
       "      <td>36029.00</td>\n",
       "      <td>36029013400.00</td>\n",
       "      <td>C</td>\n",
       "      <td>VA:First Lien</td>\n",
       "      <td>Single Family (1-4 Units):Site-Built</td>\n",
       "      <td>Ethnicity Not Available</td>\n",
       "      <td>...</td>\n",
       "      <td>NaN</td>\n",
       "      <td>NaN</td>\n",
       "      <td>NaN</td>\n",
       "      <td>6364</td>\n",
       "      <td>4.98</td>\n",
       "      <td>77600</td>\n",
       "      <td>142</td>\n",
       "      <td>1802</td>\n",
       "      <td>2544</td>\n",
       "      <td>61</td>\n",
       "    </tr>\n",
       "    <tr>\n",
       "      <th>4</th>\n",
       "      <td>2020</td>\n",
       "      <td>549300LYRWPSYPK6S325</td>\n",
       "      <td>15380</td>\n",
       "      <td>NY</td>\n",
       "      <td>36029.00</td>\n",
       "      <td>36029009007.00</td>\n",
       "      <td>C</td>\n",
       "      <td>VA:First Lien</td>\n",
       "      <td>Single Family (1-4 Units):Site-Built</td>\n",
       "      <td>Ethnicity Not Available</td>\n",
       "      <td>...</td>\n",
       "      <td>NaN</td>\n",
       "      <td>NaN</td>\n",
       "      <td>NaN</td>\n",
       "      <td>7401</td>\n",
       "      <td>17.97</td>\n",
       "      <td>77600</td>\n",
       "      <td>213</td>\n",
       "      <td>2519</td>\n",
       "      <td>2759</td>\n",
       "      <td>32</td>\n",
       "    </tr>\n",
       "  </tbody>\n",
       "</table>\n",
       "<p>5 rows × 99 columns</p>\n",
       "</div>"
      ],
      "text/plain": [
       "   activity_year                   lei  derived_msa-md state_code  \\\n",
       "0           2020  549300LYRWPSYPK6S325           35004         NY   \n",
       "1           2020  549300LYRWPSYPK6S325           35004         NY   \n",
       "2           2020  549300LYRWPSYPK6S325           35004         NY   \n",
       "3           2020  549300LYRWPSYPK6S325           15380         NY   \n",
       "4           2020  549300LYRWPSYPK6S325           15380         NY   \n",
       "\n",
       "   county_code   census_tract conforming_loan_limit derived_loan_product_type  \\\n",
       "0     36103.00 36103201001.00                    NC             VA:First Lien   \n",
       "1     36103.00 36103158402.00                     C             VA:First Lien   \n",
       "2     36103.00 36103159506.00                     C            FHA:First Lien   \n",
       "3     36029.00 36029013400.00                     C             VA:First Lien   \n",
       "4     36029.00 36029009007.00                     C             VA:First Lien   \n",
       "\n",
       "              derived_dwelling_category        derived_ethnicity  ...  \\\n",
       "0  Single Family (1-4 Units):Site-Built  Ethnicity Not Available  ...   \n",
       "1  Single Family (1-4 Units):Site-Built  Ethnicity Not Available  ...   \n",
       "2  Single Family (1-4 Units):Site-Built  Ethnicity Not Available  ...   \n",
       "3  Single Family (1-4 Units):Site-Built  Ethnicity Not Available  ...   \n",
       "4  Single Family (1-4 Units):Site-Built  Ethnicity Not Available  ...   \n",
       "\n",
       "  denial_reason-2 denial_reason-3  denial_reason-4  tract_population  \\\n",
       "0             NaN             NaN              NaN              6065   \n",
       "1             NaN             NaN              NaN              4384   \n",
       "2             NaN             NaN              NaN              8488   \n",
       "3             NaN             NaN              NaN              6364   \n",
       "4             NaN             NaN              NaN              7401   \n",
       "\n",
       "   tract_minority_population_percent  ffiec_msa_md_median_family_income  \\\n",
       "0                              27.55                             126600   \n",
       "1                              12.02                             126600   \n",
       "2                              40.34                             126600   \n",
       "3                               4.98                              77600   \n",
       "4                              17.97                              77600   \n",
       "\n",
       "   tract_to_msa_income_percentage  tract_owner_occupied_units  \\\n",
       "0                              90                        2164   \n",
       "1                             122                        1319   \n",
       "2                              74                        1943   \n",
       "3                             142                        1802   \n",
       "4                             213                        2519   \n",
       "\n",
       "   tract_one_to_four_family_homes  tract_median_age_of_housing_units  \n",
       "0                            4750                                 36  \n",
       "1                            1479                                 45  \n",
       "2                            2911                                 37  \n",
       "3                            2544                                 61  \n",
       "4                            2759                                 32  \n",
       "\n",
       "[5 rows x 99 columns]"
      ]
     },
     "execution_count": 179,
     "metadata": {},
     "output_type": "execute_result"
    }
   ],
   "source": [
    "df=pd.read_csv('home_loan.csv')\n",
    "df.head()"
   ]
  },
  {
   "cell_type": "code",
   "execution_count": 180,
   "metadata": {
    "execution": {
     "iopub.execute_input": "2021-09-09T02:35:02.690784Z",
     "iopub.status.busy": "2021-09-09T02:35:02.690503Z",
     "iopub.status.idle": "2021-09-09T02:35:02.697755Z",
     "shell.execute_reply": "2021-09-09T02:35:02.696448Z",
     "shell.execute_reply.started": "2021-09-09T02:35:02.690757Z"
    }
   },
   "outputs": [
    {
     "data": {
      "text/plain": [
       "(182272, 99)"
      ]
     },
     "execution_count": 180,
     "metadata": {},
     "output_type": "execute_result"
    }
   ],
   "source": [
    "df.shape#checking shape"
   ]
  },
  {
   "cell_type": "code",
   "execution_count": 181,
   "metadata": {
    "execution": {
     "iopub.execute_input": "2021-09-09T02:35:02.699765Z",
     "iopub.status.busy": "2021-09-09T02:35:02.699359Z",
     "iopub.status.idle": "2021-09-09T02:35:03.088720Z",
     "shell.execute_reply": "2021-09-09T02:35:03.087687Z",
     "shell.execute_reply.started": "2021-09-09T02:35:02.699725Z"
    }
   },
   "outputs": [
    {
     "data": {
      "text/plain": [
       "activity_year                       0.00\n",
       "lei                                 0.00\n",
       "derived_msa-md                      0.00\n",
       "state_code                          0.00\n",
       "county_code                         0.61\n",
       "                                    ... \n",
       "ffiec_msa_md_median_family_income   0.00\n",
       "tract_to_msa_income_percentage      0.00\n",
       "tract_owner_occupied_units          0.00\n",
       "tract_one_to_four_family_homes      0.00\n",
       "tract_median_age_of_housing_units   0.00\n",
       "Length: 99, dtype: float64"
      ]
     },
     "execution_count": 181,
     "metadata": {},
     "output_type": "execute_result"
    }
   ],
   "source": [
    "null_val=df.isna().sum()/len(df)*100\n",
    "null_val"
   ]
  },
  {
   "cell_type": "code",
   "execution_count": 182,
   "metadata": {
    "execution": {
     "iopub.execute_input": "2021-09-09T02:35:03.091837Z",
     "iopub.status.busy": "2021-09-09T02:35:03.091538Z",
     "iopub.status.idle": "2021-09-09T02:35:03.100572Z",
     "shell.execute_reply": "2021-09-09T02:35:03.099577Z",
     "shell.execute_reply.started": "2021-09-09T02:35:03.091809Z"
    }
   },
   "outputs": [
    {
     "data": {
      "text/plain": [
       "county_code                      0.61\n",
       "census_tract                     0.74\n",
       "conforming_loan_limit            0.23\n",
       "loan_to_value_ratio             46.02\n",
       "interest_rate                   58.07\n",
       "rate_spread                     98.73\n",
       "total_loan_costs                69.34\n",
       "total_points_and_fees           98.73\n",
       "origination_charges             67.81\n",
       "discount_points                 87.68\n",
       "lender_credits                  89.47\n",
       "loan_term                        2.14\n",
       "prepayment_penalty_term         92.80\n",
       "intro_rate_period               79.42\n",
       "property_value                   4.81\n",
       "multifamily_affordable_units    98.68\n",
       "income                          26.09\n",
       "debt_to_income_ratio            45.42\n",
       "applicant_ethnicity-1            0.11\n",
       "applicant_ethnicity-2           97.62\n",
       "applicant_ethnicity-3           99.95\n",
       "applicant_ethnicity-4          100.00\n",
       "applicant_ethnicity-5          100.00\n",
       "co-applicant_ethnicity-1         0.02\n",
       "co-applicant_ethnicity-2        99.27\n",
       "co-applicant_ethnicity-3        99.98\n",
       "co-applicant_ethnicity-4       100.00\n",
       "co-applicant_ethnicity-5       100.00\n",
       "applicant_race-1                 0.04\n",
       "applicant_race-2                96.23\n",
       "applicant_race-3                99.79\n",
       "applicant_race-4                99.98\n",
       "applicant_race-5               100.00\n",
       "co-applicant_race-1              0.01\n",
       "co-applicant_race-2             98.69\n",
       "co-applicant_race-3             99.94\n",
       "co-applicant_race-4            100.00\n",
       "co-applicant_race-5            100.00\n",
       "applicant_age_above_62          28.64\n",
       "co-applicant_age_above_62       73.45\n",
       "aus-2                           95.27\n",
       "aus-3                           97.39\n",
       "aus-4                           99.98\n",
       "aus-5                           99.98\n",
       "denial_reason-2                 87.42\n",
       "denial_reason-3                 97.75\n",
       "denial_reason-4                 99.75\n",
       "dtype: float64"
      ]
     },
     "execution_count": 182,
     "metadata": {},
     "output_type": "execute_result"
    }
   ],
   "source": [
    "null_val[null_val>0]"
   ]
  },
  {
   "cell_type": "markdown",
   "metadata": {},
   "source": [
    "*There are many columns with null values above 50%,Hence dropping those columns*"
   ]
  },
  {
   "cell_type": "code",
   "execution_count": 183,
   "metadata": {
    "execution": {
     "iopub.execute_input": "2021-09-09T02:35:03.102664Z",
     "iopub.status.busy": "2021-09-09T02:35:03.102347Z",
     "iopub.status.idle": "2021-09-09T02:35:03.111980Z",
     "shell.execute_reply": "2021-09-09T02:35:03.110944Z",
     "shell.execute_reply.started": "2021-09-09T02:35:03.102635Z"
    }
   },
   "outputs": [],
   "source": [
    "above_50=null_val[null_val>50].index"
   ]
  },
  {
   "cell_type": "code",
   "execution_count": 184,
   "metadata": {
    "execution": {
     "iopub.execute_input": "2021-09-09T02:35:03.113739Z",
     "iopub.status.busy": "2021-09-09T02:35:03.113432Z",
     "iopub.status.idle": "2021-09-09T02:35:03.127663Z",
     "shell.execute_reply": "2021-09-09T02:35:03.126558Z",
     "shell.execute_reply.started": "2021-09-09T02:35:03.113711Z"
    }
   },
   "outputs": [
    {
     "data": {
      "text/plain": [
       "34"
      ]
     },
     "execution_count": 184,
     "metadata": {},
     "output_type": "execute_result"
    }
   ],
   "source": [
    "len(above_50)"
   ]
  },
  {
   "cell_type": "code",
   "execution_count": 185,
   "metadata": {
    "execution": {
     "iopub.execute_input": "2021-09-09T02:35:03.129479Z",
     "iopub.status.busy": "2021-09-09T02:35:03.129129Z",
     "iopub.status.idle": "2021-09-09T02:35:03.186979Z",
     "shell.execute_reply": "2021-09-09T02:35:03.185984Z",
     "shell.execute_reply.started": "2021-09-09T02:35:03.129447Z"
    }
   },
   "outputs": [],
   "source": [
    "df=df.drop(above_50,axis=1)"
   ]
  },
  {
   "cell_type": "code",
   "execution_count": 186,
   "metadata": {
    "execution": {
     "iopub.execute_input": "2021-09-09T02:35:03.188749Z",
     "iopub.status.busy": "2021-09-09T02:35:03.188428Z",
     "iopub.status.idle": "2021-09-09T02:35:03.215547Z",
     "shell.execute_reply": "2021-09-09T02:35:03.214267Z",
     "shell.execute_reply.started": "2021-09-09T02:35:03.188720Z"
    }
   },
   "outputs": [
    {
     "data": {
      "text/html": [
       "<div>\n",
       "<style scoped>\n",
       "    .dataframe tbody tr th:only-of-type {\n",
       "        vertical-align: middle;\n",
       "    }\n",
       "\n",
       "    .dataframe tbody tr th {\n",
       "        vertical-align: top;\n",
       "    }\n",
       "\n",
       "    .dataframe thead th {\n",
       "        text-align: right;\n",
       "    }\n",
       "</style>\n",
       "<table border=\"1\" class=\"dataframe\">\n",
       "  <thead>\n",
       "    <tr style=\"text-align: right;\">\n",
       "      <th></th>\n",
       "      <th>activity_year</th>\n",
       "      <th>lei</th>\n",
       "      <th>derived_msa-md</th>\n",
       "      <th>state_code</th>\n",
       "      <th>county_code</th>\n",
       "      <th>census_tract</th>\n",
       "      <th>conforming_loan_limit</th>\n",
       "      <th>derived_loan_product_type</th>\n",
       "      <th>derived_dwelling_category</th>\n",
       "      <th>derived_ethnicity</th>\n",
       "      <th>...</th>\n",
       "      <th>initially_payable_to_institution</th>\n",
       "      <th>aus-1</th>\n",
       "      <th>denial_reason-1</th>\n",
       "      <th>tract_population</th>\n",
       "      <th>tract_minority_population_percent</th>\n",
       "      <th>ffiec_msa_md_median_family_income</th>\n",
       "      <th>tract_to_msa_income_percentage</th>\n",
       "      <th>tract_owner_occupied_units</th>\n",
       "      <th>tract_one_to_four_family_homes</th>\n",
       "      <th>tract_median_age_of_housing_units</th>\n",
       "    </tr>\n",
       "  </thead>\n",
       "  <tbody>\n",
       "    <tr>\n",
       "      <th>0</th>\n",
       "      <td>2020</td>\n",
       "      <td>549300LYRWPSYPK6S325</td>\n",
       "      <td>35004</td>\n",
       "      <td>NY</td>\n",
       "      <td>36103.00</td>\n",
       "      <td>36103201001.00</td>\n",
       "      <td>NC</td>\n",
       "      <td>VA:First Lien</td>\n",
       "      <td>Single Family (1-4 Units):Site-Built</td>\n",
       "      <td>Ethnicity Not Available</td>\n",
       "      <td>...</td>\n",
       "      <td>3</td>\n",
       "      <td>6</td>\n",
       "      <td>10</td>\n",
       "      <td>6065</td>\n",
       "      <td>27.55</td>\n",
       "      <td>126600</td>\n",
       "      <td>90</td>\n",
       "      <td>2164</td>\n",
       "      <td>4750</td>\n",
       "      <td>36</td>\n",
       "    </tr>\n",
       "    <tr>\n",
       "      <th>1</th>\n",
       "      <td>2020</td>\n",
       "      <td>549300LYRWPSYPK6S325</td>\n",
       "      <td>35004</td>\n",
       "      <td>NY</td>\n",
       "      <td>36103.00</td>\n",
       "      <td>36103158402.00</td>\n",
       "      <td>C</td>\n",
       "      <td>VA:First Lien</td>\n",
       "      <td>Single Family (1-4 Units):Site-Built</td>\n",
       "      <td>Ethnicity Not Available</td>\n",
       "      <td>...</td>\n",
       "      <td>3</td>\n",
       "      <td>6</td>\n",
       "      <td>10</td>\n",
       "      <td>4384</td>\n",
       "      <td>12.02</td>\n",
       "      <td>126600</td>\n",
       "      <td>122</td>\n",
       "      <td>1319</td>\n",
       "      <td>1479</td>\n",
       "      <td>45</td>\n",
       "    </tr>\n",
       "    <tr>\n",
       "      <th>2</th>\n",
       "      <td>2020</td>\n",
       "      <td>549300LYRWPSYPK6S325</td>\n",
       "      <td>35004</td>\n",
       "      <td>NY</td>\n",
       "      <td>36103.00</td>\n",
       "      <td>36103159506.00</td>\n",
       "      <td>C</td>\n",
       "      <td>FHA:First Lien</td>\n",
       "      <td>Single Family (1-4 Units):Site-Built</td>\n",
       "      <td>Ethnicity Not Available</td>\n",
       "      <td>...</td>\n",
       "      <td>3</td>\n",
       "      <td>6</td>\n",
       "      <td>10</td>\n",
       "      <td>8488</td>\n",
       "      <td>40.34</td>\n",
       "      <td>126600</td>\n",
       "      <td>74</td>\n",
       "      <td>1943</td>\n",
       "      <td>2911</td>\n",
       "      <td>37</td>\n",
       "    </tr>\n",
       "    <tr>\n",
       "      <th>3</th>\n",
       "      <td>2020</td>\n",
       "      <td>549300LYRWPSYPK6S325</td>\n",
       "      <td>15380</td>\n",
       "      <td>NY</td>\n",
       "      <td>36029.00</td>\n",
       "      <td>36029013400.00</td>\n",
       "      <td>C</td>\n",
       "      <td>VA:First Lien</td>\n",
       "      <td>Single Family (1-4 Units):Site-Built</td>\n",
       "      <td>Ethnicity Not Available</td>\n",
       "      <td>...</td>\n",
       "      <td>3</td>\n",
       "      <td>6</td>\n",
       "      <td>10</td>\n",
       "      <td>6364</td>\n",
       "      <td>4.98</td>\n",
       "      <td>77600</td>\n",
       "      <td>142</td>\n",
       "      <td>1802</td>\n",
       "      <td>2544</td>\n",
       "      <td>61</td>\n",
       "    </tr>\n",
       "    <tr>\n",
       "      <th>4</th>\n",
       "      <td>2020</td>\n",
       "      <td>549300LYRWPSYPK6S325</td>\n",
       "      <td>15380</td>\n",
       "      <td>NY</td>\n",
       "      <td>36029.00</td>\n",
       "      <td>36029009007.00</td>\n",
       "      <td>C</td>\n",
       "      <td>VA:First Lien</td>\n",
       "      <td>Single Family (1-4 Units):Site-Built</td>\n",
       "      <td>Ethnicity Not Available</td>\n",
       "      <td>...</td>\n",
       "      <td>3</td>\n",
       "      <td>6</td>\n",
       "      <td>10</td>\n",
       "      <td>7401</td>\n",
       "      <td>17.97</td>\n",
       "      <td>77600</td>\n",
       "      <td>213</td>\n",
       "      <td>2519</td>\n",
       "      <td>2759</td>\n",
       "      <td>32</td>\n",
       "    </tr>\n",
       "  </tbody>\n",
       "</table>\n",
       "<p>5 rows × 65 columns</p>\n",
       "</div>"
      ],
      "text/plain": [
       "   activity_year                   lei  derived_msa-md state_code  \\\n",
       "0           2020  549300LYRWPSYPK6S325           35004         NY   \n",
       "1           2020  549300LYRWPSYPK6S325           35004         NY   \n",
       "2           2020  549300LYRWPSYPK6S325           35004         NY   \n",
       "3           2020  549300LYRWPSYPK6S325           15380         NY   \n",
       "4           2020  549300LYRWPSYPK6S325           15380         NY   \n",
       "\n",
       "   county_code   census_tract conforming_loan_limit derived_loan_product_type  \\\n",
       "0     36103.00 36103201001.00                    NC             VA:First Lien   \n",
       "1     36103.00 36103158402.00                     C             VA:First Lien   \n",
       "2     36103.00 36103159506.00                     C            FHA:First Lien   \n",
       "3     36029.00 36029013400.00                     C             VA:First Lien   \n",
       "4     36029.00 36029009007.00                     C             VA:First Lien   \n",
       "\n",
       "              derived_dwelling_category        derived_ethnicity  ...  \\\n",
       "0  Single Family (1-4 Units):Site-Built  Ethnicity Not Available  ...   \n",
       "1  Single Family (1-4 Units):Site-Built  Ethnicity Not Available  ...   \n",
       "2  Single Family (1-4 Units):Site-Built  Ethnicity Not Available  ...   \n",
       "3  Single Family (1-4 Units):Site-Built  Ethnicity Not Available  ...   \n",
       "4  Single Family (1-4 Units):Site-Built  Ethnicity Not Available  ...   \n",
       "\n",
       "  initially_payable_to_institution aus-1  denial_reason-1  tract_population  \\\n",
       "0                                3     6               10              6065   \n",
       "1                                3     6               10              4384   \n",
       "2                                3     6               10              8488   \n",
       "3                                3     6               10              6364   \n",
       "4                                3     6               10              7401   \n",
       "\n",
       "   tract_minority_population_percent  ffiec_msa_md_median_family_income  \\\n",
       "0                              27.55                             126600   \n",
       "1                              12.02                             126600   \n",
       "2                              40.34                             126600   \n",
       "3                               4.98                              77600   \n",
       "4                              17.97                              77600   \n",
       "\n",
       "   tract_to_msa_income_percentage  tract_owner_occupied_units  \\\n",
       "0                              90                        2164   \n",
       "1                             122                        1319   \n",
       "2                              74                        1943   \n",
       "3                             142                        1802   \n",
       "4                             213                        2519   \n",
       "\n",
       "   tract_one_to_four_family_homes  tract_median_age_of_housing_units  \n",
       "0                            4750                                 36  \n",
       "1                            1479                                 45  \n",
       "2                            2911                                 37  \n",
       "3                            2544                                 61  \n",
       "4                            2759                                 32  \n",
       "\n",
       "[5 rows x 65 columns]"
      ]
     },
     "execution_count": 186,
     "metadata": {},
     "output_type": "execute_result"
    }
   ],
   "source": [
    "df.head()"
   ]
  },
  {
   "cell_type": "markdown",
   "metadata": {},
   "source": [
    "**Note: The dataset consist of redundant columns mostly named as derived columns which are generalized form of the original columns.These columns must be romoved.**"
   ]
  },
  {
   "cell_type": "code",
   "execution_count": 187,
   "metadata": {
    "execution": {
     "iopub.execute_input": "2021-09-09T02:35:03.217289Z",
     "iopub.status.busy": "2021-09-09T02:35:03.216858Z",
     "iopub.status.idle": "2021-09-09T02:35:03.237481Z",
     "shell.execute_reply": "2021-09-09T02:35:03.236399Z",
     "shell.execute_reply.started": "2021-09-09T02:35:03.217253Z"
    }
   },
   "outputs": [
    {
     "data": {
      "text/html": [
       "<div>\n",
       "<style scoped>\n",
       "    .dataframe tbody tr th:only-of-type {\n",
       "        vertical-align: middle;\n",
       "    }\n",
       "\n",
       "    .dataframe tbody tr th {\n",
       "        vertical-align: top;\n",
       "    }\n",
       "\n",
       "    .dataframe thead th {\n",
       "        text-align: right;\n",
       "    }\n",
       "</style>\n",
       "<table border=\"1\" class=\"dataframe\">\n",
       "  <thead>\n",
       "    <tr style=\"text-align: right;\">\n",
       "      <th></th>\n",
       "      <th>applicant_race-1</th>\n",
       "      <th>derived_race</th>\n",
       "    </tr>\n",
       "  </thead>\n",
       "  <tbody>\n",
       "    <tr>\n",
       "      <th>0</th>\n",
       "      <td>7.00</td>\n",
       "      <td>Race Not Available</td>\n",
       "    </tr>\n",
       "    <tr>\n",
       "      <th>1</th>\n",
       "      <td>7.00</td>\n",
       "      <td>Race Not Available</td>\n",
       "    </tr>\n",
       "    <tr>\n",
       "      <th>2</th>\n",
       "      <td>7.00</td>\n",
       "      <td>Race Not Available</td>\n",
       "    </tr>\n",
       "    <tr>\n",
       "      <th>3</th>\n",
       "      <td>7.00</td>\n",
       "      <td>Race Not Available</td>\n",
       "    </tr>\n",
       "    <tr>\n",
       "      <th>4</th>\n",
       "      <td>7.00</td>\n",
       "      <td>Race Not Available</td>\n",
       "    </tr>\n",
       "    <tr>\n",
       "      <th>...</th>\n",
       "      <td>...</td>\n",
       "      <td>...</td>\n",
       "    </tr>\n",
       "    <tr>\n",
       "      <th>182267</th>\n",
       "      <td>7.00</td>\n",
       "      <td>Race Not Available</td>\n",
       "    </tr>\n",
       "    <tr>\n",
       "      <th>182268</th>\n",
       "      <td>7.00</td>\n",
       "      <td>Race Not Available</td>\n",
       "    </tr>\n",
       "    <tr>\n",
       "      <th>182269</th>\n",
       "      <td>5.00</td>\n",
       "      <td>White</td>\n",
       "    </tr>\n",
       "    <tr>\n",
       "      <th>182270</th>\n",
       "      <td>5.00</td>\n",
       "      <td>White</td>\n",
       "    </tr>\n",
       "    <tr>\n",
       "      <th>182271</th>\n",
       "      <td>7.00</td>\n",
       "      <td>Race Not Available</td>\n",
       "    </tr>\n",
       "  </tbody>\n",
       "</table>\n",
       "<p>182272 rows × 2 columns</p>\n",
       "</div>"
      ],
      "text/plain": [
       "        applicant_race-1        derived_race\n",
       "0                   7.00  Race Not Available\n",
       "1                   7.00  Race Not Available\n",
       "2                   7.00  Race Not Available\n",
       "3                   7.00  Race Not Available\n",
       "4                   7.00  Race Not Available\n",
       "...                  ...                 ...\n",
       "182267              7.00  Race Not Available\n",
       "182268              7.00  Race Not Available\n",
       "182269              5.00               White\n",
       "182270              5.00               White\n",
       "182271              7.00  Race Not Available\n",
       "\n",
       "[182272 rows x 2 columns]"
      ]
     },
     "execution_count": 187,
     "metadata": {},
     "output_type": "execute_result"
    }
   ],
   "source": [
    "#these two columns represent the same field.most derived columns are gathered from original ones.\n",
    "df[['applicant_race-1','derived_race']]"
   ]
  },
  {
   "cell_type": "code",
   "execution_count": 188,
   "metadata": {
    "execution": {
     "iopub.execute_input": "2021-09-09T02:35:03.239523Z",
     "iopub.status.busy": "2021-09-09T02:35:03.239021Z",
     "iopub.status.idle": "2021-09-09T02:35:03.253804Z",
     "shell.execute_reply": "2021-09-09T02:35:03.252736Z",
     "shell.execute_reply.started": "2021-09-09T02:35:03.239485Z"
    }
   },
   "outputs": [
    {
     "data": {
      "text/plain": [
       "3    107630\n",
       "6     74642\n",
       "Name: action_taken, dtype: int64"
      ]
     },
     "execution_count": 188,
     "metadata": {},
     "output_type": "execute_result"
    }
   ],
   "source": [
    "df['action_taken'].value_counts()"
   ]
  },
  {
   "cell_type": "code",
   "execution_count": 189,
   "metadata": {
    "execution": {
     "iopub.execute_input": "2021-09-09T02:35:03.255878Z",
     "iopub.status.busy": "2021-09-09T02:35:03.255271Z",
     "iopub.status.idle": "2021-09-09T02:35:03.303849Z",
     "shell.execute_reply": "2021-09-09T02:35:03.302883Z",
     "shell.execute_reply.started": "2021-09-09T02:35:03.255828Z"
    }
   },
   "outputs": [
    {
     "data": {
      "text/plain": [
       "(18, 9)"
      ]
     },
     "execution_count": 189,
     "metadata": {},
     "output_type": "execute_result"
    }
   ],
   "source": [
    "df['applicant_race-1'].nunique(),df['derived_race'].nunique()"
   ]
  },
  {
   "cell_type": "code",
   "execution_count": null,
   "metadata": {},
   "outputs": [],
   "source": []
  },
  {
   "cell_type": "code",
   "execution_count": 190,
   "metadata": {
    "execution": {
     "iopub.execute_input": "2021-09-09T02:35:03.307939Z",
     "iopub.status.busy": "2021-09-09T02:35:03.307506Z",
     "iopub.status.idle": "2021-09-09T02:35:03.371414Z",
     "shell.execute_reply": "2021-09-09T02:35:03.370372Z",
     "shell.execute_reply.started": "2021-09-09T02:35:03.307908Z"
    }
   },
   "outputs": [
    {
     "data": {
      "text/html": [
       "<div>\n",
       "<style scoped>\n",
       "    .dataframe tbody tr th:only-of-type {\n",
       "        vertical-align: middle;\n",
       "    }\n",
       "\n",
       "    .dataframe tbody tr th {\n",
       "        vertical-align: top;\n",
       "    }\n",
       "\n",
       "    .dataframe thead th {\n",
       "        text-align: right;\n",
       "    }\n",
       "</style>\n",
       "<table border=\"1\" class=\"dataframe\">\n",
       "  <thead>\n",
       "    <tr style=\"text-align: right;\">\n",
       "      <th>derived_race</th>\n",
       "      <th>2 or more minority races</th>\n",
       "      <th>American Indian or Alaska Native</th>\n",
       "      <th>Asian</th>\n",
       "      <th>Black or African American</th>\n",
       "      <th>Joint</th>\n",
       "      <th>Native Hawaiian or Other Pacific Islander</th>\n",
       "      <th>Race Not Available</th>\n",
       "      <th>White</th>\n",
       "    </tr>\n",
       "    <tr>\n",
       "      <th>applicant_race-1</th>\n",
       "      <th></th>\n",
       "      <th></th>\n",
       "      <th></th>\n",
       "      <th></th>\n",
       "      <th></th>\n",
       "      <th></th>\n",
       "      <th></th>\n",
       "      <th></th>\n",
       "    </tr>\n",
       "  </thead>\n",
       "  <tbody>\n",
       "    <tr>\n",
       "      <th>1.00</th>\n",
       "      <td>152</td>\n",
       "      <td>625</td>\n",
       "      <td>0</td>\n",
       "      <td>0</td>\n",
       "      <td>120</td>\n",
       "      <td>0</td>\n",
       "      <td>0</td>\n",
       "      <td>0</td>\n",
       "    </tr>\n",
       "    <tr>\n",
       "      <th>2.00</th>\n",
       "      <td>72</td>\n",
       "      <td>0</td>\n",
       "      <td>9213</td>\n",
       "      <td>0</td>\n",
       "      <td>356</td>\n",
       "      <td>0</td>\n",
       "      <td>0</td>\n",
       "      <td>0</td>\n",
       "    </tr>\n",
       "    <tr>\n",
       "      <th>3.00</th>\n",
       "      <td>68</td>\n",
       "      <td>0</td>\n",
       "      <td>0</td>\n",
       "      <td>11222</td>\n",
       "      <td>285</td>\n",
       "      <td>0</td>\n",
       "      <td>0</td>\n",
       "      <td>0</td>\n",
       "    </tr>\n",
       "    <tr>\n",
       "      <th>4.00</th>\n",
       "      <td>4</td>\n",
       "      <td>0</td>\n",
       "      <td>0</td>\n",
       "      <td>0</td>\n",
       "      <td>24</td>\n",
       "      <td>250</td>\n",
       "      <td>0</td>\n",
       "      <td>0</td>\n",
       "    </tr>\n",
       "    <tr>\n",
       "      <th>5.00</th>\n",
       "      <td>11</td>\n",
       "      <td>1</td>\n",
       "      <td>108</td>\n",
       "      <td>2</td>\n",
       "      <td>864</td>\n",
       "      <td>23</td>\n",
       "      <td>0</td>\n",
       "      <td>83635</td>\n",
       "    </tr>\n",
       "    <tr>\n",
       "      <th>6.00</th>\n",
       "      <td>0</td>\n",
       "      <td>0</td>\n",
       "      <td>0</td>\n",
       "      <td>0</td>\n",
       "      <td>0</td>\n",
       "      <td>0</td>\n",
       "      <td>22637</td>\n",
       "      <td>0</td>\n",
       "    </tr>\n",
       "    <tr>\n",
       "      <th>7.00</th>\n",
       "      <td>0</td>\n",
       "      <td>0</td>\n",
       "      <td>0</td>\n",
       "      <td>0</td>\n",
       "      <td>0</td>\n",
       "      <td>0</td>\n",
       "      <td>50285</td>\n",
       "      <td>0</td>\n",
       "    </tr>\n",
       "    <tr>\n",
       "      <th>21.00</th>\n",
       "      <td>4</td>\n",
       "      <td>0</td>\n",
       "      <td>875</td>\n",
       "      <td>0</td>\n",
       "      <td>14</td>\n",
       "      <td>0</td>\n",
       "      <td>0</td>\n",
       "      <td>0</td>\n",
       "    </tr>\n",
       "    <tr>\n",
       "      <th>22.00</th>\n",
       "      <td>0</td>\n",
       "      <td>0</td>\n",
       "      <td>395</td>\n",
       "      <td>0</td>\n",
       "      <td>8</td>\n",
       "      <td>0</td>\n",
       "      <td>0</td>\n",
       "      <td>0</td>\n",
       "    </tr>\n",
       "    <tr>\n",
       "      <th>23.00</th>\n",
       "      <td>0</td>\n",
       "      <td>0</td>\n",
       "      <td>114</td>\n",
       "      <td>0</td>\n",
       "      <td>8</td>\n",
       "      <td>0</td>\n",
       "      <td>0</td>\n",
       "      <td>0</td>\n",
       "    </tr>\n",
       "    <tr>\n",
       "      <th>24.00</th>\n",
       "      <td>0</td>\n",
       "      <td>0</td>\n",
       "      <td>13</td>\n",
       "      <td>0</td>\n",
       "      <td>1</td>\n",
       "      <td>0</td>\n",
       "      <td>0</td>\n",
       "      <td>0</td>\n",
       "    </tr>\n",
       "    <tr>\n",
       "      <th>25.00</th>\n",
       "      <td>0</td>\n",
       "      <td>0</td>\n",
       "      <td>107</td>\n",
       "      <td>0</td>\n",
       "      <td>5</td>\n",
       "      <td>0</td>\n",
       "      <td>0</td>\n",
       "      <td>0</td>\n",
       "    </tr>\n",
       "    <tr>\n",
       "      <th>26.00</th>\n",
       "      <td>0</td>\n",
       "      <td>0</td>\n",
       "      <td>30</td>\n",
       "      <td>0</td>\n",
       "      <td>2</td>\n",
       "      <td>0</td>\n",
       "      <td>0</td>\n",
       "      <td>0</td>\n",
       "    </tr>\n",
       "    <tr>\n",
       "      <th>27.00</th>\n",
       "      <td>26</td>\n",
       "      <td>0</td>\n",
       "      <td>394</td>\n",
       "      <td>0</td>\n",
       "      <td>6</td>\n",
       "      <td>0</td>\n",
       "      <td>0</td>\n",
       "      <td>0</td>\n",
       "    </tr>\n",
       "    <tr>\n",
       "      <th>41.00</th>\n",
       "      <td>0</td>\n",
       "      <td>0</td>\n",
       "      <td>0</td>\n",
       "      <td>0</td>\n",
       "      <td>2</td>\n",
       "      <td>6</td>\n",
       "      <td>0</td>\n",
       "      <td>0</td>\n",
       "    </tr>\n",
       "    <tr>\n",
       "      <th>42.00</th>\n",
       "      <td>0</td>\n",
       "      <td>0</td>\n",
       "      <td>0</td>\n",
       "      <td>0</td>\n",
       "      <td>0</td>\n",
       "      <td>7</td>\n",
       "      <td>0</td>\n",
       "      <td>0</td>\n",
       "    </tr>\n",
       "    <tr>\n",
       "      <th>43.00</th>\n",
       "      <td>0</td>\n",
       "      <td>0</td>\n",
       "      <td>0</td>\n",
       "      <td>0</td>\n",
       "      <td>0</td>\n",
       "      <td>3</td>\n",
       "      <td>0</td>\n",
       "      <td>0</td>\n",
       "    </tr>\n",
       "    <tr>\n",
       "      <th>44.00</th>\n",
       "      <td>5</td>\n",
       "      <td>0</td>\n",
       "      <td>0</td>\n",
       "      <td>0</td>\n",
       "      <td>12</td>\n",
       "      <td>214</td>\n",
       "      <td>0</td>\n",
       "      <td>0</td>\n",
       "    </tr>\n",
       "  </tbody>\n",
       "</table>\n",
       "</div>"
      ],
      "text/plain": [
       "derived_race      2 or more minority races  American Indian or Alaska Native  \\\n",
       "applicant_race-1                                                               \n",
       "1.00                                   152                               625   \n",
       "2.00                                    72                                 0   \n",
       "3.00                                    68                                 0   \n",
       "4.00                                     4                                 0   \n",
       "5.00                                    11                                 1   \n",
       "6.00                                     0                                 0   \n",
       "7.00                                     0                                 0   \n",
       "21.00                                    4                                 0   \n",
       "22.00                                    0                                 0   \n",
       "23.00                                    0                                 0   \n",
       "24.00                                    0                                 0   \n",
       "25.00                                    0                                 0   \n",
       "26.00                                    0                                 0   \n",
       "27.00                                   26                                 0   \n",
       "41.00                                    0                                 0   \n",
       "42.00                                    0                                 0   \n",
       "43.00                                    0                                 0   \n",
       "44.00                                    5                                 0   \n",
       "\n",
       "derived_race      Asian  Black or African American  Joint  \\\n",
       "applicant_race-1                                            \n",
       "1.00                  0                          0    120   \n",
       "2.00               9213                          0    356   \n",
       "3.00                  0                      11222    285   \n",
       "4.00                  0                          0     24   \n",
       "5.00                108                          2    864   \n",
       "6.00                  0                          0      0   \n",
       "7.00                  0                          0      0   \n",
       "21.00               875                          0     14   \n",
       "22.00               395                          0      8   \n",
       "23.00               114                          0      8   \n",
       "24.00                13                          0      1   \n",
       "25.00               107                          0      5   \n",
       "26.00                30                          0      2   \n",
       "27.00               394                          0      6   \n",
       "41.00                 0                          0      2   \n",
       "42.00                 0                          0      0   \n",
       "43.00                 0                          0      0   \n",
       "44.00                 0                          0     12   \n",
       "\n",
       "derived_race      Native Hawaiian or Other Pacific Islander  \\\n",
       "applicant_race-1                                              \n",
       "1.00                                                      0   \n",
       "2.00                                                      0   \n",
       "3.00                                                      0   \n",
       "4.00                                                    250   \n",
       "5.00                                                     23   \n",
       "6.00                                                      0   \n",
       "7.00                                                      0   \n",
       "21.00                                                     0   \n",
       "22.00                                                     0   \n",
       "23.00                                                     0   \n",
       "24.00                                                     0   \n",
       "25.00                                                     0   \n",
       "26.00                                                     0   \n",
       "27.00                                                     0   \n",
       "41.00                                                     6   \n",
       "42.00                                                     7   \n",
       "43.00                                                     3   \n",
       "44.00                                                   214   \n",
       "\n",
       "derived_race      Race Not Available  White  \n",
       "applicant_race-1                             \n",
       "1.00                               0      0  \n",
       "2.00                               0      0  \n",
       "3.00                               0      0  \n",
       "4.00                               0      0  \n",
       "5.00                               0  83635  \n",
       "6.00                           22637      0  \n",
       "7.00                           50285      0  \n",
       "21.00                              0      0  \n",
       "22.00                              0      0  \n",
       "23.00                              0      0  \n",
       "24.00                              0      0  \n",
       "25.00                              0      0  \n",
       "26.00                              0      0  \n",
       "27.00                              0      0  \n",
       "41.00                              0      0  \n",
       "42.00                              0      0  \n",
       "43.00                              0      0  \n",
       "44.00                              0      0  "
      ]
     },
     "execution_count": 190,
     "metadata": {},
     "output_type": "execute_result"
    }
   ],
   "source": [
    "pd.crosstab(df['applicant_race-1'],df['derived_race'])"
   ]
  },
  {
   "cell_type": "markdown",
   "metadata": {},
   "source": [
    "From the above cross_tab the values 6 is 'information not provided' and 7 is 'not applicable' but they have been categorised as the same('race not available') in the derived_race.Hence dropping derived columns."
   ]
  },
  {
   "cell_type": "code",
   "execution_count": 191,
   "metadata": {
    "execution": {
     "iopub.execute_input": "2021-09-09T02:35:03.374521Z",
     "iopub.status.busy": "2021-09-09T02:35:03.374065Z",
     "iopub.status.idle": "2021-09-09T02:35:03.384069Z",
     "shell.execute_reply": "2021-09-09T02:35:03.382957Z",
     "shell.execute_reply.started": "2021-09-09T02:35:03.374477Z"
    }
   },
   "outputs": [
    {
     "data": {
      "text/plain": [
       "2    182272\n",
       "Name: preapproval, dtype: int64"
      ]
     },
     "execution_count": 191,
     "metadata": {},
     "output_type": "execute_result"
    }
   ],
   "source": [
    "df['preapproval'].value_counts()"
   ]
  },
  {
   "cell_type": "code",
   "execution_count": 192,
   "metadata": {
    "execution": {
     "iopub.execute_input": "2021-09-09T02:35:03.386371Z",
     "iopub.status.busy": "2021-09-09T02:35:03.385816Z",
     "iopub.status.idle": "2021-09-09T02:35:03.399579Z",
     "shell.execute_reply": "2021-09-09T02:35:03.398194Z",
     "shell.execute_reply.started": "2021-09-09T02:35:03.386254Z"
    }
   },
   "outputs": [
    {
     "data": {
      "text/plain": [
       "4    89267\n",
       "2    46247\n",
       "3    44926\n",
       "1     1832\n",
       "Name: co-applicant_ethnicity_observed, dtype: int64"
      ]
     },
     "execution_count": 192,
     "metadata": {},
     "output_type": "execute_result"
    }
   ],
   "source": [
    "df['co-applicant_ethnicity_observed'].value_counts()"
   ]
  },
  {
   "cell_type": "code",
   "execution_count": 193,
   "metadata": {
    "execution": {
     "iopub.execute_input": "2021-09-09T02:35:03.402286Z",
     "iopub.status.busy": "2021-09-09T02:35:03.401437Z",
     "iopub.status.idle": "2021-09-09T02:35:03.413565Z",
     "shell.execute_reply": "2021-09-09T02:35:03.412679Z",
     "shell.execute_reply.started": "2021-09-09T02:35:03.402241Z"
    }
   },
   "outputs": [
    {
     "data": {
      "text/plain": [
       "3      96.62\n",
       "2       1.35\n",
       "1111    1.24\n",
       "1       0.80\n",
       "Name: manufactured_home_secured_property_type, dtype: float64"
      ]
     },
     "execution_count": 193,
     "metadata": {},
     "output_type": "execute_result"
    }
   ],
   "source": [
    "df['manufactured_home_secured_property_type'].value_counts(normalize=True)*100"
   ]
  },
  {
   "cell_type": "code",
   "execution_count": 194,
   "metadata": {
    "execution": {
     "iopub.execute_input": "2021-09-09T02:35:03.415382Z",
     "iopub.status.busy": "2021-09-09T02:35:03.414987Z",
     "iopub.status.idle": "2021-09-09T02:35:03.463942Z",
     "shell.execute_reply": "2021-09-09T02:35:03.462807Z",
     "shell.execute_reply.started": "2021-09-09T02:35:03.415349Z"
    }
   },
   "outputs": [],
   "source": [
    "#dropping derived/unwanted/unique columns\n",
    "df=df.drop(['activity_year','state_code','preapproval','derived_race','derived_ethnicity','derived_sex'\n",
    "           ,'co-applicant_ethnicity_observed','applicant_ethnicity_observed','applicant_race_observed','co-applicant_race_observed','applicant_sex_observed','co-applicant_sex_observed'],axis=1)"
   ]
  },
  {
   "cell_type": "code",
   "execution_count": 195,
   "metadata": {
    "execution": {
     "iopub.execute_input": "2021-09-09T02:35:03.465673Z",
     "iopub.status.busy": "2021-09-09T02:35:03.465362Z",
     "iopub.status.idle": "2021-09-09T02:35:03.498079Z",
     "shell.execute_reply": "2021-09-09T02:35:03.497351Z",
     "shell.execute_reply.started": "2021-09-09T02:35:03.465645Z"
    }
   },
   "outputs": [
    {
     "data": {
      "text/html": [
       "<div>\n",
       "<style scoped>\n",
       "    .dataframe tbody tr th:only-of-type {\n",
       "        vertical-align: middle;\n",
       "    }\n",
       "\n",
       "    .dataframe tbody tr th {\n",
       "        vertical-align: top;\n",
       "    }\n",
       "\n",
       "    .dataframe thead th {\n",
       "        text-align: right;\n",
       "    }\n",
       "</style>\n",
       "<table border=\"1\" class=\"dataframe\">\n",
       "  <thead>\n",
       "    <tr style=\"text-align: right;\">\n",
       "      <th></th>\n",
       "      <th>lei</th>\n",
       "      <th>derived_msa-md</th>\n",
       "      <th>county_code</th>\n",
       "      <th>census_tract</th>\n",
       "      <th>conforming_loan_limit</th>\n",
       "      <th>derived_loan_product_type</th>\n",
       "      <th>derived_dwelling_category</th>\n",
       "      <th>action_taken</th>\n",
       "      <th>purchaser_type</th>\n",
       "      <th>loan_type</th>\n",
       "      <th>...</th>\n",
       "      <th>initially_payable_to_institution</th>\n",
       "      <th>aus-1</th>\n",
       "      <th>denial_reason-1</th>\n",
       "      <th>tract_population</th>\n",
       "      <th>tract_minority_population_percent</th>\n",
       "      <th>ffiec_msa_md_median_family_income</th>\n",
       "      <th>tract_to_msa_income_percentage</th>\n",
       "      <th>tract_owner_occupied_units</th>\n",
       "      <th>tract_one_to_four_family_homes</th>\n",
       "      <th>tract_median_age_of_housing_units</th>\n",
       "    </tr>\n",
       "  </thead>\n",
       "  <tbody>\n",
       "    <tr>\n",
       "      <th>0</th>\n",
       "      <td>549300LYRWPSYPK6S325</td>\n",
       "      <td>35004</td>\n",
       "      <td>36103.00</td>\n",
       "      <td>36103201001.00</td>\n",
       "      <td>NC</td>\n",
       "      <td>VA:First Lien</td>\n",
       "      <td>Single Family (1-4 Units):Site-Built</td>\n",
       "      <td>6</td>\n",
       "      <td>0</td>\n",
       "      <td>3</td>\n",
       "      <td>...</td>\n",
       "      <td>3</td>\n",
       "      <td>6</td>\n",
       "      <td>10</td>\n",
       "      <td>6065</td>\n",
       "      <td>27.55</td>\n",
       "      <td>126600</td>\n",
       "      <td>90</td>\n",
       "      <td>2164</td>\n",
       "      <td>4750</td>\n",
       "      <td>36</td>\n",
       "    </tr>\n",
       "    <tr>\n",
       "      <th>1</th>\n",
       "      <td>549300LYRWPSYPK6S325</td>\n",
       "      <td>35004</td>\n",
       "      <td>36103.00</td>\n",
       "      <td>36103158402.00</td>\n",
       "      <td>C</td>\n",
       "      <td>VA:First Lien</td>\n",
       "      <td>Single Family (1-4 Units):Site-Built</td>\n",
       "      <td>6</td>\n",
       "      <td>2</td>\n",
       "      <td>3</td>\n",
       "      <td>...</td>\n",
       "      <td>3</td>\n",
       "      <td>6</td>\n",
       "      <td>10</td>\n",
       "      <td>4384</td>\n",
       "      <td>12.02</td>\n",
       "      <td>126600</td>\n",
       "      <td>122</td>\n",
       "      <td>1319</td>\n",
       "      <td>1479</td>\n",
       "      <td>45</td>\n",
       "    </tr>\n",
       "    <tr>\n",
       "      <th>2</th>\n",
       "      <td>549300LYRWPSYPK6S325</td>\n",
       "      <td>35004</td>\n",
       "      <td>36103.00</td>\n",
       "      <td>36103159506.00</td>\n",
       "      <td>C</td>\n",
       "      <td>FHA:First Lien</td>\n",
       "      <td>Single Family (1-4 Units):Site-Built</td>\n",
       "      <td>6</td>\n",
       "      <td>2</td>\n",
       "      <td>2</td>\n",
       "      <td>...</td>\n",
       "      <td>3</td>\n",
       "      <td>6</td>\n",
       "      <td>10</td>\n",
       "      <td>8488</td>\n",
       "      <td>40.34</td>\n",
       "      <td>126600</td>\n",
       "      <td>74</td>\n",
       "      <td>1943</td>\n",
       "      <td>2911</td>\n",
       "      <td>37</td>\n",
       "    </tr>\n",
       "    <tr>\n",
       "      <th>3</th>\n",
       "      <td>549300LYRWPSYPK6S325</td>\n",
       "      <td>15380</td>\n",
       "      <td>36029.00</td>\n",
       "      <td>36029013400.00</td>\n",
       "      <td>C</td>\n",
       "      <td>VA:First Lien</td>\n",
       "      <td>Single Family (1-4 Units):Site-Built</td>\n",
       "      <td>6</td>\n",
       "      <td>2</td>\n",
       "      <td>3</td>\n",
       "      <td>...</td>\n",
       "      <td>3</td>\n",
       "      <td>6</td>\n",
       "      <td>10</td>\n",
       "      <td>6364</td>\n",
       "      <td>4.98</td>\n",
       "      <td>77600</td>\n",
       "      <td>142</td>\n",
       "      <td>1802</td>\n",
       "      <td>2544</td>\n",
       "      <td>61</td>\n",
       "    </tr>\n",
       "    <tr>\n",
       "      <th>4</th>\n",
       "      <td>549300LYRWPSYPK6S325</td>\n",
       "      <td>15380</td>\n",
       "      <td>36029.00</td>\n",
       "      <td>36029009007.00</td>\n",
       "      <td>C</td>\n",
       "      <td>VA:First Lien</td>\n",
       "      <td>Single Family (1-4 Units):Site-Built</td>\n",
       "      <td>6</td>\n",
       "      <td>2</td>\n",
       "      <td>3</td>\n",
       "      <td>...</td>\n",
       "      <td>3</td>\n",
       "      <td>6</td>\n",
       "      <td>10</td>\n",
       "      <td>7401</td>\n",
       "      <td>17.97</td>\n",
       "      <td>77600</td>\n",
       "      <td>213</td>\n",
       "      <td>2519</td>\n",
       "      <td>2759</td>\n",
       "      <td>32</td>\n",
       "    </tr>\n",
       "  </tbody>\n",
       "</table>\n",
       "<p>5 rows × 53 columns</p>\n",
       "</div>"
      ],
      "text/plain": [
       "                    lei  derived_msa-md  county_code   census_tract  \\\n",
       "0  549300LYRWPSYPK6S325           35004     36103.00 36103201001.00   \n",
       "1  549300LYRWPSYPK6S325           35004     36103.00 36103158402.00   \n",
       "2  549300LYRWPSYPK6S325           35004     36103.00 36103159506.00   \n",
       "3  549300LYRWPSYPK6S325           15380     36029.00 36029013400.00   \n",
       "4  549300LYRWPSYPK6S325           15380     36029.00 36029009007.00   \n",
       "\n",
       "  conforming_loan_limit derived_loan_product_type  \\\n",
       "0                    NC             VA:First Lien   \n",
       "1                     C             VA:First Lien   \n",
       "2                     C            FHA:First Lien   \n",
       "3                     C             VA:First Lien   \n",
       "4                     C             VA:First Lien   \n",
       "\n",
       "              derived_dwelling_category  action_taken  purchaser_type  \\\n",
       "0  Single Family (1-4 Units):Site-Built             6               0   \n",
       "1  Single Family (1-4 Units):Site-Built             6               2   \n",
       "2  Single Family (1-4 Units):Site-Built             6               2   \n",
       "3  Single Family (1-4 Units):Site-Built             6               2   \n",
       "4  Single Family (1-4 Units):Site-Built             6               2   \n",
       "\n",
       "   loan_type  ...  initially_payable_to_institution  aus-1  denial_reason-1  \\\n",
       "0          3  ...                                 3      6               10   \n",
       "1          3  ...                                 3      6               10   \n",
       "2          2  ...                                 3      6               10   \n",
       "3          3  ...                                 3      6               10   \n",
       "4          3  ...                                 3      6               10   \n",
       "\n",
       "   tract_population  tract_minority_population_percent  \\\n",
       "0              6065                              27.55   \n",
       "1              4384                              12.02   \n",
       "2              8488                              40.34   \n",
       "3              6364                               4.98   \n",
       "4              7401                              17.97   \n",
       "\n",
       "   ffiec_msa_md_median_family_income tract_to_msa_income_percentage  \\\n",
       "0                             126600                             90   \n",
       "1                             126600                            122   \n",
       "2                             126600                             74   \n",
       "3                              77600                            142   \n",
       "4                              77600                            213   \n",
       "\n",
       "   tract_owner_occupied_units tract_one_to_four_family_homes  \\\n",
       "0                        2164                           4750   \n",
       "1                        1319                           1479   \n",
       "2                        1943                           2911   \n",
       "3                        1802                           2544   \n",
       "4                        2519                           2759   \n",
       "\n",
       "   tract_median_age_of_housing_units  \n",
       "0                                 36  \n",
       "1                                 45  \n",
       "2                                 37  \n",
       "3                                 61  \n",
       "4                                 32  \n",
       "\n",
       "[5 rows x 53 columns]"
      ]
     },
     "execution_count": 195,
     "metadata": {},
     "output_type": "execute_result"
    }
   ],
   "source": [
    "df.head()"
   ]
  },
  {
   "cell_type": "code",
   "execution_count": 196,
   "metadata": {
    "execution": {
     "iopub.execute_input": "2021-09-09T02:35:03.499819Z",
     "iopub.status.busy": "2021-09-09T02:35:03.499365Z",
     "iopub.status.idle": "2021-09-09T02:35:03.522439Z",
     "shell.execute_reply": "2021-09-09T02:35:03.521141Z",
     "shell.execute_reply.started": "2021-09-09T02:35:03.499769Z"
    }
   },
   "outputs": [
    {
     "data": {
      "text/html": [
       "<div>\n",
       "<style scoped>\n",
       "    .dataframe tbody tr th:only-of-type {\n",
       "        vertical-align: middle;\n",
       "    }\n",
       "\n",
       "    .dataframe tbody tr th {\n",
       "        vertical-align: top;\n",
       "    }\n",
       "\n",
       "    .dataframe thead th {\n",
       "        text-align: right;\n",
       "    }\n",
       "</style>\n",
       "<table border=\"1\" class=\"dataframe\">\n",
       "  <thead>\n",
       "    <tr style=\"text-align: right;\">\n",
       "      <th></th>\n",
       "      <th>derived_dwelling_category</th>\n",
       "      <th>construction_method</th>\n",
       "    </tr>\n",
       "  </thead>\n",
       "  <tbody>\n",
       "    <tr>\n",
       "      <th>0</th>\n",
       "      <td>Single Family (1-4 Units):Site-Built</td>\n",
       "      <td>1</td>\n",
       "    </tr>\n",
       "    <tr>\n",
       "      <th>1</th>\n",
       "      <td>Single Family (1-4 Units):Site-Built</td>\n",
       "      <td>1</td>\n",
       "    </tr>\n",
       "    <tr>\n",
       "      <th>2</th>\n",
       "      <td>Single Family (1-4 Units):Site-Built</td>\n",
       "      <td>1</td>\n",
       "    </tr>\n",
       "    <tr>\n",
       "      <th>3</th>\n",
       "      <td>Single Family (1-4 Units):Site-Built</td>\n",
       "      <td>1</td>\n",
       "    </tr>\n",
       "    <tr>\n",
       "      <th>4</th>\n",
       "      <td>Single Family (1-4 Units):Site-Built</td>\n",
       "      <td>1</td>\n",
       "    </tr>\n",
       "    <tr>\n",
       "      <th>...</th>\n",
       "      <td>...</td>\n",
       "      <td>...</td>\n",
       "    </tr>\n",
       "    <tr>\n",
       "      <th>182267</th>\n",
       "      <td>Single Family (1-4 Units):Site-Built</td>\n",
       "      <td>1</td>\n",
       "    </tr>\n",
       "    <tr>\n",
       "      <th>182268</th>\n",
       "      <td>Single Family (1-4 Units):Site-Built</td>\n",
       "      <td>1</td>\n",
       "    </tr>\n",
       "    <tr>\n",
       "      <th>182269</th>\n",
       "      <td>Single Family (1-4 Units):Site-Built</td>\n",
       "      <td>1</td>\n",
       "    </tr>\n",
       "    <tr>\n",
       "      <th>182270</th>\n",
       "      <td>Single Family (1-4 Units):Site-Built</td>\n",
       "      <td>1</td>\n",
       "    </tr>\n",
       "    <tr>\n",
       "      <th>182271</th>\n",
       "      <td>Single Family (1-4 Units):Site-Built</td>\n",
       "      <td>1</td>\n",
       "    </tr>\n",
       "  </tbody>\n",
       "</table>\n",
       "<p>182272 rows × 2 columns</p>\n",
       "</div>"
      ],
      "text/plain": [
       "                   derived_dwelling_category  construction_method\n",
       "0       Single Family (1-4 Units):Site-Built                    1\n",
       "1       Single Family (1-4 Units):Site-Built                    1\n",
       "2       Single Family (1-4 Units):Site-Built                    1\n",
       "3       Single Family (1-4 Units):Site-Built                    1\n",
       "4       Single Family (1-4 Units):Site-Built                    1\n",
       "...                                      ...                  ...\n",
       "182267  Single Family (1-4 Units):Site-Built                    1\n",
       "182268  Single Family (1-4 Units):Site-Built                    1\n",
       "182269  Single Family (1-4 Units):Site-Built                    1\n",
       "182270  Single Family (1-4 Units):Site-Built                    1\n",
       "182271  Single Family (1-4 Units):Site-Built                    1\n",
       "\n",
       "[182272 rows x 2 columns]"
      ]
     },
     "execution_count": 196,
     "metadata": {},
     "output_type": "execute_result"
    }
   ],
   "source": [
    "#derived_dwelling_category has the construction method information,can do feature extraction to drop construction method\n",
    "#or assign proper labels for der_dwel_category\n",
    "df[['derived_dwelling_category','construction_method']]"
   ]
  },
  {
   "cell_type": "code",
   "execution_count": 197,
   "metadata": {
    "execution": {
     "iopub.execute_input": "2021-09-09T02:35:03.524359Z",
     "iopub.status.busy": "2021-09-09T02:35:03.524018Z",
     "iopub.status.idle": "2021-09-09T02:35:03.547068Z",
     "shell.execute_reply": "2021-09-09T02:35:03.545980Z",
     "shell.execute_reply.started": "2021-09-09T02:35:03.524327Z"
    }
   },
   "outputs": [
    {
     "data": {
      "text/html": [
       "<div>\n",
       "<style scoped>\n",
       "    .dataframe tbody tr th:only-of-type {\n",
       "        vertical-align: middle;\n",
       "    }\n",
       "\n",
       "    .dataframe tbody tr th {\n",
       "        vertical-align: top;\n",
       "    }\n",
       "\n",
       "    .dataframe thead th {\n",
       "        text-align: right;\n",
       "    }\n",
       "</style>\n",
       "<table border=\"1\" class=\"dataframe\">\n",
       "  <thead>\n",
       "    <tr style=\"text-align: right;\">\n",
       "      <th></th>\n",
       "      <th>loan_type</th>\n",
       "      <th>lien_status</th>\n",
       "      <th>derived_loan_product_type</th>\n",
       "    </tr>\n",
       "  </thead>\n",
       "  <tbody>\n",
       "    <tr>\n",
       "      <th>0</th>\n",
       "      <td>3</td>\n",
       "      <td>1</td>\n",
       "      <td>VA:First Lien</td>\n",
       "    </tr>\n",
       "    <tr>\n",
       "      <th>1</th>\n",
       "      <td>3</td>\n",
       "      <td>1</td>\n",
       "      <td>VA:First Lien</td>\n",
       "    </tr>\n",
       "    <tr>\n",
       "      <th>2</th>\n",
       "      <td>2</td>\n",
       "      <td>1</td>\n",
       "      <td>FHA:First Lien</td>\n",
       "    </tr>\n",
       "    <tr>\n",
       "      <th>3</th>\n",
       "      <td>3</td>\n",
       "      <td>1</td>\n",
       "      <td>VA:First Lien</td>\n",
       "    </tr>\n",
       "    <tr>\n",
       "      <th>4</th>\n",
       "      <td>3</td>\n",
       "      <td>1</td>\n",
       "      <td>VA:First Lien</td>\n",
       "    </tr>\n",
       "    <tr>\n",
       "      <th>...</th>\n",
       "      <td>...</td>\n",
       "      <td>...</td>\n",
       "      <td>...</td>\n",
       "    </tr>\n",
       "    <tr>\n",
       "      <th>182267</th>\n",
       "      <td>2</td>\n",
       "      <td>1</td>\n",
       "      <td>FHA:First Lien</td>\n",
       "    </tr>\n",
       "    <tr>\n",
       "      <th>182268</th>\n",
       "      <td>2</td>\n",
       "      <td>1</td>\n",
       "      <td>FHA:First Lien</td>\n",
       "    </tr>\n",
       "    <tr>\n",
       "      <th>182269</th>\n",
       "      <td>1</td>\n",
       "      <td>1</td>\n",
       "      <td>Conventional:First Lien</td>\n",
       "    </tr>\n",
       "    <tr>\n",
       "      <th>182270</th>\n",
       "      <td>1</td>\n",
       "      <td>1</td>\n",
       "      <td>Conventional:First Lien</td>\n",
       "    </tr>\n",
       "    <tr>\n",
       "      <th>182271</th>\n",
       "      <td>3</td>\n",
       "      <td>1</td>\n",
       "      <td>VA:First Lien</td>\n",
       "    </tr>\n",
       "  </tbody>\n",
       "</table>\n",
       "<p>182272 rows × 3 columns</p>\n",
       "</div>"
      ],
      "text/plain": [
       "        loan_type  lien_status derived_loan_product_type\n",
       "0               3            1             VA:First Lien\n",
       "1               3            1             VA:First Lien\n",
       "2               2            1            FHA:First Lien\n",
       "3               3            1             VA:First Lien\n",
       "4               3            1             VA:First Lien\n",
       "...           ...          ...                       ...\n",
       "182267          2            1            FHA:First Lien\n",
       "182268          2            1            FHA:First Lien\n",
       "182269          1            1   Conventional:First Lien\n",
       "182270          1            1   Conventional:First Lien\n",
       "182271          3            1             VA:First Lien\n",
       "\n",
       "[182272 rows x 3 columns]"
      ]
     },
     "execution_count": 197,
     "metadata": {},
     "output_type": "execute_result"
    }
   ],
   "source": [
    "#loan_type and lien_status are derived as a single column\n",
    "df[['loan_type','lien_status','derived_loan_product_type']]"
   ]
  },
  {
   "cell_type": "code",
   "execution_count": 198,
   "metadata": {
    "execution": {
     "iopub.execute_input": "2021-09-09T02:35:03.548938Z",
     "iopub.status.busy": "2021-09-09T02:35:03.548636Z",
     "iopub.status.idle": "2021-09-09T02:35:03.619171Z",
     "shell.execute_reply": "2021-09-09T02:35:03.618199Z",
     "shell.execute_reply.started": "2021-09-09T02:35:03.548909Z"
    }
   },
   "outputs": [
    {
     "data": {
      "text/html": [
       "<div>\n",
       "<style scoped>\n",
       "    .dataframe tbody tr th:only-of-type {\n",
       "        vertical-align: middle;\n",
       "    }\n",
       "\n",
       "    .dataframe tbody tr th {\n",
       "        vertical-align: top;\n",
       "    }\n",
       "\n",
       "    .dataframe thead th {\n",
       "        text-align: right;\n",
       "    }\n",
       "</style>\n",
       "<table border=\"1\" class=\"dataframe\">\n",
       "  <thead>\n",
       "    <tr style=\"text-align: right;\">\n",
       "      <th></th>\n",
       "      <th>lei</th>\n",
       "      <th>derived_msa-md</th>\n",
       "      <th>county_code</th>\n",
       "      <th>census_tract</th>\n",
       "      <th>conforming_loan_limit</th>\n",
       "      <th>derived_dwelling_category</th>\n",
       "      <th>action_taken</th>\n",
       "      <th>purchaser_type</th>\n",
       "      <th>loan_type</th>\n",
       "      <th>loan_purpose</th>\n",
       "      <th>...</th>\n",
       "      <th>initially_payable_to_institution</th>\n",
       "      <th>aus-1</th>\n",
       "      <th>denial_reason-1</th>\n",
       "      <th>tract_population</th>\n",
       "      <th>tract_minority_population_percent</th>\n",
       "      <th>ffiec_msa_md_median_family_income</th>\n",
       "      <th>tract_to_msa_income_percentage</th>\n",
       "      <th>tract_owner_occupied_units</th>\n",
       "      <th>tract_one_to_four_family_homes</th>\n",
       "      <th>tract_median_age_of_housing_units</th>\n",
       "    </tr>\n",
       "  </thead>\n",
       "  <tbody>\n",
       "    <tr>\n",
       "      <th>0</th>\n",
       "      <td>549300LYRWPSYPK6S325</td>\n",
       "      <td>35004</td>\n",
       "      <td>36103.00</td>\n",
       "      <td>36103201001.00</td>\n",
       "      <td>NC</td>\n",
       "      <td>Single Family (1-4 Units):Site-Built</td>\n",
       "      <td>6</td>\n",
       "      <td>0</td>\n",
       "      <td>3</td>\n",
       "      <td>31</td>\n",
       "      <td>...</td>\n",
       "      <td>3</td>\n",
       "      <td>6</td>\n",
       "      <td>10</td>\n",
       "      <td>6065</td>\n",
       "      <td>27.55</td>\n",
       "      <td>126600</td>\n",
       "      <td>90</td>\n",
       "      <td>2164</td>\n",
       "      <td>4750</td>\n",
       "      <td>36</td>\n",
       "    </tr>\n",
       "    <tr>\n",
       "      <th>1</th>\n",
       "      <td>549300LYRWPSYPK6S325</td>\n",
       "      <td>35004</td>\n",
       "      <td>36103.00</td>\n",
       "      <td>36103158402.00</td>\n",
       "      <td>C</td>\n",
       "      <td>Single Family (1-4 Units):Site-Built</td>\n",
       "      <td>6</td>\n",
       "      <td>2</td>\n",
       "      <td>3</td>\n",
       "      <td>1</td>\n",
       "      <td>...</td>\n",
       "      <td>3</td>\n",
       "      <td>6</td>\n",
       "      <td>10</td>\n",
       "      <td>4384</td>\n",
       "      <td>12.02</td>\n",
       "      <td>126600</td>\n",
       "      <td>122</td>\n",
       "      <td>1319</td>\n",
       "      <td>1479</td>\n",
       "      <td>45</td>\n",
       "    </tr>\n",
       "    <tr>\n",
       "      <th>2</th>\n",
       "      <td>549300LYRWPSYPK6S325</td>\n",
       "      <td>35004</td>\n",
       "      <td>36103.00</td>\n",
       "      <td>36103159506.00</td>\n",
       "      <td>C</td>\n",
       "      <td>Single Family (1-4 Units):Site-Built</td>\n",
       "      <td>6</td>\n",
       "      <td>2</td>\n",
       "      <td>2</td>\n",
       "      <td>31</td>\n",
       "      <td>...</td>\n",
       "      <td>3</td>\n",
       "      <td>6</td>\n",
       "      <td>10</td>\n",
       "      <td>8488</td>\n",
       "      <td>40.34</td>\n",
       "      <td>126600</td>\n",
       "      <td>74</td>\n",
       "      <td>1943</td>\n",
       "      <td>2911</td>\n",
       "      <td>37</td>\n",
       "    </tr>\n",
       "    <tr>\n",
       "      <th>3</th>\n",
       "      <td>549300LYRWPSYPK6S325</td>\n",
       "      <td>15380</td>\n",
       "      <td>36029.00</td>\n",
       "      <td>36029013400.00</td>\n",
       "      <td>C</td>\n",
       "      <td>Single Family (1-4 Units):Site-Built</td>\n",
       "      <td>6</td>\n",
       "      <td>2</td>\n",
       "      <td>3</td>\n",
       "      <td>1</td>\n",
       "      <td>...</td>\n",
       "      <td>3</td>\n",
       "      <td>6</td>\n",
       "      <td>10</td>\n",
       "      <td>6364</td>\n",
       "      <td>4.98</td>\n",
       "      <td>77600</td>\n",
       "      <td>142</td>\n",
       "      <td>1802</td>\n",
       "      <td>2544</td>\n",
       "      <td>61</td>\n",
       "    </tr>\n",
       "    <tr>\n",
       "      <th>4</th>\n",
       "      <td>549300LYRWPSYPK6S325</td>\n",
       "      <td>15380</td>\n",
       "      <td>36029.00</td>\n",
       "      <td>36029009007.00</td>\n",
       "      <td>C</td>\n",
       "      <td>Single Family (1-4 Units):Site-Built</td>\n",
       "      <td>6</td>\n",
       "      <td>2</td>\n",
       "      <td>3</td>\n",
       "      <td>1</td>\n",
       "      <td>...</td>\n",
       "      <td>3</td>\n",
       "      <td>6</td>\n",
       "      <td>10</td>\n",
       "      <td>7401</td>\n",
       "      <td>17.97</td>\n",
       "      <td>77600</td>\n",
       "      <td>213</td>\n",
       "      <td>2519</td>\n",
       "      <td>2759</td>\n",
       "      <td>32</td>\n",
       "    </tr>\n",
       "  </tbody>\n",
       "</table>\n",
       "<p>5 rows × 50 columns</p>\n",
       "</div>"
      ],
      "text/plain": [
       "                    lei  derived_msa-md  county_code   census_tract  \\\n",
       "0  549300LYRWPSYPK6S325           35004     36103.00 36103201001.00   \n",
       "1  549300LYRWPSYPK6S325           35004     36103.00 36103158402.00   \n",
       "2  549300LYRWPSYPK6S325           35004     36103.00 36103159506.00   \n",
       "3  549300LYRWPSYPK6S325           15380     36029.00 36029013400.00   \n",
       "4  549300LYRWPSYPK6S325           15380     36029.00 36029009007.00   \n",
       "\n",
       "  conforming_loan_limit             derived_dwelling_category  action_taken  \\\n",
       "0                    NC  Single Family (1-4 Units):Site-Built             6   \n",
       "1                     C  Single Family (1-4 Units):Site-Built             6   \n",
       "2                     C  Single Family (1-4 Units):Site-Built             6   \n",
       "3                     C  Single Family (1-4 Units):Site-Built             6   \n",
       "4                     C  Single Family (1-4 Units):Site-Built             6   \n",
       "\n",
       "   purchaser_type  loan_type  loan_purpose  ...  \\\n",
       "0               0          3            31  ...   \n",
       "1               2          3             1  ...   \n",
       "2               2          2            31  ...   \n",
       "3               2          3             1  ...   \n",
       "4               2          3             1  ...   \n",
       "\n",
       "   initially_payable_to_institution  aus-1  denial_reason-1  tract_population  \\\n",
       "0                                 3      6               10              6065   \n",
       "1                                 3      6               10              4384   \n",
       "2                                 3      6               10              8488   \n",
       "3                                 3      6               10              6364   \n",
       "4                                 3      6               10              7401   \n",
       "\n",
       "   tract_minority_population_percent ffiec_msa_md_median_family_income  \\\n",
       "0                              27.55                            126600   \n",
       "1                              12.02                            126600   \n",
       "2                              40.34                            126600   \n",
       "3                               4.98                             77600   \n",
       "4                              17.97                             77600   \n",
       "\n",
       "   tract_to_msa_income_percentage tract_owner_occupied_units  \\\n",
       "0                              90                       2164   \n",
       "1                             122                       1319   \n",
       "2                              74                       1943   \n",
       "3                             142                       1802   \n",
       "4                             213                       2519   \n",
       "\n",
       "   tract_one_to_four_family_homes  tract_median_age_of_housing_units  \n",
       "0                            4750                                 36  \n",
       "1                            1479                                 45  \n",
       "2                            2911                                 37  \n",
       "3                            2544                                 61  \n",
       "4                            2759                                 32  \n",
       "\n",
       "[5 rows x 50 columns]"
      ]
     },
     "execution_count": 198,
     "metadata": {},
     "output_type": "execute_result"
    }
   ],
   "source": [
    "#dropping these columns for now\n",
    "df=df.drop(['applicant_age_above_62','derived_loan_product_type','construction_method'],axis=1)\n",
    "df.head()"
   ]
  },
  {
   "cell_type": "code",
   "execution_count": 199,
   "metadata": {
    "execution": {
     "iopub.execute_input": "2021-09-09T02:35:03.620741Z",
     "iopub.status.busy": "2021-09-09T02:35:03.620441Z",
     "iopub.status.idle": "2021-09-09T02:35:03.626739Z",
     "shell.execute_reply": "2021-09-09T02:35:03.626077Z",
     "shell.execute_reply.started": "2021-09-09T02:35:03.620713Z"
    }
   },
   "outputs": [
    {
     "data": {
      "text/plain": [
       "Index(['lei', 'derived_msa-md', 'county_code', 'census_tract',\n",
       "       'conforming_loan_limit', 'derived_dwelling_category', 'action_taken',\n",
       "       'purchaser_type', 'loan_type', 'loan_purpose', 'lien_status',\n",
       "       'reverse_mortgage', 'open-end_line_of_credit',\n",
       "       'business_or_commercial_purpose', 'loan_amount', 'loan_to_value_ratio',\n",
       "       'hoepa_status', 'loan_term', 'negative_amortization',\n",
       "       'interest_only_payment', 'balloon_payment',\n",
       "       'other_nonamortizing_features', 'property_value', 'occupancy_type',\n",
       "       'manufactured_home_secured_property_type',\n",
       "       'manufactured_home_land_property_interest', 'total_units', 'income',\n",
       "       'debt_to_income_ratio', 'applicant_credit_score_type',\n",
       "       'co-applicant_credit_score_type', 'applicant_ethnicity-1',\n",
       "       'co-applicant_ethnicity-1', 'applicant_race-1', 'co-applicant_race-1',\n",
       "       'applicant_sex', 'co-applicant_sex', 'applicant_age',\n",
       "       'co-applicant_age', 'submission_of_application',\n",
       "       'initially_payable_to_institution', 'aus-1', 'denial_reason-1',\n",
       "       'tract_population', 'tract_minority_population_percent',\n",
       "       'ffiec_msa_md_median_family_income', 'tract_to_msa_income_percentage',\n",
       "       'tract_owner_occupied_units', 'tract_one_to_four_family_homes',\n",
       "       'tract_median_age_of_housing_units'],\n",
       "      dtype='object')"
      ]
     },
     "execution_count": 199,
     "metadata": {},
     "output_type": "execute_result"
    }
   ],
   "source": [
    "df.columns"
   ]
  },
  {
   "cell_type": "code",
   "execution_count": 200,
   "metadata": {
    "execution": {
     "iopub.execute_input": "2021-09-09T02:35:03.628223Z",
     "iopub.status.busy": "2021-09-09T02:35:03.627755Z",
     "iopub.status.idle": "2021-09-09T02:35:03.640370Z",
     "shell.execute_reply": "2021-09-09T02:35:03.639407Z",
     "shell.execute_reply.started": "2021-09-09T02:35:03.628187Z"
    }
   },
   "outputs": [
    {
     "data": {
      "text/plain": [
       "9"
      ]
     },
     "execution_count": 200,
     "metadata": {},
     "output_type": "execute_result"
    }
   ],
   "source": [
    "num_cols=['tract_population', 'tract_minority_population_percent',\n",
    "       'ffiec_msa_md_median_family_income', 'tract_to_msa_income_percentage',\n",
    "       'tract_owner_occupied_units', 'tract_one_to_four_family_homes',\n",
    "       'tract_median_age_of_housing_units','loan_amount','income']\n",
    "len(num_cols)"
   ]
  },
  {
   "cell_type": "code",
   "execution_count": 201,
   "metadata": {
    "execution": {
     "iopub.execute_input": "2021-09-09T02:35:03.642308Z",
     "iopub.status.busy": "2021-09-09T02:35:03.641940Z",
     "iopub.status.idle": "2021-09-09T02:35:03.662909Z",
     "shell.execute_reply": "2021-09-09T02:35:03.661859Z",
     "shell.execute_reply.started": "2021-09-09T02:35:03.642276Z"
    }
   },
   "outputs": [
    {
     "data": {
      "text/plain": [
       "tract_population                       int64\n",
       "tract_minority_population_percent    float64\n",
       "ffiec_msa_md_median_family_income      int64\n",
       "tract_to_msa_income_percentage         int64\n",
       "tract_owner_occupied_units             int64\n",
       "tract_one_to_four_family_homes         int64\n",
       "tract_median_age_of_housing_units      int64\n",
       "loan_amount                          float64\n",
       "income                               float64\n",
       "dtype: object"
      ]
     },
     "execution_count": 201,
     "metadata": {},
     "output_type": "execute_result"
    }
   ],
   "source": [
    "df[num_cols].dtypes"
   ]
  },
  {
   "cell_type": "code",
   "execution_count": 202,
   "metadata": {
    "execution": {
     "iopub.execute_input": "2021-09-09T02:35:03.664510Z",
     "iopub.status.busy": "2021-09-09T02:35:03.664222Z",
     "iopub.status.idle": "2021-09-09T02:35:03.677467Z",
     "shell.execute_reply": "2021-09-09T02:35:03.676172Z",
     "shell.execute_reply.started": "2021-09-09T02:35:03.664482Z"
    }
   },
   "outputs": [
    {
     "data": {
      "text/plain": [
       "41"
      ]
     },
     "execution_count": 202,
     "metadata": {},
     "output_type": "execute_result"
    }
   ],
   "source": [
    "cat_cols=[]\n",
    "for i in df.columns:\n",
    "    if i not in num_cols:\n",
    "        cat_cols.append(i)\n",
    "len(cat_cols)"
   ]
  },
  {
   "cell_type": "code",
   "execution_count": 203,
   "metadata": {
    "execution": {
     "iopub.execute_input": "2021-09-09T02:35:03.679753Z",
     "iopub.status.busy": "2021-09-09T02:35:03.679230Z",
     "iopub.status.idle": "2021-09-09T02:35:04.108817Z",
     "shell.execute_reply": "2021-09-09T02:35:04.107716Z",
     "shell.execute_reply.started": "2021-09-09T02:35:03.679700Z"
    }
   },
   "outputs": [],
   "source": [
    "for i in cat_cols:\n",
    "    df[i]=df[i].astype('object')"
   ]
  },
  {
   "cell_type": "code",
   "execution_count": 204,
   "metadata": {
    "execution": {
     "iopub.execute_input": "2021-09-09T02:35:04.111676Z",
     "iopub.status.busy": "2021-09-09T02:35:04.111219Z",
     "iopub.status.idle": "2021-09-09T02:35:04.439372Z",
     "shell.execute_reply": "2021-09-09T02:35:04.438405Z",
     "shell.execute_reply.started": "2021-09-09T02:35:04.111630Z"
    }
   },
   "outputs": [
    {
     "data": {
      "text/plain": [
       "lei                                         object\n",
       "derived_msa-md                              object\n",
       "county_code                                 object\n",
       "census_tract                                object\n",
       "conforming_loan_limit                       object\n",
       "derived_dwelling_category                   object\n",
       "action_taken                                object\n",
       "purchaser_type                              object\n",
       "loan_type                                   object\n",
       "loan_purpose                                object\n",
       "lien_status                                 object\n",
       "reverse_mortgage                            object\n",
       "open-end_line_of_credit                     object\n",
       "business_or_commercial_purpose              object\n",
       "loan_to_value_ratio                         object\n",
       "hoepa_status                                object\n",
       "loan_term                                   object\n",
       "negative_amortization                       object\n",
       "interest_only_payment                       object\n",
       "balloon_payment                             object\n",
       "other_nonamortizing_features                object\n",
       "property_value                              object\n",
       "occupancy_type                              object\n",
       "manufactured_home_secured_property_type     object\n",
       "manufactured_home_land_property_interest    object\n",
       "total_units                                 object\n",
       "debt_to_income_ratio                        object\n",
       "applicant_credit_score_type                 object\n",
       "co-applicant_credit_score_type              object\n",
       "applicant_ethnicity-1                       object\n",
       "co-applicant_ethnicity-1                    object\n",
       "applicant_race-1                            object\n",
       "co-applicant_race-1                         object\n",
       "applicant_sex                               object\n",
       "co-applicant_sex                            object\n",
       "applicant_age                               object\n",
       "co-applicant_age                            object\n",
       "submission_of_application                   object\n",
       "initially_payable_to_institution            object\n",
       "aus-1                                       object\n",
       "denial_reason-1                             object\n",
       "dtype: object"
      ]
     },
     "execution_count": 204,
     "metadata": {},
     "output_type": "execute_result"
    }
   ],
   "source": [
    "df[cat_cols].dtypes"
   ]
  },
  {
   "cell_type": "markdown",
   "metadata": {},
   "source": [
    "**Understanding the heirarchy of columns 'derived_mas-md','county_code' and 'census_tract'**"
   ]
  },
  {
   "cell_type": "markdown",
   "metadata": {},
   "source": [
    "![](https://www.census.gov/content/dam/Census/newsroom/blogs/2014/07/understanding-geographic-relationships-counties-places-tracts-and-more/geo1.jpg)"
   ]
  },
  {
   "cell_type": "markdown",
   "metadata": {},
   "source": []
  },
  {
   "cell_type": "code",
   "execution_count": 205,
   "metadata": {
    "execution": {
     "iopub.execute_input": "2021-09-09T02:35:04.440824Z",
     "iopub.status.busy": "2021-09-09T02:35:04.440552Z",
     "iopub.status.idle": "2021-09-09T02:35:10.713545Z",
     "shell.execute_reply": "2021-09-09T02:35:10.712291Z",
     "shell.execute_reply.started": "2021-09-09T02:35:04.440798Z"
    }
   },
   "outputs": [
    {
     "data": {
      "image/png": "[encoded data removed]",
      "text/plain": [
       "<Figure size 1296x720 with 10 Axes>"
      ]
     },
     "metadata": {
      "needs_background": "light"
     },
     "output_type": "display_data"
    }
   ],
   "source": [
    "fig,ax=plt.subplots(nrows=2,ncols=5,figsize=(18,10))\n",
    "for var,sub in zip(cat_cols[4:14],ax.flatten()):\n",
    "    sns.countplot(df[var],ax=sub)\n",
    "plt.tight_layout()\n",
    "plt.show()"
   ]
  },
  {
   "cell_type": "code",
   "execution_count": 206,
   "metadata": {
    "execution": {
     "iopub.execute_input": "2021-09-09T02:35:10.715451Z",
     "iopub.status.busy": "2021-09-09T02:35:10.714955Z",
     "iopub.status.idle": "2021-09-09T02:35:11.105187Z",
     "shell.execute_reply": "2021-09-09T02:35:11.104336Z",
     "shell.execute_reply.started": "2021-09-09T02:35:10.715403Z"
    }
   },
   "outputs": [],
   "source": [
    "df['family-dwelling_type']=df['derived_dwelling_category'].replace({'Single Family (1-4 Units):Site-Built':'SFSB',\n",
    "                                                                   'Single Family (1-4 Units):Manufactured':'SFM',\n",
    "                                                                   'Multifamily:Site-Built':'MFSB',\n",
    "                                                                   'Multifamily:Manufactured':'MFM'})\n",
    "df=df.drop('derived_dwelling_category',axis=1)"
   ]
  },
  {
   "cell_type": "code",
   "execution_count": 207,
   "metadata": {
    "execution": {
     "iopub.execute_input": "2021-09-09T02:35:11.107008Z",
     "iopub.status.busy": "2021-09-09T02:35:11.106433Z",
     "iopub.status.idle": "2021-09-09T02:35:11.605601Z",
     "shell.execute_reply": "2021-09-09T02:35:11.604765Z",
     "shell.execute_reply.started": "2021-09-09T02:35:11.106965Z"
    }
   },
   "outputs": [],
   "source": [
    "df['action_taken']=df['action_taken'].replace({3:'denied',6:'approved'})\n",
    "df['purchaser_type']=df['purchaser_type'].replace({0:'NA',1:'Fannie Mae',2:'Ginnie Mae',3:'Freddie Mac',\n",
    "                                                   4:'Farmer Mac',5:'Private securitizer',6:'Commercial bank',\n",
    "                                                   71:'finance company',72:'Life insurance company',8:'Affiliate institution',\n",
    "                                                   9:'Others'})\n",
    "df['loan_type']=df['loan_type'].replace({1:'Conventional',2:'FHA',3:'VA',4:'RHS'})\n",
    "df['loan_purpose']=df['loan_purpose'].replace({1:'Home purchase',2:'Home improvement',31:'Refinancing',32:'Cash-out refinancing',\n",
    "                                               4:'Other purpose',5:'NA'})\n",
    "df['lien_status']=df['lien_status'].replace({1:'FL',2:'SL'})\n",
    "df['reverse_mortgage']=df['reverse_mortgage'].replace({1:'Yes',2:'No',1111:'Exempt'})\n",
    "df['open-end_line_of_credit']=df['open-end_line_of_credit'].replace({1:'Yes',2:'No',1111:'Exempt'})\n",
    "df['business_or_commercial_purpose']=df['business_or_commercial_purpose'].replace({1:'Yes',2:'No',1111:'Exempt'})"
   ]
  },
  {
   "cell_type": "code",
   "execution_count": 208,
   "metadata": {
    "execution": {
     "iopub.execute_input": "2021-09-09T02:35:11.607491Z",
     "iopub.status.busy": "2021-09-09T02:35:11.606855Z",
     "iopub.status.idle": "2021-09-09T02:35:11.738712Z",
     "shell.execute_reply": "2021-09-09T02:35:11.737544Z",
     "shell.execute_reply.started": "2021-09-09T02:35:11.607446Z"
    }
   },
   "outputs": [
    {
     "data": {
      "text/plain": [
       "count       96075.00\n",
       "mean         1284.30\n",
       "std        376392.97\n",
       "min             0.01\n",
       "25%            51.28\n",
       "50%            71.43\n",
       "75%            84.23\n",
       "max     116666666.67\n",
       "Name: loan_to_value_ratio, dtype: float64"
      ]
     },
     "execution_count": 208,
     "metadata": {},
     "output_type": "execute_result"
    }
   ],
   "source": [
    "df[df['loan_to_value_ratio']!='Exempt']['loan_to_value_ratio'].astype('float').describe()"
   ]
  },
  {
   "cell_type": "code",
   "execution_count": 209,
   "metadata": {
    "execution": {
     "iopub.execute_input": "2021-09-09T02:35:11.740752Z",
     "iopub.status.busy": "2021-09-09T02:35:11.740338Z",
     "iopub.status.idle": "2021-09-09T02:35:11.816092Z",
     "shell.execute_reply": "2021-09-09T02:35:11.814847Z",
     "shell.execute_reply.started": "2021-09-09T02:35:11.740708Z"
    }
   },
   "outputs": [
    {
     "data": {
      "text/plain": [
       "80.0       4239\n",
       "Exempt     2310\n",
       "80.0       1794\n",
       "75.0       1558\n",
       "96.5       1531\n",
       "           ... \n",
       "103.037       1\n",
       "84.808        1\n",
       "64.051        1\n",
       "75.962        1\n",
       "17.143        1\n",
       "Name: loan_to_value_ratio, Length: 35213, dtype: int64"
      ]
     },
     "execution_count": 209,
     "metadata": {},
     "output_type": "execute_result"
    }
   ],
   "source": [
    "df['loan_to_value_ratio'].value_counts()"
   ]
  },
  {
   "cell_type": "code",
   "execution_count": 210,
   "metadata": {
    "execution": {
     "iopub.execute_input": "2021-09-09T02:35:11.818094Z",
     "iopub.status.busy": "2021-09-09T02:35:11.817648Z",
     "iopub.status.idle": "2021-09-09T02:35:14.503818Z",
     "shell.execute_reply": "2021-09-09T02:35:14.502546Z",
     "shell.execute_reply.started": "2021-09-09T02:35:11.818047Z"
    }
   },
   "outputs": [
    {
     "data": {
      "text/plain": [
       "75-100%    36721\n",
       "50-75%     31808\n",
       "25-50%     15920\n",
       "0-25%       7170\n",
       ">100%       4456\n",
       "Exempt      2310\n",
       "Name: loan_to_value_ratio, dtype: int64"
      ]
     },
     "execution_count": 210,
     "metadata": {},
     "output_type": "execute_result"
    }
   ],
   "source": [
    "lv_i=df[df['loan_to_value_ratio']=='Exempt'].index\n",
    "df['loan_to_value_ratio']=pd.cut(df['loan_to_value_ratio'].replace({'Exempt':0}).astype('float'),bins=[0,25,50,75,100,116666668],\n",
    "                      labels=['0-25%','25-50%','50-75%','75-100%','>100%']).astype('object')\n",
    "for i in lv_i:\n",
    "    df['loan_to_value_ratio'][i]='Exempt'\n",
    "df['loan_to_value_ratio'].value_counts()"
   ]
  },
  {
   "cell_type": "code",
   "execution_count": 211,
   "metadata": {
    "execution": {
     "iopub.execute_input": "2021-09-09T02:35:14.505794Z",
     "iopub.status.busy": "2021-09-09T02:35:14.505355Z",
     "iopub.status.idle": "2021-09-09T02:35:14.578062Z",
     "shell.execute_reply": "2021-09-09T02:35:14.576960Z",
     "shell.execute_reply.started": "2021-09-09T02:35:14.505737Z"
    }
   },
   "outputs": [
    {
     "data": {
      "text/plain": [
       "count   178371.00\n",
       "mean       320.78\n",
       "std         80.01\n",
       "min          0.00\n",
       "25%        355.00\n",
       "50%        360.00\n",
       "75%        360.00\n",
       "max        713.00\n",
       "Name: loan_term, dtype: float64"
      ]
     },
     "execution_count": 211,
     "metadata": {},
     "output_type": "execute_result"
    }
   ],
   "source": [
    "df['loan_term'].replace({'Exempt':0}).astype('float').describe()"
   ]
  },
  {
   "cell_type": "code",
   "execution_count": 212,
   "metadata": {
    "execution": {
     "iopub.execute_input": "2021-09-09T02:35:14.579761Z",
     "iopub.status.busy": "2021-09-09T02:35:14.579431Z",
     "iopub.status.idle": "2021-09-09T02:35:14.648689Z",
     "shell.execute_reply": "2021-09-09T02:35:14.647586Z",
     "shell.execute_reply.started": "2021-09-09T02:35:14.579730Z"
    }
   },
   "outputs": [
    {
     "data": {
      "text/html": [
       "<div>\n",
       "<style scoped>\n",
       "    .dataframe tbody tr th:only-of-type {\n",
       "        vertical-align: middle;\n",
       "    }\n",
       "\n",
       "    .dataframe tbody tr th {\n",
       "        vertical-align: top;\n",
       "    }\n",
       "\n",
       "    .dataframe thead th {\n",
       "        text-align: right;\n",
       "    }\n",
       "</style>\n",
       "<table border=\"1\" class=\"dataframe\">\n",
       "  <thead>\n",
       "    <tr style=\"text-align: right;\">\n",
       "      <th></th>\n",
       "      <th>lei</th>\n",
       "      <th>derived_msa-md</th>\n",
       "      <th>county_code</th>\n",
       "      <th>census_tract</th>\n",
       "      <th>conforming_loan_limit</th>\n",
       "      <th>action_taken</th>\n",
       "      <th>purchaser_type</th>\n",
       "      <th>loan_type</th>\n",
       "      <th>loan_purpose</th>\n",
       "      <th>lien_status</th>\n",
       "      <th>...</th>\n",
       "      <th>aus-1</th>\n",
       "      <th>denial_reason-1</th>\n",
       "      <th>tract_population</th>\n",
       "      <th>tract_minority_population_percent</th>\n",
       "      <th>ffiec_msa_md_median_family_income</th>\n",
       "      <th>tract_to_msa_income_percentage</th>\n",
       "      <th>tract_owner_occupied_units</th>\n",
       "      <th>tract_one_to_four_family_homes</th>\n",
       "      <th>tract_median_age_of_housing_units</th>\n",
       "      <th>family-dwelling_type</th>\n",
       "    </tr>\n",
       "  </thead>\n",
       "  <tbody>\n",
       "    <tr>\n",
       "      <th>1021</th>\n",
       "      <td>254900AU2FARCMPNA566</td>\n",
       "      <td>15380</td>\n",
       "      <td>36029.00</td>\n",
       "      <td>36029015101.00</td>\n",
       "      <td>C</td>\n",
       "      <td>denied</td>\n",
       "      <td>NA</td>\n",
       "      <td>Conventional</td>\n",
       "      <td>Refinancing</td>\n",
       "      <td>FL</td>\n",
       "      <td>...</td>\n",
       "      <td>1111</td>\n",
       "      <td>1</td>\n",
       "      <td>3270</td>\n",
       "      <td>1.38</td>\n",
       "      <td>77600</td>\n",
       "      <td>113</td>\n",
       "      <td>1133</td>\n",
       "      <td>1425</td>\n",
       "      <td>49</td>\n",
       "      <td>SFSB</td>\n",
       "    </tr>\n",
       "    <tr>\n",
       "      <th>1022</th>\n",
       "      <td>254900AU2FARCMPNA566</td>\n",
       "      <td>15380</td>\n",
       "      <td>36029.00</td>\n",
       "      <td>36029011200.00</td>\n",
       "      <td>C</td>\n",
       "      <td>denied</td>\n",
       "      <td>NA</td>\n",
       "      <td>Conventional</td>\n",
       "      <td>Home purchase</td>\n",
       "      <td>FL</td>\n",
       "      <td>...</td>\n",
       "      <td>1111</td>\n",
       "      <td>3</td>\n",
       "      <td>6483</td>\n",
       "      <td>1.99</td>\n",
       "      <td>77600</td>\n",
       "      <td>110</td>\n",
       "      <td>2361</td>\n",
       "      <td>2866</td>\n",
       "      <td>41</td>\n",
       "      <td>SFM</td>\n",
       "    </tr>\n",
       "    <tr>\n",
       "      <th>1023</th>\n",
       "      <td>254900AU2FARCMPNA566</td>\n",
       "      <td>15380</td>\n",
       "      <td>36029.00</td>\n",
       "      <td>36029015003.00</td>\n",
       "      <td>C</td>\n",
       "      <td>denied</td>\n",
       "      <td>NA</td>\n",
       "      <td>Conventional</td>\n",
       "      <td>Home purchase</td>\n",
       "      <td>FL</td>\n",
       "      <td>...</td>\n",
       "      <td>1111</td>\n",
       "      <td>1</td>\n",
       "      <td>3403</td>\n",
       "      <td>3.17</td>\n",
       "      <td>77600</td>\n",
       "      <td>96</td>\n",
       "      <td>1187</td>\n",
       "      <td>1430</td>\n",
       "      <td>57</td>\n",
       "      <td>SFSB</td>\n",
       "    </tr>\n",
       "    <tr>\n",
       "      <th>1024</th>\n",
       "      <td>254900AU2FARCMPNA566</td>\n",
       "      <td>15380</td>\n",
       "      <td>36029.00</td>\n",
       "      <td>36029012003.00</td>\n",
       "      <td>C</td>\n",
       "      <td>denied</td>\n",
       "      <td>NA</td>\n",
       "      <td>Conventional</td>\n",
       "      <td>Home improvement</td>\n",
       "      <td>FL</td>\n",
       "      <td>...</td>\n",
       "      <td>1111</td>\n",
       "      <td>3</td>\n",
       "      <td>4902</td>\n",
       "      <td>3.59</td>\n",
       "      <td>77600</td>\n",
       "      <td>122</td>\n",
       "      <td>1875</td>\n",
       "      <td>2017</td>\n",
       "      <td>44</td>\n",
       "      <td>SFSB</td>\n",
       "    </tr>\n",
       "    <tr>\n",
       "      <th>1025</th>\n",
       "      <td>254900AU2FARCMPNA566</td>\n",
       "      <td>15380</td>\n",
       "      <td>36029.00</td>\n",
       "      <td>36029015001.00</td>\n",
       "      <td>C</td>\n",
       "      <td>denied</td>\n",
       "      <td>NA</td>\n",
       "      <td>Conventional</td>\n",
       "      <td>Other purpose</td>\n",
       "      <td>FL</td>\n",
       "      <td>...</td>\n",
       "      <td>1111</td>\n",
       "      <td>1</td>\n",
       "      <td>5345</td>\n",
       "      <td>1.01</td>\n",
       "      <td>77600</td>\n",
       "      <td>143</td>\n",
       "      <td>1877</td>\n",
       "      <td>2074</td>\n",
       "      <td>42</td>\n",
       "      <td>SFSB</td>\n",
       "    </tr>\n",
       "    <tr>\n",
       "      <th>...</th>\n",
       "      <td>...</td>\n",
       "      <td>...</td>\n",
       "      <td>...</td>\n",
       "      <td>...</td>\n",
       "      <td>...</td>\n",
       "      <td>...</td>\n",
       "      <td>...</td>\n",
       "      <td>...</td>\n",
       "      <td>...</td>\n",
       "      <td>...</td>\n",
       "      <td>...</td>\n",
       "      <td>...</td>\n",
       "      <td>...</td>\n",
       "      <td>...</td>\n",
       "      <td>...</td>\n",
       "      <td>...</td>\n",
       "      <td>...</td>\n",
       "      <td>...</td>\n",
       "      <td>...</td>\n",
       "      <td>...</td>\n",
       "      <td>...</td>\n",
       "    </tr>\n",
       "    <tr>\n",
       "      <th>171605</th>\n",
       "      <td>549300BDZCCADL2HG292</td>\n",
       "      <td>39100</td>\n",
       "      <td>36071.00</td>\n",
       "      <td>36071010101.00</td>\n",
       "      <td>C</td>\n",
       "      <td>denied</td>\n",
       "      <td>NA</td>\n",
       "      <td>Conventional</td>\n",
       "      <td>Refinancing</td>\n",
       "      <td>FL</td>\n",
       "      <td>...</td>\n",
       "      <td>1111</td>\n",
       "      <td>3</td>\n",
       "      <td>4891</td>\n",
       "      <td>22.63</td>\n",
       "      <td>100400</td>\n",
       "      <td>126</td>\n",
       "      <td>1361</td>\n",
       "      <td>1570</td>\n",
       "      <td>33</td>\n",
       "      <td>SFSB</td>\n",
       "    </tr>\n",
       "    <tr>\n",
       "      <th>171606</th>\n",
       "      <td>549300BDZCCADL2HG292</td>\n",
       "      <td>39100</td>\n",
       "      <td>36027.00</td>\n",
       "      <td>36027050102.00</td>\n",
       "      <td>C</td>\n",
       "      <td>denied</td>\n",
       "      <td>NA</td>\n",
       "      <td>Conventional</td>\n",
       "      <td>Cash-out refinancing</td>\n",
       "      <td>FL</td>\n",
       "      <td>...</td>\n",
       "      <td>1111</td>\n",
       "      <td>1</td>\n",
       "      <td>3823</td>\n",
       "      <td>18.18</td>\n",
       "      <td>100400</td>\n",
       "      <td>106</td>\n",
       "      <td>1193</td>\n",
       "      <td>1278</td>\n",
       "      <td>48</td>\n",
       "      <td>SFSB</td>\n",
       "    </tr>\n",
       "    <tr>\n",
       "      <th>171607</th>\n",
       "      <td>549300BDZCCADL2HG292</td>\n",
       "      <td>28740</td>\n",
       "      <td>36111.00</td>\n",
       "      <td>36111953300.00</td>\n",
       "      <td>C</td>\n",
       "      <td>denied</td>\n",
       "      <td>NA</td>\n",
       "      <td>Conventional</td>\n",
       "      <td>Cash-out refinancing</td>\n",
       "      <td>FL</td>\n",
       "      <td>...</td>\n",
       "      <td>1111</td>\n",
       "      <td>4</td>\n",
       "      <td>4507</td>\n",
       "      <td>15.66</td>\n",
       "      <td>83700</td>\n",
       "      <td>136</td>\n",
       "      <td>1320</td>\n",
       "      <td>1805</td>\n",
       "      <td>42</td>\n",
       "      <td>SFSB</td>\n",
       "    </tr>\n",
       "    <tr>\n",
       "      <th>171608</th>\n",
       "      <td>254900639EOJ1QZC2567</td>\n",
       "      <td>35004</td>\n",
       "      <td>36103.00</td>\n",
       "      <td>36103158207.00</td>\n",
       "      <td>C</td>\n",
       "      <td>denied</td>\n",
       "      <td>NA</td>\n",
       "      <td>Conventional</td>\n",
       "      <td>Refinancing</td>\n",
       "      <td>FL</td>\n",
       "      <td>...</td>\n",
       "      <td>1111</td>\n",
       "      <td>1111</td>\n",
       "      <td>4821</td>\n",
       "      <td>13.15</td>\n",
       "      <td>126600</td>\n",
       "      <td>143</td>\n",
       "      <td>1496</td>\n",
       "      <td>1703</td>\n",
       "      <td>39</td>\n",
       "      <td>SFSB</td>\n",
       "    </tr>\n",
       "    <tr>\n",
       "      <th>171609</th>\n",
       "      <td>5493008RQ8SRLTLRWX62</td>\n",
       "      <td>35614</td>\n",
       "      <td>36061.00</td>\n",
       "      <td>36061003001.00</td>\n",
       "      <td>NaN</td>\n",
       "      <td>denied</td>\n",
       "      <td>NA</td>\n",
       "      <td>Conventional</td>\n",
       "      <td>Refinancing</td>\n",
       "      <td>FL</td>\n",
       "      <td>...</td>\n",
       "      <td>1111</td>\n",
       "      <td>1111</td>\n",
       "      <td>4216</td>\n",
       "      <td>49.95</td>\n",
       "      <td>81800</td>\n",
       "      <td>51</td>\n",
       "      <td>89</td>\n",
       "      <td>99</td>\n",
       "      <td>76</td>\n",
       "      <td>MFSB</td>\n",
       "    </tr>\n",
       "  </tbody>\n",
       "</table>\n",
       "<p>2310 rows × 50 columns</p>\n",
       "</div>"
      ],
      "text/plain": [
       "                         lei derived_msa-md county_code   census_tract  \\\n",
       "1021    254900AU2FARCMPNA566          15380    36029.00 36029015101.00   \n",
       "1022    254900AU2FARCMPNA566          15380    36029.00 36029011200.00   \n",
       "1023    254900AU2FARCMPNA566          15380    36029.00 36029015003.00   \n",
       "1024    254900AU2FARCMPNA566          15380    36029.00 36029012003.00   \n",
       "1025    254900AU2FARCMPNA566          15380    36029.00 36029015001.00   \n",
       "...                      ...            ...         ...            ...   \n",
       "171605  549300BDZCCADL2HG292          39100    36071.00 36071010101.00   \n",
       "171606  549300BDZCCADL2HG292          39100    36027.00 36027050102.00   \n",
       "171607  549300BDZCCADL2HG292          28740    36111.00 36111953300.00   \n",
       "171608  254900639EOJ1QZC2567          35004    36103.00 36103158207.00   \n",
       "171609  5493008RQ8SRLTLRWX62          35614    36061.00 36061003001.00   \n",
       "\n",
       "       conforming_loan_limit action_taken purchaser_type     loan_type  \\\n",
       "1021                       C       denied             NA  Conventional   \n",
       "1022                       C       denied             NA  Conventional   \n",
       "1023                       C       denied             NA  Conventional   \n",
       "1024                       C       denied             NA  Conventional   \n",
       "1025                       C       denied             NA  Conventional   \n",
       "...                      ...          ...            ...           ...   \n",
       "171605                     C       denied             NA  Conventional   \n",
       "171606                     C       denied             NA  Conventional   \n",
       "171607                     C       denied             NA  Conventional   \n",
       "171608                     C       denied             NA  Conventional   \n",
       "171609                   NaN       denied             NA  Conventional   \n",
       "\n",
       "                loan_purpose lien_status  ... aus-1 denial_reason-1  \\\n",
       "1021             Refinancing          FL  ...  1111               1   \n",
       "1022           Home purchase          FL  ...  1111               3   \n",
       "1023           Home purchase          FL  ...  1111               1   \n",
       "1024        Home improvement          FL  ...  1111               3   \n",
       "1025           Other purpose          FL  ...  1111               1   \n",
       "...                      ...         ...  ...   ...             ...   \n",
       "171605           Refinancing          FL  ...  1111               3   \n",
       "171606  Cash-out refinancing          FL  ...  1111               1   \n",
       "171607  Cash-out refinancing          FL  ...  1111               4   \n",
       "171608           Refinancing          FL  ...  1111            1111   \n",
       "171609           Refinancing          FL  ...  1111            1111   \n",
       "\n",
       "       tract_population  tract_minority_population_percent  \\\n",
       "1021               3270                               1.38   \n",
       "1022               6483                               1.99   \n",
       "1023               3403                               3.17   \n",
       "1024               4902                               3.59   \n",
       "1025               5345                               1.01   \n",
       "...                 ...                                ...   \n",
       "171605             4891                              22.63   \n",
       "171606             3823                              18.18   \n",
       "171607             4507                              15.66   \n",
       "171608             4821                              13.15   \n",
       "171609             4216                              49.95   \n",
       "\n",
       "       ffiec_msa_md_median_family_income tract_to_msa_income_percentage  \\\n",
       "1021                               77600                            113   \n",
       "1022                               77600                            110   \n",
       "1023                               77600                             96   \n",
       "1024                               77600                            122   \n",
       "1025                               77600                            143   \n",
       "...                                  ...                            ...   \n",
       "171605                            100400                            126   \n",
       "171606                            100400                            106   \n",
       "171607                             83700                            136   \n",
       "171608                            126600                            143   \n",
       "171609                             81800                             51   \n",
       "\n",
       "       tract_owner_occupied_units tract_one_to_four_family_homes  \\\n",
       "1021                         1133                           1425   \n",
       "1022                         2361                           2866   \n",
       "1023                         1187                           1430   \n",
       "1024                         1875                           2017   \n",
       "1025                         1877                           2074   \n",
       "...                           ...                            ...   \n",
       "171605                       1361                           1570   \n",
       "171606                       1193                           1278   \n",
       "171607                       1320                           1805   \n",
       "171608                       1496                           1703   \n",
       "171609                         89                             99   \n",
       "\n",
       "       tract_median_age_of_housing_units family-dwelling_type  \n",
       "1021                                  49                 SFSB  \n",
       "1022                                  41                  SFM  \n",
       "1023                                  57                 SFSB  \n",
       "1024                                  44                 SFSB  \n",
       "1025                                  42                 SFSB  \n",
       "...                                  ...                  ...  \n",
       "171605                                33                 SFSB  \n",
       "171606                                48                 SFSB  \n",
       "171607                                42                 SFSB  \n",
       "171608                                39                 SFSB  \n",
       "171609                                76                 MFSB  \n",
       "\n",
       "[2310 rows x 50 columns]"
      ]
     },
     "execution_count": 212,
     "metadata": {},
     "output_type": "execute_result"
    }
   ],
   "source": [
    "df[df['loan_term']=='Exempt']"
   ]
  },
  {
   "cell_type": "code",
   "execution_count": 213,
   "metadata": {
    "execution": {
     "iopub.execute_input": "2021-09-09T02:35:14.650444Z",
     "iopub.status.busy": "2021-09-09T02:35:14.650133Z",
     "iopub.status.idle": "2021-09-09T02:35:14.749398Z",
     "shell.execute_reply": "2021-09-09T02:35:14.748293Z",
     "shell.execute_reply.started": "2021-09-09T02:35:14.650414Z"
    }
   },
   "outputs": [
    {
     "data": {
      "text/plain": [
       "count   178371.00\n",
       "mean        26.73\n",
       "std          6.67\n",
       "min          0.00\n",
       "25%         29.58\n",
       "50%         30.00\n",
       "75%         30.00\n",
       "max         59.42\n",
       "Name: loan_term, dtype: float64"
      ]
     },
     "execution_count": 213,
     "metadata": {},
     "output_type": "execute_result"
    }
   ],
   "source": [
    "lt_i=df[df['loan_term']=='Exempt'].index\n",
    "month=df['loan_term'].replace({'Exempt':0}).astype('float')\n",
    "year=month/12\n",
    "year.describe()"
   ]
  },
  {
   "cell_type": "code",
   "execution_count": 214,
   "metadata": {
    "execution": {
     "iopub.execute_input": "2021-09-09T02:35:14.757300Z",
     "iopub.status.busy": "2021-09-09T02:35:14.756852Z",
     "iopub.status.idle": "2021-09-09T02:35:14.770402Z",
     "shell.execute_reply": "2021-09-09T02:35:14.769064Z",
     "shell.execute_reply.started": "2021-09-09T02:35:14.757263Z"
    }
   },
   "outputs": [
    {
     "data": {
      "text/plain": [
       "30.00    131206\n",
       "15.00     15321\n",
       "20.00     13413\n",
       "25.00      6510\n",
       "10.00      3363\n",
       "          ...  \n",
       "51.17         1\n",
       "5.33          1\n",
       "4.50          1\n",
       "15.25         1\n",
       "18.50         1\n",
       "Name: loan_term, Length: 439, dtype: int64"
      ]
     },
     "execution_count": 214,
     "metadata": {},
     "output_type": "execute_result"
    }
   ],
   "source": [
    "year.value_counts()"
   ]
  },
  {
   "cell_type": "code",
   "execution_count": 215,
   "metadata": {
    "execution": {
     "iopub.execute_input": "2021-09-09T02:35:14.775936Z",
     "iopub.status.busy": "2021-09-09T02:35:14.775595Z",
     "iopub.status.idle": "2021-09-09T02:35:21.393995Z",
     "shell.execute_reply": "2021-09-09T02:35:21.392758Z",
     "shell.execute_reply.started": "2021-09-09T02:35:14.775906Z"
    }
   },
   "outputs": [
    {
     "data": {
      "text/plain": [
       "21-30     139456\n",
       "10-20      32524\n",
       "Exempt      2310\n",
       ">30         2300\n",
       "<10         1781\n",
       "Name: loan_term, dtype: int64"
      ]
     },
     "execution_count": 215,
     "metadata": {},
     "output_type": "execute_result"
    }
   ],
   "source": [
    "for i in range(len(year)):\n",
    "    if year[i]>0 and year[i]<10:\n",
    "        year[i]='<10'\n",
    "    elif year[i]>=10 and year[i]<=20:\n",
    "        year[i]='10-20'\n",
    "    elif year[i]>20 and year[i]<=30:\n",
    "        year[i]='21-30'\n",
    "    elif year[i]>30:\n",
    "        year[i]='>30'\n",
    "    elif year[i]==0:\n",
    "        year[i]='Exempt'\n",
    "year.value_counts()"
   ]
  },
  {
   "cell_type": "code",
   "execution_count": 216,
   "metadata": {
    "execution": {
     "iopub.execute_input": "2021-09-09T02:35:21.395784Z",
     "iopub.status.busy": "2021-09-09T02:35:21.395385Z",
     "iopub.status.idle": "2021-09-09T02:35:21.402252Z",
     "shell.execute_reply": "2021-09-09T02:35:21.401037Z",
     "shell.execute_reply.started": "2021-09-09T02:35:21.395741Z"
    }
   },
   "outputs": [],
   "source": [
    "df['loan_term']=year"
   ]
  },
  {
   "cell_type": "code",
   "execution_count": 217,
   "metadata": {
    "execution": {
     "iopub.execute_input": "2021-09-09T02:35:21.404290Z",
     "iopub.status.busy": "2021-09-09T02:35:21.403858Z",
     "iopub.status.idle": "2021-09-09T02:35:47.563196Z",
     "shell.execute_reply": "2021-09-09T02:35:47.561974Z",
     "shell.execute_reply.started": "2021-09-09T02:35:21.404249Z"
    }
   },
   "outputs": [
    {
     "data": {
      "image/png": "[encoded data removed]",
      "text/plain": [
       "<Figure size 1296x720 with 10 Axes>"
      ]
     },
     "metadata": {
      "needs_background": "light"
     },
     "output_type": "display_data"
    }
   ],
   "source": [
    "fig,ax=plt.subplots(nrows=2,ncols=5,figsize=(18,10))\n",
    "for var,sub in zip(cat_cols[15:25],ax.flatten()):\n",
    "    sns.countplot(df[var],ax=sub)\n",
    "plt.tight_layout()\n",
    "plt.show()"
   ]
  },
  {
   "cell_type": "code",
   "execution_count": 218,
   "metadata": {
    "execution": {
     "iopub.execute_input": "2021-09-09T02:35:47.565000Z",
     "iopub.status.busy": "2021-09-09T02:35:47.564585Z",
     "iopub.status.idle": "2021-09-09T02:35:48.190654Z",
     "shell.execute_reply": "2021-09-09T02:35:48.189782Z",
     "shell.execute_reply.started": "2021-09-09T02:35:47.564958Z"
    }
   },
   "outputs": [],
   "source": [
    "#hoepa_status indicates that whether the mortgage is high_cost mortgage or not,\n",
    "df['high_cost_mortgage']=df['hoepa_status'].replace({1:'Yes',2:'No',3:'NA'})\n",
    "df=df.drop('hoepa_status',axis=1)\n",
    "df['negative_amortization']=df['negative_amortization'].replace({1:'Yes',2:'No',1111:'Exempt'})\n",
    "df['interest_only_payment']=df['interest_only_payment'].replace({1:'Yes',2:'No',1111:'Exempt'})\n",
    "df['balloon_payment']=df['balloon_payment'].replace({1:'Yes',2:'No',1111:'Exempt'})\n",
    "df['other_nonamortizing_features']=df['other_nonamortizing_features'].replace({1:'Yes',2:'No',1111:'Exempt'})\n",
    "df['occupancy_type']=df['occupancy_type'].replace({1:'Principal residence',2:'Second residence',3:'Investment property'})"
   ]
  },
  {
   "cell_type": "code",
   "execution_count": 219,
   "metadata": {
    "execution": {
     "iopub.execute_input": "2021-09-09T02:35:48.192611Z",
     "iopub.status.busy": "2021-09-09T02:35:48.191996Z",
     "iopub.status.idle": "2021-09-09T02:35:48.361610Z",
     "shell.execute_reply": "2021-09-09T02:35:48.359136Z",
     "shell.execute_reply.started": "2021-09-09T02:35:48.192574Z"
    }
   },
   "outputs": [
    {
     "data": {
      "text/plain": [
       "0              NaN\n",
       "1        345000.00\n",
       "2        295000.00\n",
       "3        235000.00\n",
       "4        355000.00\n",
       "            ...   \n",
       "182267   505000.00\n",
       "182268   435000.00\n",
       "182269   655000.00\n",
       "182270   535000.00\n",
       "182271         NaN\n",
       "Name: property_value, Length: 179962, dtype: float64"
      ]
     },
     "execution_count": 219,
     "metadata": {},
     "output_type": "execute_result"
    }
   ],
   "source": [
    "df[df['property_value']!='Exempt']['property_value'].astype('float')"
   ]
  },
  {
   "cell_type": "code",
   "execution_count": 220,
   "metadata": {
    "execution": {
     "iopub.execute_input": "2021-09-09T02:35:48.363958Z",
     "iopub.status.busy": "2021-09-09T02:35:48.363451Z",
     "iopub.status.idle": "2021-09-09T02:35:48.696037Z",
     "shell.execute_reply": "2021-09-09T02:35:48.694959Z",
     "shell.execute_reply.started": "2021-09-09T02:35:48.363903Z"
    }
   },
   "outputs": [
    {
     "data": {
      "text/plain": [
       "<AxesSubplot:xlabel='property_value'>"
      ]
     },
     "execution_count": 220,
     "metadata": {},
     "output_type": "execute_result"
    },
    {
     "data": {
      "image/png": "[encoded data removed]",
      "text/plain": [
       "<Figure size 432x288 with 1 Axes>"
      ]
     },
     "metadata": {
      "needs_background": "light"
     },
     "output_type": "display_data"
    }
   ],
   "source": [
    "sns.boxplot(df[df['property_value']!='Exempt']['property_value'].astype('float'))"
   ]
  },
  {
   "cell_type": "code",
   "execution_count": 221,
   "metadata": {
    "execution": {
     "iopub.execute_input": "2021-09-09T02:35:48.698284Z",
     "iopub.status.busy": "2021-09-09T02:35:48.697774Z",
     "iopub.status.idle": "2021-09-09T02:35:51.075122Z",
     "shell.execute_reply": "2021-09-09T02:35:51.074194Z",
     "shell.execute_reply.started": "2021-09-09T02:35:48.698237Z"
    }
   },
   "outputs": [
    {
     "data": {
      "text/plain": [
       "100K-500K    91623\n",
       "500K-1M      52493\n",
       ">1M          16153\n",
       "<100K        10835\n",
       "Exempt        2310\n",
       "Name: property_value, dtype: int64"
      ]
     },
     "execution_count": 221,
     "metadata": {},
     "output_type": "execute_result"
    }
   ],
   "source": [
    "pv_i=df[df['property_value']=='Exempt'].index\n",
    "df['property_value']=pd.cut(df['property_value'].replace({'Exempt':0}).astype('float'),bins=[5000,100000,500000,1000000,900006000],\n",
    "                      labels=['<100K','100K-500K','500K-1M','>1M']).astype('object')\n",
    "for i in pv_i:\n",
    "    df['property_value'][i]='Exempt'\n",
    "df['property_value'].value_counts()"
   ]
  },
  {
   "cell_type": "code",
   "execution_count": 222,
   "metadata": {
    "execution": {
     "iopub.execute_input": "2021-09-09T02:35:51.076694Z",
     "iopub.status.busy": "2021-09-09T02:35:51.076385Z",
     "iopub.status.idle": "2021-09-09T02:35:51.175185Z",
     "shell.execute_reply": "2021-09-09T02:35:51.174192Z",
     "shell.execute_reply.started": "2021-09-09T02:35:51.076653Z"
    }
   },
   "outputs": [
    {
     "data": {
      "text/plain": [
       "(182272, 48)"
      ]
     },
     "execution_count": 222,
     "metadata": {},
     "output_type": "execute_result"
    }
   ],
   "source": [
    "df=df.drop(['manufactured_home_secured_property_type','manufactured_home_land_property_interest'],axis=1)\n",
    "df.shape"
   ]
  },
  {
   "cell_type": "code",
   "execution_count": 223,
   "metadata": {
    "execution": {
     "iopub.execute_input": "2021-09-09T02:35:51.176854Z",
     "iopub.status.busy": "2021-09-09T02:35:51.176548Z",
     "iopub.status.idle": "2021-09-09T02:36:01.277498Z",
     "shell.execute_reply": "2021-09-09T02:36:01.276712Z",
     "shell.execute_reply.started": "2021-09-09T02:35:51.176824Z"
    }
   },
   "outputs": [
    {
     "data": {
      "image/png": "[encoded data removed]",
      "text/plain": [
       "<Figure size 1296x720 with 16 Axes>"
      ]
     },
     "metadata": {
      "needs_background": "light"
     },
     "output_type": "display_data"
    }
   ],
   "source": [
    "fig,ax=plt.subplots(nrows=4,ncols=4,figsize=(18,10))\n",
    "for var,sub in zip(cat_cols[25:],ax.flatten()):\n",
    "    sns.countplot(df[var],ax=sub)\n",
    "plt.tight_layout()\n",
    "plt.show()"
   ]
  },
  {
   "cell_type": "code",
   "execution_count": 224,
   "metadata": {
    "execution": {
     "iopub.execute_input": "2021-09-09T02:36:01.279097Z",
     "iopub.status.busy": "2021-09-09T02:36:01.278648Z",
     "iopub.status.idle": "2021-09-09T02:36:01.524185Z",
     "shell.execute_reply": "2021-09-09T02:36:01.523310Z",
     "shell.execute_reply.started": "2021-09-09T02:36:01.279052Z"
    }
   },
   "outputs": [],
   "source": [
    "df['applicant_credit_score_type']=df['applicant_credit_score_type'].replace({1:'EB 5.0',2:'EFI',\n",
    "                                                                             3:'FICO 04',\n",
    "                                                                             4:'FICO 98',5:'Vantage 2.0',\n",
    "                                                                             6:'Vantage 3.0',7:'>1 scoring mode'\n",
    "                                                                             ,8:'Others',9:'NA',1111:'Exempt'})\n",
    "df['co-applicant_credit_score_type']=df['co-applicant_credit_score_type'].replace({1:'EB 5.0',2:'EFI',\n",
    "                                                                             3:'FICO 04',\n",
    "                                                                             4:'FICO 98',5:'Vantage 2.0',\n",
    "                                                                             6:'Vantage 3.0',7:'>1 scoring mode'\n",
    "                                                                             ,8:'Others',9:'NA',10:'No co-applicant',1111:'Exempt'})\n"
   ]
  },
  {
   "cell_type": "code",
   "execution_count": 225,
   "metadata": {
    "execution": {
     "iopub.execute_input": "2021-09-09T02:36:01.525719Z",
     "iopub.status.busy": "2021-09-09T02:36:01.525270Z",
     "iopub.status.idle": "2021-09-09T02:36:02.120980Z",
     "shell.execute_reply": "2021-09-09T02:36:02.120088Z",
     "shell.execute_reply.started": "2021-09-09T02:36:01.525674Z"
    }
   },
   "outputs": [],
   "source": [
    "df['applicant_race-1']=df['applicant_race-1'].replace({1:'American Indian',2:'Other Asian',21:'Asian Indian',22:'Chinese',23:'Filipino',\n",
    "                                                       24:'Japanese',25:'Korean',26:'Vietnamese',27:'Other Asian',3:'Black',\n",
    "                                                       4:'Hawaiian/Pacific',41:'Native Hawaiian',42:'Guamanian',43:'Samoan',\n",
    "                                                       44:'Pacific',5:'White',6:'Not provided',7:'NA'})\n",
    "df['co-applicant_race-1']=df['co-applicant_race-1'].replace({1:'American Indian',2:'Other Asian',21:'Asian Indian',22:'Chinese',23:'Filipino',\n",
    "                                                       24:'Japanese',25:'Korean',26:'Vietnamese',27:'Other Asian',3:'Black',\n",
    "                                                       4:'Hawaiian/Pacific',41:'Native Hawaiian',42:'Guamanian',43:'Samoan',\n",
    "                                                       44:'Pacific',5:'White',6:'Not provided',7:'NA',8:'No co-applicant'})"
   ]
  },
  {
   "cell_type": "code",
   "execution_count": 226,
   "metadata": {
    "execution": {
     "iopub.execute_input": "2021-09-09T02:36:02.122655Z",
     "iopub.status.busy": "2021-09-09T02:36:02.122154Z",
     "iopub.status.idle": "2021-09-09T02:36:02.422133Z",
     "shell.execute_reply": "2021-09-09T02:36:02.421275Z",
     "shell.execute_reply.started": "2021-09-09T02:36:02.122606Z"
    }
   },
   "outputs": [],
   "source": [
    "df['applicant_ethnicity-1']=df['applicant_ethnicity-1'].replace({1:'Hisp or Lat',11:'Mexican',12:'Puerto Rican',13:'Cuban',\n",
    "                                                                 14:'Other Hisp or Lat',2:'Not Hisp or Lat',3:'Not provided',\n",
    "                                                                 4:'NA'})\n",
    "df['co-applicant_ethnicity-1']=df['co-applicant_ethnicity-1'].replace({1:'Hisp or Lat',11:'Mexican',12:'Puerto Rican',13:'Cuban',\n",
    "                                                                 14:'Other Hisp or Lat',2:'Not Hisp or Lat',3:'Not provided',\n",
    "                                                                 4:'NA',5:'No co-applicant'})                                                                 "
   ]
  },
  {
   "cell_type": "code",
   "execution_count": 227,
   "metadata": {
    "execution": {
     "iopub.execute_input": "2021-09-09T02:36:02.423751Z",
     "iopub.status.busy": "2021-09-09T02:36:02.423320Z",
     "iopub.status.idle": "2021-09-09T02:36:03.004285Z",
     "shell.execute_reply": "2021-09-09T02:36:03.003175Z",
     "shell.execute_reply.started": "2021-09-09T02:36:02.423707Z"
    }
   },
   "outputs": [],
   "source": [
    "df['applicant_sex']=df['applicant_sex'].replace({1:'Male',2:'Female',3:'Not provided',4:'NA',6:'Both'})\n",
    "df['co-applicant_sex']=df['co-applicant_sex'].replace({1:'Male',2:'Female',3:'Not provided',4:'NA',6:'Both',5:'No co-applicant'})\n",
    "df['applicant_age']=df['applicant_age'].replace({'8888':'NA'})\n",
    "df['co-applicant_age']=df['co-applicant_age'].replace({'8888':'NA','9999':'No co-applicant'})\n",
    "df['submission_of_application']=df['submission_of_application'].replace({1:'Yes',2:'No',3:'NA',1111:'Exempt'})\n",
    "df['initially_payable_to_institution']=df['initially_payable_to_institution'].replace({1:'Yes',2:'No',3:'NA',1111:'Exempt'})\n",
    "df['aus-1']=df['aus-1'].replace({1:'DU',2:'LP',3:'TOTAL',4:'GUS',5:'Other',6:'NA',1111:'Exempt'})\n",
    "df['denial_reason-1']=df['denial_reason-1'].replace({1:'Debt-to-income ratio',2:'Employment history',3:'Credit history',\n",
    "                                                     4:'Collateral',5:'Insufficient cash',6:'Unverifiable information',\n",
    "                                                     7:'Credit application incomplete',8:'Mortgage insurance denied',9:'Other',\n",
    "                                                     10:'NA',1111:'Exempt'})"
   ]
  },
  {
   "cell_type": "code",
   "execution_count": 228,
   "metadata": {
    "execution": {
     "iopub.execute_input": "2021-09-09T02:36:03.005868Z",
     "iopub.status.busy": "2021-09-09T02:36:03.005552Z",
     "iopub.status.idle": "2021-09-09T02:36:03.054647Z",
     "shell.execute_reply": "2021-09-09T02:36:03.053428Z",
     "shell.execute_reply.started": "2021-09-09T02:36:03.005837Z"
    }
   },
   "outputs": [
    {
     "data": {
      "text/plain": [
       "1          122264\n",
       "1           36149\n",
       "2           14827\n",
       "2            3964\n",
       "3            2842\n",
       "4             955\n",
       "3             629\n",
       "5-24          294\n",
       "4             218\n",
       "25-49          69\n",
       "50-99          35\n",
       ">149           18\n",
       "100-149         8\n",
       "Name: total_units, dtype: int64"
      ]
     },
     "execution_count": 228,
     "metadata": {},
     "output_type": "execute_result"
    }
   ],
   "source": [
    "df['total_units'].value_counts()"
   ]
  },
  {
   "cell_type": "code",
   "execution_count": 229,
   "metadata": {
    "execution": {
     "iopub.execute_input": "2021-09-09T02:36:03.056932Z",
     "iopub.status.busy": "2021-09-09T02:36:03.056463Z",
     "iopub.status.idle": "2021-09-09T02:36:03.215757Z",
     "shell.execute_reply": "2021-09-09T02:36:03.214550Z",
     "shell.execute_reply.started": "2021-09-09T02:36:03.056885Z"
    }
   },
   "outputs": [
    {
     "data": {
      "text/plain": [
       "<5         181848\n",
       "5-24          294\n",
       "25-49          69\n",
       "50-99          35\n",
       ">149           18\n",
       "100-149         8\n",
       "Name: total_units, dtype: int64"
      ]
     },
     "execution_count": 229,
     "metadata": {},
     "output_type": "execute_result"
    }
   ],
   "source": [
    "\n",
    "df['total_units']=df['total_units'].replace({'1':'<5',1:'<5','2':'<5',2:'<5','3':'<5',3:'<5','4':'<5',4:'<5'})\n",
    "df['total_units'].value_counts()"
   ]
  },
  {
   "cell_type": "code",
   "execution_count": 230,
   "metadata": {
    "execution": {
     "iopub.execute_input": "2021-09-09T02:36:03.217414Z",
     "iopub.status.busy": "2021-09-09T02:36:03.217114Z",
     "iopub.status.idle": "2021-09-09T02:36:03.254169Z",
     "shell.execute_reply": "2021-09-09T02:36:03.253143Z",
     "shell.execute_reply.started": "2021-09-09T02:36:03.217386Z"
    }
   },
   "outputs": [],
   "source": [
    "keys=df['debt_to_income_ratio'].value_counts().index\n",
    "keys=list(keys)\n",
    "keys.remove('Exempt')\n",
    "keys.remove('>60%')"
   ]
  },
  {
   "cell_type": "code",
   "execution_count": 231,
   "metadata": {
    "execution": {
     "iopub.execute_input": "2021-09-09T02:36:03.255565Z",
     "iopub.status.busy": "2021-09-09T02:36:03.255293Z",
     "iopub.status.idle": "2021-09-09T02:36:03.271260Z",
     "shell.execute_reply": "2021-09-09T02:36:03.270276Z",
     "shell.execute_reply.started": "2021-09-09T02:36:03.255539Z"
    }
   },
   "outputs": [
    {
     "data": {
      "text/plain": [
       "{'50%-60%': '<=60',\n",
       " '20%-<30%': '<=60',\n",
       " '30%-<36%': '<=60',\n",
       " '<20%': '<=60',\n",
       " '49': '<=60',\n",
       " '44': '<=60',\n",
       " '42': '<=60',\n",
       " '43': '<=60',\n",
       " '45': '<=60',\n",
       " '41': '<=60',\n",
       " '47': '<=60',\n",
       " '48': '<=60',\n",
       " '46': '<=60',\n",
       " '40': '<=60',\n",
       " '38': '<=60',\n",
       " '39': '<=60',\n",
       " '37': '<=60',\n",
       " '36': '<=60'}"
      ]
     },
     "execution_count": 231,
     "metadata": {},
     "output_type": "execute_result"
    }
   ],
   "source": [
    "keys\n",
    "val='<=60'\n",
    "dt={}\n",
    "for i in keys:\n",
    "    dt[i]=val\n",
    "dt    "
   ]
  },
  {
   "cell_type": "code",
   "execution_count": 232,
   "metadata": {
    "execution": {
     "iopub.execute_input": "2021-09-09T02:36:03.273173Z",
     "iopub.status.busy": "2021-09-09T02:36:03.272744Z",
     "iopub.status.idle": "2021-09-09T02:36:03.666462Z",
     "shell.execute_reply": "2021-09-09T02:36:03.665429Z",
     "shell.execute_reply.started": "2021-09-09T02:36:03.273129Z"
    }
   },
   "outputs": [],
   "source": [
    "df['debt_to_income_ratio']=df['debt_to_income_ratio'].replace(dt)"
   ]
  },
  {
   "cell_type": "code",
   "execution_count": 233,
   "metadata": {
    "execution": {
     "iopub.execute_input": "2021-09-09T02:36:03.670159Z",
     "iopub.status.busy": "2021-09-09T02:36:03.669841Z",
     "iopub.status.idle": "2021-09-09T02:36:04.637079Z",
     "shell.execute_reply": "2021-09-09T02:36:04.636320Z",
     "shell.execute_reply.started": "2021-09-09T02:36:03.670130Z"
    }
   },
   "outputs": [
    {
     "data": {
      "text/plain": [
       "lei                                   03D0JEWFDFUS0SEEKG89\n",
       "derived_msa-md                                           0\n",
       "county_code                                       36001.00\n",
       "census_tract                                36001000100.00\n",
       "action_taken                                      approved\n",
       "purchaser_type                       Affiliate institution\n",
       "loan_type                                     Conventional\n",
       "loan_purpose                          Cash-out refinancing\n",
       "lien_status                                             FL\n",
       "reverse_mortgage                                    Exempt\n",
       "open-end_line_of_credit                             Exempt\n",
       "business_or_commercial_purpose                      Exempt\n",
       "loan_amount                                        5000.00\n",
       "negative_amortization                               Exempt\n",
       "interest_only_payment                               Exempt\n",
       "balloon_payment                                     Exempt\n",
       "other_nonamortizing_features                        Exempt\n",
       "occupancy_type                         Investment property\n",
       "total_units                                        100-149\n",
       "income                                           -31312.00\n",
       "applicant_credit_score_type                >1 scoring mode\n",
       "co-applicant_credit_score_type             >1 scoring mode\n",
       "applicant_sex                                         Both\n",
       "co-applicant_sex                                      Both\n",
       "applicant_age                                        25-34\n",
       "co-applicant_age                                     25-34\n",
       "submission_of_application                           Exempt\n",
       "initially_payable_to_institution                    Exempt\n",
       "aus-1                                                   DU\n",
       "denial_reason-1                                 Collateral\n",
       "tract_population                                         0\n",
       "tract_minority_population_percent                     0.00\n",
       "ffiec_msa_md_median_family_income                        0\n",
       "tract_to_msa_income_percentage                           0\n",
       "tract_owner_occupied_units                               0\n",
       "tract_one_to_four_family_homes                           0\n",
       "tract_median_age_of_housing_units                        0\n",
       "family-dwelling_type                                   MFM\n",
       "high_cost_mortgage                                      NA\n",
       "dtype: object"
      ]
     },
     "execution_count": 233,
     "metadata": {},
     "output_type": "execute_result"
    }
   ],
   "source": [
    "df.min()"
   ]
  },
  {
   "cell_type": "code",
   "execution_count": 234,
   "metadata": {
    "execution": {
     "iopub.execute_input": "2021-09-09T02:36:04.638382Z",
     "iopub.status.busy": "2021-09-09T02:36:04.638030Z",
     "iopub.status.idle": "2021-09-09T02:36:04.646729Z",
     "shell.execute_reply": "2021-09-09T02:36:04.645718Z",
     "shell.execute_reply.started": "2021-09-09T02:36:04.638351Z"
    }
   },
   "outputs": [],
   "source": [
    "#median family income of an msa cannot be 0\n",
    "df['ffiec_msa_md_median_family_income']=df['ffiec_msa_md_median_family_income'].replace({0:np.nan})"
   ]
  },
  {
   "cell_type": "code",
   "execution_count": 235,
   "metadata": {},
   "outputs": [],
   "source": [
    "df=df.drop_duplicates()"
   ]
  },
  {
   "cell_type": "code",
   "execution_count": 236,
   "metadata": {},
   "outputs": [],
   "source": [
    "df=df.reset_index(drop=True)"
   ]
  },
  {
   "cell_type": "code",
   "execution_count": 237,
   "metadata": {
    "execution": {
     "iopub.execute_input": "2021-09-09T02:36:04.648054Z",
     "iopub.status.busy": "2021-09-09T02:36:04.647765Z",
     "iopub.status.idle": "2021-09-09T02:36:04.681384Z",
     "shell.execute_reply": "2021-09-09T02:36:04.679867Z",
     "shell.execute_reply.started": "2021-09-09T02:36:04.648018Z"
    }
   },
   "outputs": [
    {
     "data": {
      "text/html": [
       "<div>\n",
       "<style scoped>\n",
       "    .dataframe tbody tr th:only-of-type {\n",
       "        vertical-align: middle;\n",
       "    }\n",
       "\n",
       "    .dataframe tbody tr th {\n",
       "        vertical-align: top;\n",
       "    }\n",
       "\n",
       "    .dataframe thead th {\n",
       "        text-align: right;\n",
       "    }\n",
       "</style>\n",
       "<table border=\"1\" class=\"dataframe\">\n",
       "  <thead>\n",
       "    <tr style=\"text-align: right;\">\n",
       "      <th></th>\n",
       "      <th>lei</th>\n",
       "      <th>derived_msa-md</th>\n",
       "      <th>county_code</th>\n",
       "      <th>census_tract</th>\n",
       "      <th>conforming_loan_limit</th>\n",
       "      <th>action_taken</th>\n",
       "      <th>purchaser_type</th>\n",
       "      <th>loan_type</th>\n",
       "      <th>loan_purpose</th>\n",
       "      <th>lien_status</th>\n",
       "      <th>...</th>\n",
       "      <th>denial_reason-1</th>\n",
       "      <th>tract_population</th>\n",
       "      <th>tract_minority_population_percent</th>\n",
       "      <th>ffiec_msa_md_median_family_income</th>\n",
       "      <th>tract_to_msa_income_percentage</th>\n",
       "      <th>tract_owner_occupied_units</th>\n",
       "      <th>tract_one_to_four_family_homes</th>\n",
       "      <th>tract_median_age_of_housing_units</th>\n",
       "      <th>family-dwelling_type</th>\n",
       "      <th>high_cost_mortgage</th>\n",
       "    </tr>\n",
       "  </thead>\n",
       "  <tbody>\n",
       "    <tr>\n",
       "      <th>0</th>\n",
       "      <td>549300LYRWPSYPK6S325</td>\n",
       "      <td>35004</td>\n",
       "      <td>36103.00</td>\n",
       "      <td>36103201001.00</td>\n",
       "      <td>NC</td>\n",
       "      <td>approved</td>\n",
       "      <td>NA</td>\n",
       "      <td>VA</td>\n",
       "      <td>Refinancing</td>\n",
       "      <td>FL</td>\n",
       "      <td>...</td>\n",
       "      <td>NA</td>\n",
       "      <td>6065</td>\n",
       "      <td>27.55</td>\n",
       "      <td>126600.00</td>\n",
       "      <td>90</td>\n",
       "      <td>2164</td>\n",
       "      <td>4750</td>\n",
       "      <td>36</td>\n",
       "      <td>SFSB</td>\n",
       "      <td>No</td>\n",
       "    </tr>\n",
       "    <tr>\n",
       "      <th>1</th>\n",
       "      <td>549300LYRWPSYPK6S325</td>\n",
       "      <td>35004</td>\n",
       "      <td>36103.00</td>\n",
       "      <td>36103158402.00</td>\n",
       "      <td>C</td>\n",
       "      <td>approved</td>\n",
       "      <td>Ginnie Mae</td>\n",
       "      <td>VA</td>\n",
       "      <td>Home purchase</td>\n",
       "      <td>FL</td>\n",
       "      <td>...</td>\n",
       "      <td>NA</td>\n",
       "      <td>4384</td>\n",
       "      <td>12.02</td>\n",
       "      <td>126600.00</td>\n",
       "      <td>122</td>\n",
       "      <td>1319</td>\n",
       "      <td>1479</td>\n",
       "      <td>45</td>\n",
       "      <td>SFSB</td>\n",
       "      <td>No</td>\n",
       "    </tr>\n",
       "    <tr>\n",
       "      <th>2</th>\n",
       "      <td>549300LYRWPSYPK6S325</td>\n",
       "      <td>35004</td>\n",
       "      <td>36103.00</td>\n",
       "      <td>36103159506.00</td>\n",
       "      <td>C</td>\n",
       "      <td>approved</td>\n",
       "      <td>Ginnie Mae</td>\n",
       "      <td>FHA</td>\n",
       "      <td>Refinancing</td>\n",
       "      <td>FL</td>\n",
       "      <td>...</td>\n",
       "      <td>NA</td>\n",
       "      <td>8488</td>\n",
       "      <td>40.34</td>\n",
       "      <td>126600.00</td>\n",
       "      <td>74</td>\n",
       "      <td>1943</td>\n",
       "      <td>2911</td>\n",
       "      <td>37</td>\n",
       "      <td>SFSB</td>\n",
       "      <td>No</td>\n",
       "    </tr>\n",
       "    <tr>\n",
       "      <th>3</th>\n",
       "      <td>549300LYRWPSYPK6S325</td>\n",
       "      <td>15380</td>\n",
       "      <td>36029.00</td>\n",
       "      <td>36029013400.00</td>\n",
       "      <td>C</td>\n",
       "      <td>approved</td>\n",
       "      <td>Ginnie Mae</td>\n",
       "      <td>VA</td>\n",
       "      <td>Home purchase</td>\n",
       "      <td>FL</td>\n",
       "      <td>...</td>\n",
       "      <td>NA</td>\n",
       "      <td>6364</td>\n",
       "      <td>4.98</td>\n",
       "      <td>77600.00</td>\n",
       "      <td>142</td>\n",
       "      <td>1802</td>\n",
       "      <td>2544</td>\n",
       "      <td>61</td>\n",
       "      <td>SFSB</td>\n",
       "      <td>No</td>\n",
       "    </tr>\n",
       "    <tr>\n",
       "      <th>4</th>\n",
       "      <td>549300LYRWPSYPK6S325</td>\n",
       "      <td>15380</td>\n",
       "      <td>36029.00</td>\n",
       "      <td>36029009007.00</td>\n",
       "      <td>C</td>\n",
       "      <td>approved</td>\n",
       "      <td>Ginnie Mae</td>\n",
       "      <td>VA</td>\n",
       "      <td>Home purchase</td>\n",
       "      <td>FL</td>\n",
       "      <td>...</td>\n",
       "      <td>NA</td>\n",
       "      <td>7401</td>\n",
       "      <td>17.97</td>\n",
       "      <td>77600.00</td>\n",
       "      <td>213</td>\n",
       "      <td>2519</td>\n",
       "      <td>2759</td>\n",
       "      <td>32</td>\n",
       "      <td>SFSB</td>\n",
       "      <td>No</td>\n",
       "    </tr>\n",
       "  </tbody>\n",
       "</table>\n",
       "<p>5 rows × 48 columns</p>\n",
       "</div>"
      ],
      "text/plain": [
       "                    lei derived_msa-md county_code   census_tract  \\\n",
       "0  549300LYRWPSYPK6S325          35004    36103.00 36103201001.00   \n",
       "1  549300LYRWPSYPK6S325          35004    36103.00 36103158402.00   \n",
       "2  549300LYRWPSYPK6S325          35004    36103.00 36103159506.00   \n",
       "3  549300LYRWPSYPK6S325          15380    36029.00 36029013400.00   \n",
       "4  549300LYRWPSYPK6S325          15380    36029.00 36029009007.00   \n",
       "\n",
       "  conforming_loan_limit action_taken purchaser_type loan_type   loan_purpose  \\\n",
       "0                    NC     approved             NA        VA    Refinancing   \n",
       "1                     C     approved     Ginnie Mae        VA  Home purchase   \n",
       "2                     C     approved     Ginnie Mae       FHA    Refinancing   \n",
       "3                     C     approved     Ginnie Mae        VA  Home purchase   \n",
       "4                     C     approved     Ginnie Mae        VA  Home purchase   \n",
       "\n",
       "  lien_status  ... denial_reason-1 tract_population  \\\n",
       "0          FL  ...              NA             6065   \n",
       "1          FL  ...              NA             4384   \n",
       "2          FL  ...              NA             8488   \n",
       "3          FL  ...              NA             6364   \n",
       "4          FL  ...              NA             7401   \n",
       "\n",
       "  tract_minority_population_percent  ffiec_msa_md_median_family_income  \\\n",
       "0                             27.55                          126600.00   \n",
       "1                             12.02                          126600.00   \n",
       "2                             40.34                          126600.00   \n",
       "3                              4.98                           77600.00   \n",
       "4                             17.97                           77600.00   \n",
       "\n",
       "  tract_to_msa_income_percentage tract_owner_occupied_units  \\\n",
       "0                             90                       2164   \n",
       "1                            122                       1319   \n",
       "2                             74                       1943   \n",
       "3                            142                       1802   \n",
       "4                            213                       2519   \n",
       "\n",
       "  tract_one_to_four_family_homes tract_median_age_of_housing_units  \\\n",
       "0                           4750                                36   \n",
       "1                           1479                                45   \n",
       "2                           2911                                37   \n",
       "3                           2544                                61   \n",
       "4                           2759                                32   \n",
       "\n",
       "  family-dwelling_type high_cost_mortgage  \n",
       "0                 SFSB                 No  \n",
       "1                 SFSB                 No  \n",
       "2                 SFSB                 No  \n",
       "3                 SFSB                 No  \n",
       "4                 SFSB                 No  \n",
       "\n",
       "[5 rows x 48 columns]"
      ]
     },
     "execution_count": 237,
     "metadata": {},
     "output_type": "execute_result"
    }
   ],
   "source": [
    "df.head()"
   ]
  },
  {
   "cell_type": "code",
   "execution_count": 238,
   "metadata": {
    "execution": {
     "iopub.execute_input": "2021-09-09T02:36:04.684341Z",
     "iopub.status.busy": "2021-09-09T02:36:04.683978Z",
     "iopub.status.idle": "2021-09-09T02:36:05.352994Z",
     "shell.execute_reply": "2021-09-09T02:36:05.351818Z",
     "shell.execute_reply.started": "2021-09-09T02:36:04.684301Z"
    }
   },
   "outputs": [],
   "source": [
    "revised_null=df.isna().sum()/len(df)*100"
   ]
  },
  {
   "cell_type": "code",
   "execution_count": 239,
   "metadata": {
    "execution": {
     "iopub.execute_input": "2021-09-09T02:36:05.354696Z",
     "iopub.status.busy": "2021-09-09T02:36:05.354418Z",
     "iopub.status.idle": "2021-09-09T02:36:05.363654Z",
     "shell.execute_reply": "2021-09-09T02:36:05.362551Z",
     "shell.execute_reply.started": "2021-09-09T02:36:05.354668Z"
    }
   },
   "outputs": [
    {
     "data": {
      "text/plain": [
       "county_code                          0.60\n",
       "census_tract                         0.73\n",
       "conforming_loan_limit                0.23\n",
       "loan_to_value_ratio                 45.78\n",
       "loan_term                            2.14\n",
       "property_value                       4.80\n",
       "income                              25.72\n",
       "debt_to_income_ratio                45.18\n",
       "applicant_ethnicity-1                0.11\n",
       "co-applicant_ethnicity-1             0.02\n",
       "applicant_race-1                     0.04\n",
       "co-applicant_race-1                  0.01\n",
       "ffiec_msa_md_median_family_income    0.60\n",
       "dtype: float64"
      ]
     },
     "execution_count": 239,
     "metadata": {},
     "output_type": "execute_result"
    }
   ],
   "source": [
    "revised_null[revised_null>0]"
   ]
  },
  {
   "cell_type": "code",
   "execution_count": 240,
   "metadata": {
    "execution": {
     "iopub.execute_input": "2021-09-09T02:36:05.365196Z",
     "iopub.status.busy": "2021-09-09T02:36:05.364867Z",
     "iopub.status.idle": "2021-09-09T02:36:05.522860Z",
     "shell.execute_reply": "2021-09-09T02:36:05.521774Z",
     "shell.execute_reply.started": "2021-09-09T02:36:05.365157Z"
    }
   },
   "outputs": [],
   "source": [
    "df['derived_msa-md']=df['derived_msa-md'].replace({0:df['derived_msa-md'].mode()[0]})"
   ]
  },
  {
   "cell_type": "code",
   "execution_count": 241,
   "metadata": {
    "execution": {
     "iopub.execute_input": "2021-09-09T02:36:05.524436Z",
     "iopub.status.busy": "2021-09-09T02:36:05.524121Z",
     "iopub.status.idle": "2021-09-09T02:36:06.200696Z",
     "shell.execute_reply": "2021-09-09T02:36:06.199483Z",
     "shell.execute_reply.started": "2021-09-09T02:36:05.524406Z"
    }
   },
   "outputs": [],
   "source": [
    "#need better understanding for filling Nans\n",
    "df['income']=df['income'].fillna(df['income'].median())\n",
    "df['census_tract']=df['census_tract'].fillna(df['census_tract'].mode()[0])\n",
    "df['co-applicant_ethnicity-1']=df['co-applicant_ethnicity-1'].fillna(df['co-applicant_ethnicity-1'].mode()[0])\n",
    "df['co-applicant_race-1']=df['co-applicant_race-1'].fillna(df['co-applicant_race-1'].mode()[0])\n",
    "df['applicant_ethnicity-1']=df['applicant_ethnicity-1'].fillna(df['applicant_ethnicity-1'].mode()[0])\n",
    "df['applicant_race-1']=df['applicant_race-1'].fillna(df['applicant_race-1'].mode()[0])\n",
    "df['conforming_loan_limit']=df['conforming_loan_limit'].fillna(df['conforming_loan_limit'].mode()[0])\n",
    "df['loan_to_value_ratio']=df['loan_to_value_ratio'].fillna(df['loan_to_value_ratio'].mode()[0])\n",
    "df['loan_term']=df['loan_term'].fillna(df['loan_term'].mode()[0])\n",
    "df['property_value']=df['property_value'].fillna(df['property_value'].mode()[0])\n",
    "df['debt_to_income_ratio']=df['debt_to_income_ratio'].fillna(df['debt_to_income_ratio'].mode()[0])\n",
    "df['ffiec_msa_md_median_family_income']=df['ffiec_msa_md_median_family_income'].fillna(df['ffiec_msa_md_median_family_income'].median())"
   ]
  },
  {
   "cell_type": "code",
   "execution_count": 242,
   "metadata": {
    "execution": {
     "iopub.execute_input": "2021-09-09T02:36:06.202437Z",
     "iopub.status.busy": "2021-09-09T02:36:06.202096Z",
     "iopub.status.idle": "2021-09-09T02:36:06.853791Z",
     "shell.execute_reply": "2021-09-09T02:36:06.852688Z",
     "shell.execute_reply.started": "2021-09-09T02:36:06.202406Z"
    }
   },
   "outputs": [
    {
     "data": {
      "text/plain": [
       "lei                                     0\n",
       "derived_msa-md                          0\n",
       "county_code                          1082\n",
       "census_tract                            0\n",
       "conforming_loan_limit                   0\n",
       "action_taken                            0\n",
       "purchaser_type                          0\n",
       "loan_type                               0\n",
       "loan_purpose                            0\n",
       "lien_status                             0\n",
       "reverse_mortgage                        0\n",
       "open-end_line_of_credit                 0\n",
       "business_or_commercial_purpose          0\n",
       "loan_amount                             0\n",
       "loan_to_value_ratio                     0\n",
       "loan_term                               0\n",
       "negative_amortization                   0\n",
       "interest_only_payment                   0\n",
       "balloon_payment                         0\n",
       "other_nonamortizing_features            0\n",
       "property_value                          0\n",
       "occupancy_type                          0\n",
       "total_units                             0\n",
       "income                                  0\n",
       "debt_to_income_ratio                    0\n",
       "applicant_credit_score_type             0\n",
       "co-applicant_credit_score_type          0\n",
       "applicant_ethnicity-1                   0\n",
       "co-applicant_ethnicity-1                0\n",
       "applicant_race-1                        0\n",
       "co-applicant_race-1                     0\n",
       "applicant_sex                           0\n",
       "co-applicant_sex                        0\n",
       "applicant_age                           0\n",
       "co-applicant_age                        0\n",
       "submission_of_application               0\n",
       "initially_payable_to_institution        0\n",
       "aus-1                                   0\n",
       "denial_reason-1                         0\n",
       "tract_population                        0\n",
       "tract_minority_population_percent       0\n",
       "ffiec_msa_md_median_family_income       0\n",
       "tract_to_msa_income_percentage          0\n",
       "tract_owner_occupied_units              0\n",
       "tract_one_to_four_family_homes          0\n",
       "tract_median_age_of_housing_units       0\n",
       "family-dwelling_type                    0\n",
       "high_cost_mortgage                      0\n",
       "dtype: int64"
      ]
     },
     "execution_count": 242,
     "metadata": {},
     "output_type": "execute_result"
    }
   ],
   "source": [
    "df.isna().sum()"
   ]
  },
  {
   "cell_type": "code",
   "execution_count": null,
   "metadata": {},
   "outputs": [],
   "source": []
  },
  {
   "cell_type": "code",
   "execution_count": 243,
   "metadata": {
    "execution": {
     "iopub.execute_input": "2021-09-09T02:36:06.855282Z",
     "iopub.status.busy": "2021-09-09T02:36:06.854965Z",
     "iopub.status.idle": "2021-09-09T02:36:06.887097Z",
     "shell.execute_reply": "2021-09-09T02:36:06.886035Z",
     "shell.execute_reply.started": "2021-09-09T02:36:06.855253Z"
    }
   },
   "outputs": [
    {
     "data": {
      "text/html": [
       "<div>\n",
       "<style scoped>\n",
       "    .dataframe tbody tr th:only-of-type {\n",
       "        vertical-align: middle;\n",
       "    }\n",
       "\n",
       "    .dataframe tbody tr th {\n",
       "        vertical-align: top;\n",
       "    }\n",
       "\n",
       "    .dataframe thead th {\n",
       "        text-align: right;\n",
       "    }\n",
       "</style>\n",
       "<table border=\"1\" class=\"dataframe\">\n",
       "  <thead>\n",
       "    <tr style=\"text-align: right;\">\n",
       "      <th></th>\n",
       "      <th>lei</th>\n",
       "      <th>derived_msa-md</th>\n",
       "      <th>county_code</th>\n",
       "      <th>census_tract</th>\n",
       "      <th>conforming_loan_limit</th>\n",
       "      <th>action_taken</th>\n",
       "      <th>purchaser_type</th>\n",
       "      <th>loan_type</th>\n",
       "      <th>loan_purpose</th>\n",
       "      <th>lien_status</th>\n",
       "      <th>...</th>\n",
       "      <th>denial_reason-1</th>\n",
       "      <th>tract_population</th>\n",
       "      <th>tract_minority_population_percent</th>\n",
       "      <th>ffiec_msa_md_median_family_income</th>\n",
       "      <th>tract_to_msa_income_percentage</th>\n",
       "      <th>tract_owner_occupied_units</th>\n",
       "      <th>tract_one_to_four_family_homes</th>\n",
       "      <th>tract_median_age_of_housing_units</th>\n",
       "      <th>family-dwelling_type</th>\n",
       "      <th>high_cost_mortgage</th>\n",
       "    </tr>\n",
       "  </thead>\n",
       "  <tbody>\n",
       "    <tr>\n",
       "      <th>0</th>\n",
       "      <td>549300LYRWPSYPK6S325</td>\n",
       "      <td>35004</td>\n",
       "      <td>36103.00</td>\n",
       "      <td>36103201001.00</td>\n",
       "      <td>NC</td>\n",
       "      <td>approved</td>\n",
       "      <td>NA</td>\n",
       "      <td>VA</td>\n",
       "      <td>Refinancing</td>\n",
       "      <td>FL</td>\n",
       "      <td>...</td>\n",
       "      <td>NA</td>\n",
       "      <td>6065</td>\n",
       "      <td>27.55</td>\n",
       "      <td>126600.00</td>\n",
       "      <td>90</td>\n",
       "      <td>2164</td>\n",
       "      <td>4750</td>\n",
       "      <td>36</td>\n",
       "      <td>SFSB</td>\n",
       "      <td>No</td>\n",
       "    </tr>\n",
       "    <tr>\n",
       "      <th>1</th>\n",
       "      <td>549300LYRWPSYPK6S325</td>\n",
       "      <td>35004</td>\n",
       "      <td>36103.00</td>\n",
       "      <td>36103158402.00</td>\n",
       "      <td>C</td>\n",
       "      <td>approved</td>\n",
       "      <td>Ginnie Mae</td>\n",
       "      <td>VA</td>\n",
       "      <td>Home purchase</td>\n",
       "      <td>FL</td>\n",
       "      <td>...</td>\n",
       "      <td>NA</td>\n",
       "      <td>4384</td>\n",
       "      <td>12.02</td>\n",
       "      <td>126600.00</td>\n",
       "      <td>122</td>\n",
       "      <td>1319</td>\n",
       "      <td>1479</td>\n",
       "      <td>45</td>\n",
       "      <td>SFSB</td>\n",
       "      <td>No</td>\n",
       "    </tr>\n",
       "    <tr>\n",
       "      <th>2</th>\n",
       "      <td>549300LYRWPSYPK6S325</td>\n",
       "      <td>35004</td>\n",
       "      <td>36103.00</td>\n",
       "      <td>36103159506.00</td>\n",
       "      <td>C</td>\n",
       "      <td>approved</td>\n",
       "      <td>Ginnie Mae</td>\n",
       "      <td>FHA</td>\n",
       "      <td>Refinancing</td>\n",
       "      <td>FL</td>\n",
       "      <td>...</td>\n",
       "      <td>NA</td>\n",
       "      <td>8488</td>\n",
       "      <td>40.34</td>\n",
       "      <td>126600.00</td>\n",
       "      <td>74</td>\n",
       "      <td>1943</td>\n",
       "      <td>2911</td>\n",
       "      <td>37</td>\n",
       "      <td>SFSB</td>\n",
       "      <td>No</td>\n",
       "    </tr>\n",
       "    <tr>\n",
       "      <th>3</th>\n",
       "      <td>549300LYRWPSYPK6S325</td>\n",
       "      <td>15380</td>\n",
       "      <td>36029.00</td>\n",
       "      <td>36029013400.00</td>\n",
       "      <td>C</td>\n",
       "      <td>approved</td>\n",
       "      <td>Ginnie Mae</td>\n",
       "      <td>VA</td>\n",
       "      <td>Home purchase</td>\n",
       "      <td>FL</td>\n",
       "      <td>...</td>\n",
       "      <td>NA</td>\n",
       "      <td>6364</td>\n",
       "      <td>4.98</td>\n",
       "      <td>77600.00</td>\n",
       "      <td>142</td>\n",
       "      <td>1802</td>\n",
       "      <td>2544</td>\n",
       "      <td>61</td>\n",
       "      <td>SFSB</td>\n",
       "      <td>No</td>\n",
       "    </tr>\n",
       "    <tr>\n",
       "      <th>4</th>\n",
       "      <td>549300LYRWPSYPK6S325</td>\n",
       "      <td>15380</td>\n",
       "      <td>36029.00</td>\n",
       "      <td>36029009007.00</td>\n",
       "      <td>C</td>\n",
       "      <td>approved</td>\n",
       "      <td>Ginnie Mae</td>\n",
       "      <td>VA</td>\n",
       "      <td>Home purchase</td>\n",
       "      <td>FL</td>\n",
       "      <td>...</td>\n",
       "      <td>NA</td>\n",
       "      <td>7401</td>\n",
       "      <td>17.97</td>\n",
       "      <td>77600.00</td>\n",
       "      <td>213</td>\n",
       "      <td>2519</td>\n",
       "      <td>2759</td>\n",
       "      <td>32</td>\n",
       "      <td>SFSB</td>\n",
       "      <td>No</td>\n",
       "    </tr>\n",
       "  </tbody>\n",
       "</table>\n",
       "<p>5 rows × 48 columns</p>\n",
       "</div>"
      ],
      "text/plain": [
       "                    lei  derived_msa-md county_code   census_tract  \\\n",
       "0  549300LYRWPSYPK6S325           35004    36103.00 36103201001.00   \n",
       "1  549300LYRWPSYPK6S325           35004    36103.00 36103158402.00   \n",
       "2  549300LYRWPSYPK6S325           35004    36103.00 36103159506.00   \n",
       "3  549300LYRWPSYPK6S325           15380    36029.00 36029013400.00   \n",
       "4  549300LYRWPSYPK6S325           15380    36029.00 36029009007.00   \n",
       "\n",
       "  conforming_loan_limit action_taken purchaser_type loan_type   loan_purpose  \\\n",
       "0                    NC     approved             NA        VA    Refinancing   \n",
       "1                     C     approved     Ginnie Mae        VA  Home purchase   \n",
       "2                     C     approved     Ginnie Mae       FHA    Refinancing   \n",
       "3                     C     approved     Ginnie Mae        VA  Home purchase   \n",
       "4                     C     approved     Ginnie Mae        VA  Home purchase   \n",
       "\n",
       "  lien_status  ... denial_reason-1 tract_population  \\\n",
       "0          FL  ...              NA             6065   \n",
       "1          FL  ...              NA             4384   \n",
       "2          FL  ...              NA             8488   \n",
       "3          FL  ...              NA             6364   \n",
       "4          FL  ...              NA             7401   \n",
       "\n",
       "  tract_minority_population_percent  ffiec_msa_md_median_family_income  \\\n",
       "0                             27.55                          126600.00   \n",
       "1                             12.02                          126600.00   \n",
       "2                             40.34                          126600.00   \n",
       "3                              4.98                           77600.00   \n",
       "4                             17.97                           77600.00   \n",
       "\n",
       "  tract_to_msa_income_percentage tract_owner_occupied_units  \\\n",
       "0                             90                       2164   \n",
       "1                            122                       1319   \n",
       "2                             74                       1943   \n",
       "3                            142                       1802   \n",
       "4                            213                       2519   \n",
       "\n",
       "  tract_one_to_four_family_homes tract_median_age_of_housing_units  \\\n",
       "0                           4750                                36   \n",
       "1                           1479                                45   \n",
       "2                           2911                                37   \n",
       "3                           2544                                61   \n",
       "4                           2759                                32   \n",
       "\n",
       "  family-dwelling_type high_cost_mortgage  \n",
       "0                 SFSB                 No  \n",
       "1                 SFSB                 No  \n",
       "2                 SFSB                 No  \n",
       "3                 SFSB                 No  \n",
       "4                 SFSB                 No  \n",
       "\n",
       "[5 rows x 48 columns]"
      ]
     },
     "execution_count": 243,
     "metadata": {},
     "output_type": "execute_result"
    }
   ],
   "source": [
    "df.head()"
   ]
  },
  {
   "cell_type": "code",
   "execution_count": 244,
   "metadata": {
    "execution": {
     "iopub.execute_input": "2021-09-09T02:36:06.889307Z",
     "iopub.status.busy": "2021-09-09T02:36:06.888860Z",
     "iopub.status.idle": "2021-09-09T02:36:08.030548Z",
     "shell.execute_reply": "2021-09-09T02:36:08.028072Z",
     "shell.execute_reply.started": "2021-09-09T02:36:06.889260Z"
    }
   },
   "outputs": [
    {
     "data": {
      "image/png": "[encoded data removed]",
      "text/plain": [
       "<Figure size 1080x720 with 2 Axes>"
      ]
     },
     "metadata": {
      "needs_background": "light"
     },
     "output_type": "display_data"
    }
   ],
   "source": [
    "plt.figure(figsize=(15,10))\n",
    "sns.heatmap(df.corr(), annot=True)\n",
    "plt.show()"
   ]
  },
  {
   "cell_type": "markdown",
   "metadata": {},
   "source": [
    "* Country code and census tract have a correlation of 1 which means they represent one another.\n",
    "* tract one to four family homes has multicollinearity with tract population and tract owner occupies units.\n",
    "* tract population also has a multicollinearity with tract owner occupies units.\n",
    "* Conclusion is that tract one to four family homes, tract population and tract owner occupies units are features that are * not independent from one another. We may consider developing a new column out of the 3 or consider dropping one of them."
   ]
  },
  {
   "cell_type": "code",
   "execution_count": 245,
   "metadata": {
    "execution": {
     "iopub.execute_input": "2021-09-09T02:36:08.032533Z",
     "iopub.status.busy": "2021-09-09T02:36:08.032178Z",
     "iopub.status.idle": "2021-09-09T02:36:08.110648Z",
     "shell.execute_reply": "2021-09-09T02:36:08.109620Z",
     "shell.execute_reply.started": "2021-09-09T02:36:08.032500Z"
    }
   },
   "outputs": [
    {
     "data": {
      "text/plain": [
       "(181144, 47)"
      ]
     },
     "execution_count": 245,
     "metadata": {},
     "output_type": "execute_result"
    }
   ],
   "source": [
    "df=df.drop('county_code',axis=1)\n",
    "df.shape"
   ]
  },
  {
   "cell_type": "code",
   "execution_count": 246,
   "metadata": {
    "execution": {
     "iopub.execute_input": "2021-09-09T02:36:08.112466Z",
     "iopub.status.busy": "2021-09-09T02:36:08.112063Z",
     "iopub.status.idle": "2021-09-09T02:36:08.121573Z",
     "shell.execute_reply": "2021-09-09T02:36:08.120522Z",
     "shell.execute_reply.started": "2021-09-09T02:36:08.112432Z"
    }
   },
   "outputs": [
    {
     "data": {
      "text/plain": [
       "35614    59341\n",
       "35004    44606\n",
       "40380    14452\n",
       "15380    12896\n",
       "99999    12336\n",
       "10580    10692\n",
       "39100     9204\n",
       "45060     7375\n",
       "46540     2377\n",
       "13780     2155\n",
       "28740     1910\n",
       "24020     1617\n",
       "48060     1163\n",
       "21300      612\n",
       "27060      408\n",
       "Name: derived_msa-md, dtype: int64"
      ]
     },
     "execution_count": 246,
     "metadata": {},
     "output_type": "execute_result"
    }
   ],
   "source": [
    "df['derived_msa-md'].value_counts()"
   ]
  },
  {
   "cell_type": "code",
   "execution_count": 247,
   "metadata": {
    "execution": {
     "iopub.execute_input": "2021-09-09T02:36:08.123566Z",
     "iopub.status.busy": "2021-09-09T02:36:08.123150Z",
     "iopub.status.idle": "2021-09-09T02:36:08.136114Z",
     "shell.execute_reply": "2021-09-09T02:36:08.134786Z",
     "shell.execute_reply.started": "2021-09-09T02:36:08.123513Z"
    }
   },
   "outputs": [
    {
     "data": {
      "text/plain": [
       "35614    59341\n",
       "35004    44606\n",
       "40380    14452\n",
       "15380    12896\n",
       "99999    12336\n",
       "10580    10692\n",
       "39100     9204\n",
       "45060     7375\n",
       "46540     2377\n",
       "13780     2155\n",
       "28740     1910\n",
       "24020     1617\n",
       "48060     1163\n",
       "21300      612\n",
       "27060      408\n",
       "Name: derived_msa-md, dtype: int64"
      ]
     },
     "execution_count": 247,
     "metadata": {},
     "output_type": "execute_result"
    }
   ],
   "source": [
    "df['derived_msa-md'].value_counts()"
   ]
  },
  {
   "cell_type": "code",
   "execution_count": 248,
   "metadata": {
    "execution": {
     "iopub.execute_input": "2021-09-09T02:36:08.138252Z",
     "iopub.status.busy": "2021-09-09T02:36:08.137718Z",
     "iopub.status.idle": "2021-09-09T02:36:08.211585Z",
     "shell.execute_reply": "2021-09-09T02:36:08.210543Z",
     "shell.execute_reply.started": "2021-09-09T02:36:08.138219Z"
    }
   },
   "outputs": [],
   "source": [
    "df_num=df.select_dtypes(include=np.number)\n",
    "df_cat=df.select_dtypes(exclude=np.number)"
   ]
  },
  {
   "cell_type": "code",
   "execution_count": 249,
   "metadata": {
    "execution": {
     "iopub.execute_input": "2021-09-09T02:36:08.213190Z",
     "iopub.status.busy": "2021-09-09T02:36:08.212888Z",
     "iopub.status.idle": "2021-09-09T02:36:08.219879Z",
     "shell.execute_reply": "2021-09-09T02:36:08.218773Z",
     "shell.execute_reply.started": "2021-09-09T02:36:08.213161Z"
    }
   },
   "outputs": [
    {
     "data": {
      "text/plain": [
       "Index(['derived_msa-md', 'census_tract', 'loan_amount', 'income',\n",
       "       'tract_population', 'tract_minority_population_percent',\n",
       "       'ffiec_msa_md_median_family_income', 'tract_to_msa_income_percentage',\n",
       "       'tract_owner_occupied_units', 'tract_one_to_four_family_homes',\n",
       "       'tract_median_age_of_housing_units'],\n",
       "      dtype='object')"
      ]
     },
     "execution_count": 249,
     "metadata": {},
     "output_type": "execute_result"
    }
   ],
   "source": [
    "df_num.columns"
   ]
  },
  {
   "cell_type": "markdown",
   "metadata": {
    "execution": {
     "iopub.execute_input": "2021-09-07T03:14:14.848404Z",
     "iopub.status.busy": "2021-09-07T03:14:14.847854Z",
     "iopub.status.idle": "2021-09-07T03:15:30.43339Z",
     "shell.execute_reply": "2021-09-07T03:15:30.432261Z",
     "shell.execute_reply.started": "2021-09-07T03:14:14.848363Z"
    }
   },
   "source": [
    "for i in df_num.columns[2:]:\n",
    "    q1=df[i].quantile(0.25)\n",
    "    q3=df[i].quantile(0.75)\n",
    "    iqr=q3-q1\n",
    "    ub=q3+1.5*iqr\n",
    "    lb=q1-1.5*iqr\n",
    "    uc=df[i].quantile(0.99)\n",
    "    lc=df[i].quantile(0.01)\n",
    "    for ind1 in df[i].index:\n",
    "        if df.loc[ind1,i]>ub:\n",
    "            df.loc[ind1,i]=uc\n",
    "        if df.loc[ind1,i]<lb:\n",
    "            df.loc[ind1,i]=lc"
   ]
  },
  {
   "cell_type": "markdown",
   "metadata": {
    "execution": {
     "iopub.execute_input": "2021-09-07T03:15:30.43473Z",
     "iopub.status.busy": "2021-09-07T03:15:30.434437Z",
     "iopub.status.idle": "2021-09-07T03:15:31.504248Z",
     "shell.execute_reply": "2021-09-07T03:15:31.503557Z",
     "shell.execute_reply.started": "2021-09-07T03:15:30.434703Z"
    }
   },
   "source": [
    "for i in df_num.columns[2:]:\n",
    "    sns.boxplot(df[i])\n",
    "    plt.show()"
   ]
  },
  {
   "cell_type": "code",
   "execution_count": 250,
   "metadata": {
    "execution": {
     "iopub.execute_input": "2021-09-09T02:36:08.221989Z",
     "iopub.status.busy": "2021-09-09T02:36:08.221371Z",
     "iopub.status.idle": "2021-09-09T02:36:08.406694Z",
     "shell.execute_reply": "2021-09-09T02:36:08.405723Z",
     "shell.execute_reply.started": "2021-09-09T02:36:08.221935Z"
    }
   },
   "outputs": [
    {
     "data": {
      "image/png": "[encoded data removed]",
      "text/plain": [
       "<Figure size 432x288 with 1 Axes>"
      ]
     },
     "metadata": {
      "needs_background": "light"
     },
     "output_type": "display_data"
    }
   ],
   "source": [
    "(df['action_taken'].value_counts()).plot(kind='bar', color=['red','green'])\n",
    "plt.show()"
   ]
  },
  {
   "cell_type": "markdown",
   "metadata": {},
   "source": [
    "- 'Approved' is the minority class.\n",
    "- The difference is not alarming and there is no need for treatment of class imbalance."
   ]
  },
  {
   "cell_type": "code",
   "execution_count": 251,
   "metadata": {
    "execution": {
     "iopub.execute_input": "2021-09-09T02:36:08.408557Z",
     "iopub.status.busy": "2021-09-09T02:36:08.408016Z",
     "iopub.status.idle": "2021-09-09T02:36:08.437254Z",
     "shell.execute_reply": "2021-09-09T02:36:08.436382Z",
     "shell.execute_reply.started": "2021-09-09T02:36:08.408520Z"
    }
   },
   "outputs": [
    {
     "data": {
      "text/html": [
       "<div>\n",
       "<style scoped>\n",
       "    .dataframe tbody tr th:only-of-type {\n",
       "        vertical-align: middle;\n",
       "    }\n",
       "\n",
       "    .dataframe tbody tr th {\n",
       "        vertical-align: top;\n",
       "    }\n",
       "\n",
       "    .dataframe thead th {\n",
       "        text-align: right;\n",
       "    }\n",
       "</style>\n",
       "<table border=\"1\" class=\"dataframe\">\n",
       "  <thead>\n",
       "    <tr style=\"text-align: right;\">\n",
       "      <th></th>\n",
       "      <th>lei</th>\n",
       "      <th>derived_msa-md</th>\n",
       "      <th>census_tract</th>\n",
       "      <th>conforming_loan_limit</th>\n",
       "      <th>action_taken</th>\n",
       "      <th>purchaser_type</th>\n",
       "      <th>loan_type</th>\n",
       "      <th>loan_purpose</th>\n",
       "      <th>lien_status</th>\n",
       "      <th>reverse_mortgage</th>\n",
       "      <th>...</th>\n",
       "      <th>denial_reason-1</th>\n",
       "      <th>tract_population</th>\n",
       "      <th>tract_minority_population_percent</th>\n",
       "      <th>ffiec_msa_md_median_family_income</th>\n",
       "      <th>tract_to_msa_income_percentage</th>\n",
       "      <th>tract_owner_occupied_units</th>\n",
       "      <th>tract_one_to_four_family_homes</th>\n",
       "      <th>tract_median_age_of_housing_units</th>\n",
       "      <th>family-dwelling_type</th>\n",
       "      <th>high_cost_mortgage</th>\n",
       "    </tr>\n",
       "  </thead>\n",
       "  <tbody>\n",
       "    <tr>\n",
       "      <th>0</th>\n",
       "      <td>549300LYRWPSYPK6S325</td>\n",
       "      <td>35004</td>\n",
       "      <td>36103201001.00</td>\n",
       "      <td>NC</td>\n",
       "      <td>approved</td>\n",
       "      <td>NA</td>\n",
       "      <td>VA</td>\n",
       "      <td>Refinancing</td>\n",
       "      <td>FL</td>\n",
       "      <td>No</td>\n",
       "      <td>...</td>\n",
       "      <td>NA</td>\n",
       "      <td>6065</td>\n",
       "      <td>27.55</td>\n",
       "      <td>126600.00</td>\n",
       "      <td>90</td>\n",
       "      <td>2164</td>\n",
       "      <td>4750</td>\n",
       "      <td>36</td>\n",
       "      <td>SFSB</td>\n",
       "      <td>No</td>\n",
       "    </tr>\n",
       "    <tr>\n",
       "      <th>1</th>\n",
       "      <td>549300LYRWPSYPK6S325</td>\n",
       "      <td>35004</td>\n",
       "      <td>36103158402.00</td>\n",
       "      <td>C</td>\n",
       "      <td>approved</td>\n",
       "      <td>Ginnie Mae</td>\n",
       "      <td>VA</td>\n",
       "      <td>Home purchase</td>\n",
       "      <td>FL</td>\n",
       "      <td>No</td>\n",
       "      <td>...</td>\n",
       "      <td>NA</td>\n",
       "      <td>4384</td>\n",
       "      <td>12.02</td>\n",
       "      <td>126600.00</td>\n",
       "      <td>122</td>\n",
       "      <td>1319</td>\n",
       "      <td>1479</td>\n",
       "      <td>45</td>\n",
       "      <td>SFSB</td>\n",
       "      <td>No</td>\n",
       "    </tr>\n",
       "    <tr>\n",
       "      <th>2</th>\n",
       "      <td>549300LYRWPSYPK6S325</td>\n",
       "      <td>35004</td>\n",
       "      <td>36103159506.00</td>\n",
       "      <td>C</td>\n",
       "      <td>approved</td>\n",
       "      <td>Ginnie Mae</td>\n",
       "      <td>FHA</td>\n",
       "      <td>Refinancing</td>\n",
       "      <td>FL</td>\n",
       "      <td>No</td>\n",
       "      <td>...</td>\n",
       "      <td>NA</td>\n",
       "      <td>8488</td>\n",
       "      <td>40.34</td>\n",
       "      <td>126600.00</td>\n",
       "      <td>74</td>\n",
       "      <td>1943</td>\n",
       "      <td>2911</td>\n",
       "      <td>37</td>\n",
       "      <td>SFSB</td>\n",
       "      <td>No</td>\n",
       "    </tr>\n",
       "    <tr>\n",
       "      <th>3</th>\n",
       "      <td>549300LYRWPSYPK6S325</td>\n",
       "      <td>15380</td>\n",
       "      <td>36029013400.00</td>\n",
       "      <td>C</td>\n",
       "      <td>approved</td>\n",
       "      <td>Ginnie Mae</td>\n",
       "      <td>VA</td>\n",
       "      <td>Home purchase</td>\n",
       "      <td>FL</td>\n",
       "      <td>No</td>\n",
       "      <td>...</td>\n",
       "      <td>NA</td>\n",
       "      <td>6364</td>\n",
       "      <td>4.98</td>\n",
       "      <td>77600.00</td>\n",
       "      <td>142</td>\n",
       "      <td>1802</td>\n",
       "      <td>2544</td>\n",
       "      <td>61</td>\n",
       "      <td>SFSB</td>\n",
       "      <td>No</td>\n",
       "    </tr>\n",
       "    <tr>\n",
       "      <th>4</th>\n",
       "      <td>549300LYRWPSYPK6S325</td>\n",
       "      <td>15380</td>\n",
       "      <td>36029009007.00</td>\n",
       "      <td>C</td>\n",
       "      <td>approved</td>\n",
       "      <td>Ginnie Mae</td>\n",
       "      <td>VA</td>\n",
       "      <td>Home purchase</td>\n",
       "      <td>FL</td>\n",
       "      <td>No</td>\n",
       "      <td>...</td>\n",
       "      <td>NA</td>\n",
       "      <td>7401</td>\n",
       "      <td>17.97</td>\n",
       "      <td>77600.00</td>\n",
       "      <td>213</td>\n",
       "      <td>2519</td>\n",
       "      <td>2759</td>\n",
       "      <td>32</td>\n",
       "      <td>SFSB</td>\n",
       "      <td>No</td>\n",
       "    </tr>\n",
       "  </tbody>\n",
       "</table>\n",
       "<p>5 rows × 47 columns</p>\n",
       "</div>"
      ],
      "text/plain": [
       "                    lei  derived_msa-md   census_tract conforming_loan_limit  \\\n",
       "0  549300LYRWPSYPK6S325           35004 36103201001.00                    NC   \n",
       "1  549300LYRWPSYPK6S325           35004 36103158402.00                     C   \n",
       "2  549300LYRWPSYPK6S325           35004 36103159506.00                     C   \n",
       "3  549300LYRWPSYPK6S325           15380 36029013400.00                     C   \n",
       "4  549300LYRWPSYPK6S325           15380 36029009007.00                     C   \n",
       "\n",
       "  action_taken purchaser_type loan_type   loan_purpose lien_status  \\\n",
       "0     approved             NA        VA    Refinancing          FL   \n",
       "1     approved     Ginnie Mae        VA  Home purchase          FL   \n",
       "2     approved     Ginnie Mae       FHA    Refinancing          FL   \n",
       "3     approved     Ginnie Mae        VA  Home purchase          FL   \n",
       "4     approved     Ginnie Mae        VA  Home purchase          FL   \n",
       "\n",
       "  reverse_mortgage  ... denial_reason-1 tract_population  \\\n",
       "0               No  ...              NA             6065   \n",
       "1               No  ...              NA             4384   \n",
       "2               No  ...              NA             8488   \n",
       "3               No  ...              NA             6364   \n",
       "4               No  ...              NA             7401   \n",
       "\n",
       "   tract_minority_population_percent ffiec_msa_md_median_family_income  \\\n",
       "0                              27.55                         126600.00   \n",
       "1                              12.02                         126600.00   \n",
       "2                              40.34                         126600.00   \n",
       "3                               4.98                          77600.00   \n",
       "4                              17.97                          77600.00   \n",
       "\n",
       "  tract_to_msa_income_percentage tract_owner_occupied_units  \\\n",
       "0                             90                       2164   \n",
       "1                            122                       1319   \n",
       "2                             74                       1943   \n",
       "3                            142                       1802   \n",
       "4                            213                       2519   \n",
       "\n",
       "  tract_one_to_four_family_homes tract_median_age_of_housing_units  \\\n",
       "0                           4750                                36   \n",
       "1                           1479                                45   \n",
       "2                           2911                                37   \n",
       "3                           2544                                61   \n",
       "4                           2759                                32   \n",
       "\n",
       "  family-dwelling_type high_cost_mortgage  \n",
       "0                 SFSB                 No  \n",
       "1                 SFSB                 No  \n",
       "2                 SFSB                 No  \n",
       "3                 SFSB                 No  \n",
       "4                 SFSB                 No  \n",
       "\n",
       "[5 rows x 47 columns]"
      ]
     },
     "execution_count": 251,
     "metadata": {},
     "output_type": "execute_result"
    }
   ],
   "source": [
    "df.head()"
   ]
  },
  {
   "cell_type": "code",
   "execution_count": 252,
   "metadata": {
    "execution": {
     "iopub.execute_input": "2021-09-09T02:36:08.439062Z",
     "iopub.status.busy": "2021-09-09T02:36:08.438542Z",
     "iopub.status.idle": "2021-09-09T02:36:08.443598Z",
     "shell.execute_reply": "2021-09-09T02:36:08.442774Z",
     "shell.execute_reply.started": "2021-09-09T02:36:08.439019Z"
    }
   },
   "outputs": [],
   "source": [
    "cat_cols=df_cat.columns\n",
    "s=list(cat_cols)\n",
    "s.append(df_num.columns[0])\n",
    "s.append(df_num.columns[1])"
   ]
  },
  {
   "cell_type": "code",
   "execution_count": 253,
   "metadata": {
    "execution": {
     "iopub.execute_input": "2021-09-09T02:36:08.445550Z",
     "iopub.status.busy": "2021-09-09T02:36:08.445109Z",
     "iopub.status.idle": "2021-09-09T02:36:08.455968Z",
     "shell.execute_reply": "2021-09-09T02:36:08.454902Z",
     "shell.execute_reply.started": "2021-09-09T02:36:08.445505Z"
    }
   },
   "outputs": [],
   "source": [
    "s.remove('action_taken')"
   ]
  },
  {
   "cell_type": "code",
   "execution_count": 254,
   "metadata": {
    "execution": {
     "iopub.execute_input": "2021-09-09T02:36:08.457796Z",
     "iopub.status.busy": "2021-09-09T02:36:08.457295Z",
     "iopub.status.idle": "2021-09-09T02:36:08.552830Z",
     "shell.execute_reply": "2021-09-09T02:36:08.551879Z",
     "shell.execute_reply.started": "2021-09-09T02:36:08.457719Z"
    }
   },
   "outputs": [],
   "source": [
    "df1=df.copy(deep=True)"
   ]
  },
  {
   "cell_type": "code",
   "execution_count": 255,
   "metadata": {
    "execution": {
     "iopub.execute_input": "2021-09-09T02:36:08.554415Z",
     "iopub.status.busy": "2021-09-09T02:36:08.553980Z",
     "iopub.status.idle": "2021-09-09T02:36:11.887609Z",
     "shell.execute_reply": "2021-09-09T02:36:11.886823Z",
     "shell.execute_reply.started": "2021-09-09T02:36:08.554375Z"
    }
   },
   "outputs": [
    {
     "data": {
      "text/html": [
       "<div>\n",
       "<style scoped>\n",
       "    .dataframe tbody tr th:only-of-type {\n",
       "        vertical-align: middle;\n",
       "    }\n",
       "\n",
       "    .dataframe tbody tr th {\n",
       "        vertical-align: top;\n",
       "    }\n",
       "\n",
       "    .dataframe thead th {\n",
       "        text-align: right;\n",
       "    }\n",
       "</style>\n",
       "<table border=\"1\" class=\"dataframe\">\n",
       "  <thead>\n",
       "    <tr style=\"text-align: right;\">\n",
       "      <th></th>\n",
       "      <th>lei</th>\n",
       "      <th>derived_msa-md</th>\n",
       "      <th>census_tract</th>\n",
       "      <th>conforming_loan_limit</th>\n",
       "      <th>action_taken</th>\n",
       "      <th>purchaser_type</th>\n",
       "      <th>loan_type</th>\n",
       "      <th>loan_purpose</th>\n",
       "      <th>lien_status</th>\n",
       "      <th>reverse_mortgage</th>\n",
       "      <th>...</th>\n",
       "      <th>denial_reason-1</th>\n",
       "      <th>tract_population</th>\n",
       "      <th>tract_minority_population_percent</th>\n",
       "      <th>ffiec_msa_md_median_family_income</th>\n",
       "      <th>tract_to_msa_income_percentage</th>\n",
       "      <th>tract_owner_occupied_units</th>\n",
       "      <th>tract_one_to_four_family_homes</th>\n",
       "      <th>tract_median_age_of_housing_units</th>\n",
       "      <th>family-dwelling_type</th>\n",
       "      <th>high_cost_mortgage</th>\n",
       "    </tr>\n",
       "  </thead>\n",
       "  <tbody>\n",
       "    <tr>\n",
       "      <th>0</th>\n",
       "      <td>0.88</td>\n",
       "      <td>24.62</td>\n",
       "      <td>0.09</td>\n",
       "      <td>3.51</td>\n",
       "      <td>approved</td>\n",
       "      <td>73.10</td>\n",
       "      <td>3.79</td>\n",
       "      <td>26.56</td>\n",
       "      <td>83.98</td>\n",
       "      <td>98.40</td>\n",
       "      <td>...</td>\n",
       "      <td>40.59</td>\n",
       "      <td>6065</td>\n",
       "      <td>27.55</td>\n",
       "      <td>126600.00</td>\n",
       "      <td>90</td>\n",
       "      <td>2164</td>\n",
       "      <td>4750</td>\n",
       "      <td>36</td>\n",
       "      <td>97.63</td>\n",
       "      <td>33.47</td>\n",
       "    </tr>\n",
       "    <tr>\n",
       "      <th>1</th>\n",
       "      <td>0.88</td>\n",
       "      <td>24.62</td>\n",
       "      <td>0.05</td>\n",
       "      <td>96.44</td>\n",
       "      <td>approved</td>\n",
       "      <td>7.40</td>\n",
       "      <td>3.79</td>\n",
       "      <td>31.33</td>\n",
       "      <td>83.98</td>\n",
       "      <td>98.40</td>\n",
       "      <td>...</td>\n",
       "      <td>40.59</td>\n",
       "      <td>4384</td>\n",
       "      <td>12.02</td>\n",
       "      <td>126600.00</td>\n",
       "      <td>122</td>\n",
       "      <td>1319</td>\n",
       "      <td>1479</td>\n",
       "      <td>45</td>\n",
       "      <td>97.63</td>\n",
       "      <td>33.47</td>\n",
       "    </tr>\n",
       "    <tr>\n",
       "      <th>2</th>\n",
       "      <td>0.88</td>\n",
       "      <td>24.62</td>\n",
       "      <td>0.11</td>\n",
       "      <td>96.44</td>\n",
       "      <td>approved</td>\n",
       "      <td>7.40</td>\n",
       "      <td>18.67</td>\n",
       "      <td>26.56</td>\n",
       "      <td>83.98</td>\n",
       "      <td>98.40</td>\n",
       "      <td>...</td>\n",
       "      <td>40.59</td>\n",
       "      <td>8488</td>\n",
       "      <td>40.34</td>\n",
       "      <td>126600.00</td>\n",
       "      <td>74</td>\n",
       "      <td>1943</td>\n",
       "      <td>2911</td>\n",
       "      <td>37</td>\n",
       "      <td>97.63</td>\n",
       "      <td>33.47</td>\n",
       "    </tr>\n",
       "    <tr>\n",
       "      <th>3</th>\n",
       "      <td>0.88</td>\n",
       "      <td>7.12</td>\n",
       "      <td>0.05</td>\n",
       "      <td>96.44</td>\n",
       "      <td>approved</td>\n",
       "      <td>7.40</td>\n",
       "      <td>3.79</td>\n",
       "      <td>31.33</td>\n",
       "      <td>83.98</td>\n",
       "      <td>98.40</td>\n",
       "      <td>...</td>\n",
       "      <td>40.59</td>\n",
       "      <td>6364</td>\n",
       "      <td>4.98</td>\n",
       "      <td>77600.00</td>\n",
       "      <td>142</td>\n",
       "      <td>1802</td>\n",
       "      <td>2544</td>\n",
       "      <td>61</td>\n",
       "      <td>97.63</td>\n",
       "      <td>33.47</td>\n",
       "    </tr>\n",
       "    <tr>\n",
       "      <th>4</th>\n",
       "      <td>0.88</td>\n",
       "      <td>7.12</td>\n",
       "      <td>0.06</td>\n",
       "      <td>96.44</td>\n",
       "      <td>approved</td>\n",
       "      <td>7.40</td>\n",
       "      <td>3.79</td>\n",
       "      <td>31.33</td>\n",
       "      <td>83.98</td>\n",
       "      <td>98.40</td>\n",
       "      <td>...</td>\n",
       "      <td>40.59</td>\n",
       "      <td>7401</td>\n",
       "      <td>17.97</td>\n",
       "      <td>77600.00</td>\n",
       "      <td>213</td>\n",
       "      <td>2519</td>\n",
       "      <td>2759</td>\n",
       "      <td>32</td>\n",
       "      <td>97.63</td>\n",
       "      <td>33.47</td>\n",
       "    </tr>\n",
       "    <tr>\n",
       "      <th>...</th>\n",
       "      <td>...</td>\n",
       "      <td>...</td>\n",
       "      <td>...</td>\n",
       "      <td>...</td>\n",
       "      <td>...</td>\n",
       "      <td>...</td>\n",
       "      <td>...</td>\n",
       "      <td>...</td>\n",
       "      <td>...</td>\n",
       "      <td>...</td>\n",
       "      <td>...</td>\n",
       "      <td>...</td>\n",
       "      <td>...</td>\n",
       "      <td>...</td>\n",
       "      <td>...</td>\n",
       "      <td>...</td>\n",
       "      <td>...</td>\n",
       "      <td>...</td>\n",
       "      <td>...</td>\n",
       "      <td>...</td>\n",
       "      <td>...</td>\n",
       "    </tr>\n",
       "    <tr>\n",
       "      <th>181139</th>\n",
       "      <td>0.88</td>\n",
       "      <td>24.62</td>\n",
       "      <td>0.04</td>\n",
       "      <td>96.44</td>\n",
       "      <td>approved</td>\n",
       "      <td>73.10</td>\n",
       "      <td>18.67</td>\n",
       "      <td>31.33</td>\n",
       "      <td>83.98</td>\n",
       "      <td>98.40</td>\n",
       "      <td>...</td>\n",
       "      <td>40.59</td>\n",
       "      <td>3270</td>\n",
       "      <td>15.57</td>\n",
       "      <td>126600.00</td>\n",
       "      <td>100</td>\n",
       "      <td>933</td>\n",
       "      <td>1289</td>\n",
       "      <td>62</td>\n",
       "      <td>97.63</td>\n",
       "      <td>33.47</td>\n",
       "    </tr>\n",
       "    <tr>\n",
       "      <th>181140</th>\n",
       "      <td>0.88</td>\n",
       "      <td>24.62</td>\n",
       "      <td>0.04</td>\n",
       "      <td>96.44</td>\n",
       "      <td>approved</td>\n",
       "      <td>7.40</td>\n",
       "      <td>18.67</td>\n",
       "      <td>31.33</td>\n",
       "      <td>83.98</td>\n",
       "      <td>98.40</td>\n",
       "      <td>...</td>\n",
       "      <td>40.59</td>\n",
       "      <td>3772</td>\n",
       "      <td>28.08</td>\n",
       "      <td>126600.00</td>\n",
       "      <td>87</td>\n",
       "      <td>888</td>\n",
       "      <td>1103</td>\n",
       "      <td>60</td>\n",
       "      <td>97.63</td>\n",
       "      <td>33.47</td>\n",
       "    </tr>\n",
       "    <tr>\n",
       "      <th>181141</th>\n",
       "      <td>0.88</td>\n",
       "      <td>24.62</td>\n",
       "      <td>0.05</td>\n",
       "      <td>96.44</td>\n",
       "      <td>denied</td>\n",
       "      <td>73.10</td>\n",
       "      <td>76.91</td>\n",
       "      <td>26.56</td>\n",
       "      <td>83.98</td>\n",
       "      <td>98.40</td>\n",
       "      <td>...</td>\n",
       "      <td>19.18</td>\n",
       "      <td>6217</td>\n",
       "      <td>29.84</td>\n",
       "      <td>126600.00</td>\n",
       "      <td>104</td>\n",
       "      <td>1575</td>\n",
       "      <td>1953</td>\n",
       "      <td>76</td>\n",
       "      <td>97.63</td>\n",
       "      <td>66.53</td>\n",
       "    </tr>\n",
       "    <tr>\n",
       "      <th>181142</th>\n",
       "      <td>0.88</td>\n",
       "      <td>24.62</td>\n",
       "      <td>0.05</td>\n",
       "      <td>96.44</td>\n",
       "      <td>denied</td>\n",
       "      <td>73.10</td>\n",
       "      <td>76.91</td>\n",
       "      <td>31.33</td>\n",
       "      <td>83.98</td>\n",
       "      <td>98.40</td>\n",
       "      <td>...</td>\n",
       "      <td>11.86</td>\n",
       "      <td>6268</td>\n",
       "      <td>35.11</td>\n",
       "      <td>126600.00</td>\n",
       "      <td>93</td>\n",
       "      <td>1710</td>\n",
       "      <td>1986</td>\n",
       "      <td>61</td>\n",
       "      <td>97.63</td>\n",
       "      <td>66.53</td>\n",
       "    </tr>\n",
       "    <tr>\n",
       "      <th>181143</th>\n",
       "      <td>0.88</td>\n",
       "      <td>24.62</td>\n",
       "      <td>0.07</td>\n",
       "      <td>96.44</td>\n",
       "      <td>approved</td>\n",
       "      <td>7.40</td>\n",
       "      <td>3.79</td>\n",
       "      <td>26.56</td>\n",
       "      <td>83.98</td>\n",
       "      <td>98.40</td>\n",
       "      <td>...</td>\n",
       "      <td>40.59</td>\n",
       "      <td>4612</td>\n",
       "      <td>10.10</td>\n",
       "      <td>126600.00</td>\n",
       "      <td>103</td>\n",
       "      <td>1415</td>\n",
       "      <td>1707</td>\n",
       "      <td>37</td>\n",
       "      <td>97.63</td>\n",
       "      <td>33.47</td>\n",
       "    </tr>\n",
       "  </tbody>\n",
       "</table>\n",
       "<p>181144 rows × 47 columns</p>\n",
       "</div>"
      ],
      "text/plain": [
       "        lei  derived_msa-md  census_tract  conforming_loan_limit action_taken  \\\n",
       "0      0.88           24.62          0.09                   3.51     approved   \n",
       "1      0.88           24.62          0.05                  96.44     approved   \n",
       "2      0.88           24.62          0.11                  96.44     approved   \n",
       "3      0.88            7.12          0.05                  96.44     approved   \n",
       "4      0.88            7.12          0.06                  96.44     approved   \n",
       "...     ...             ...           ...                    ...          ...   \n",
       "181139 0.88           24.62          0.04                  96.44     approved   \n",
       "181140 0.88           24.62          0.04                  96.44     approved   \n",
       "181141 0.88           24.62          0.05                  96.44       denied   \n",
       "181142 0.88           24.62          0.05                  96.44       denied   \n",
       "181143 0.88           24.62          0.07                  96.44     approved   \n",
       "\n",
       "        purchaser_type  loan_type  loan_purpose  lien_status  \\\n",
       "0                73.10       3.79         26.56        83.98   \n",
       "1                 7.40       3.79         31.33        83.98   \n",
       "2                 7.40      18.67         26.56        83.98   \n",
       "3                 7.40       3.79         31.33        83.98   \n",
       "4                 7.40       3.79         31.33        83.98   \n",
       "...                ...        ...           ...          ...   \n",
       "181139           73.10      18.67         31.33        83.98   \n",
       "181140            7.40      18.67         31.33        83.98   \n",
       "181141           73.10      76.91         26.56        83.98   \n",
       "181142           73.10      76.91         31.33        83.98   \n",
       "181143            7.40       3.79         26.56        83.98   \n",
       "\n",
       "        reverse_mortgage  ...  denial_reason-1  tract_population  \\\n",
       "0                  98.40  ...            40.59              6065   \n",
       "1                  98.40  ...            40.59              4384   \n",
       "2                  98.40  ...            40.59              8488   \n",
       "3                  98.40  ...            40.59              6364   \n",
       "4                  98.40  ...            40.59              7401   \n",
       "...                  ...  ...              ...               ...   \n",
       "181139             98.40  ...            40.59              3270   \n",
       "181140             98.40  ...            40.59              3772   \n",
       "181141             98.40  ...            19.18              6217   \n",
       "181142             98.40  ...            11.86              6268   \n",
       "181143             98.40  ...            40.59              4612   \n",
       "\n",
       "        tract_minority_population_percent  ffiec_msa_md_median_family_income  \\\n",
       "0                                   27.55                          126600.00   \n",
       "1                                   12.02                          126600.00   \n",
       "2                                   40.34                          126600.00   \n",
       "3                                    4.98                           77600.00   \n",
       "4                                   17.97                           77600.00   \n",
       "...                                   ...                                ...   \n",
       "181139                              15.57                          126600.00   \n",
       "181140                              28.08                          126600.00   \n",
       "181141                              29.84                          126600.00   \n",
       "181142                              35.11                          126600.00   \n",
       "181143                              10.10                          126600.00   \n",
       "\n",
       "        tract_to_msa_income_percentage  tract_owner_occupied_units  \\\n",
       "0                                   90                        2164   \n",
       "1                                  122                        1319   \n",
       "2                                   74                        1943   \n",
       "3                                  142                        1802   \n",
       "4                                  213                        2519   \n",
       "...                                ...                         ...   \n",
       "181139                             100                         933   \n",
       "181140                              87                         888   \n",
       "181141                             104                        1575   \n",
       "181142                              93                        1710   \n",
       "181143                             103                        1415   \n",
       "\n",
       "        tract_one_to_four_family_homes  tract_median_age_of_housing_units  \\\n",
       "0                                 4750                                 36   \n",
       "1                                 1479                                 45   \n",
       "2                                 2911                                 37   \n",
       "3                                 2544                                 61   \n",
       "4                                 2759                                 32   \n",
       "...                                ...                                ...   \n",
       "181139                            1289                                 62   \n",
       "181140                            1103                                 60   \n",
       "181141                            1953                                 76   \n",
       "181142                            1986                                 61   \n",
       "181143                            1707                                 37   \n",
       "\n",
       "        family-dwelling_type  high_cost_mortgage  \n",
       "0                      97.63               33.47  \n",
       "1                      97.63               33.47  \n",
       "2                      97.63               33.47  \n",
       "3                      97.63               33.47  \n",
       "4                      97.63               33.47  \n",
       "...                      ...                 ...  \n",
       "181139                 97.63               33.47  \n",
       "181140                 97.63               33.47  \n",
       "181141                 97.63               66.53  \n",
       "181142                 97.63               66.53  \n",
       "181143                 97.63               33.47  \n",
       "\n",
       "[181144 rows x 47 columns]"
      ]
     },
     "execution_count": 255,
     "metadata": {},
     "output_type": "execute_result"
    }
   ],
   "source": [
    "for i in s:\n",
    "    tab=df1[i].value_counts(normalize=True)*100\n",
    "    df1[i]=df1[i].map(tab)\n",
    "df1"
   ]
  },
  {
   "cell_type": "code",
   "execution_count": 256,
   "metadata": {
    "execution": {
     "iopub.execute_input": "2021-09-09T02:36:11.889049Z",
     "iopub.status.busy": "2021-09-09T02:36:11.888656Z",
     "iopub.status.idle": "2021-09-09T02:36:12.024613Z",
     "shell.execute_reply": "2021-09-09T02:36:12.023611Z",
     "shell.execute_reply.started": "2021-09-09T02:36:11.889011Z"
    }
   },
   "outputs": [
    {
     "data": {
      "text/html": [
       "<div>\n",
       "<style scoped>\n",
       "    .dataframe tbody tr th:only-of-type {\n",
       "        vertical-align: middle;\n",
       "    }\n",
       "\n",
       "    .dataframe tbody tr th {\n",
       "        vertical-align: top;\n",
       "    }\n",
       "\n",
       "    .dataframe thead th {\n",
       "        text-align: right;\n",
       "    }\n",
       "</style>\n",
       "<table border=\"1\" class=\"dataframe\">\n",
       "  <thead>\n",
       "    <tr style=\"text-align: right;\">\n",
       "      <th></th>\n",
       "      <th>lei</th>\n",
       "      <th>derived_msa-md</th>\n",
       "      <th>census_tract</th>\n",
       "      <th>conforming_loan_limit</th>\n",
       "      <th>action_taken</th>\n",
       "      <th>purchaser_type</th>\n",
       "      <th>loan_type</th>\n",
       "      <th>loan_purpose</th>\n",
       "      <th>lien_status</th>\n",
       "      <th>reverse_mortgage</th>\n",
       "      <th>...</th>\n",
       "      <th>denial_reason-1</th>\n",
       "      <th>tract_population</th>\n",
       "      <th>tract_minority_population_percent</th>\n",
       "      <th>ffiec_msa_md_median_family_income</th>\n",
       "      <th>tract_to_msa_income_percentage</th>\n",
       "      <th>tract_owner_occupied_units</th>\n",
       "      <th>tract_one_to_four_family_homes</th>\n",
       "      <th>tract_median_age_of_housing_units</th>\n",
       "      <th>family-dwelling_type</th>\n",
       "      <th>high_cost_mortgage</th>\n",
       "    </tr>\n",
       "  </thead>\n",
       "  <tbody>\n",
       "    <tr>\n",
       "      <th>0</th>\n",
       "      <td>0.88</td>\n",
       "      <td>24.62</td>\n",
       "      <td>0.09</td>\n",
       "      <td>3.51</td>\n",
       "      <td>1</td>\n",
       "      <td>73.10</td>\n",
       "      <td>3.79</td>\n",
       "      <td>26.56</td>\n",
       "      <td>83.98</td>\n",
       "      <td>98.40</td>\n",
       "      <td>...</td>\n",
       "      <td>40.59</td>\n",
       "      <td>6065</td>\n",
       "      <td>27.55</td>\n",
       "      <td>126600.00</td>\n",
       "      <td>90</td>\n",
       "      <td>2164</td>\n",
       "      <td>4750</td>\n",
       "      <td>36</td>\n",
       "      <td>97.63</td>\n",
       "      <td>33.47</td>\n",
       "    </tr>\n",
       "    <tr>\n",
       "      <th>1</th>\n",
       "      <td>0.88</td>\n",
       "      <td>24.62</td>\n",
       "      <td>0.05</td>\n",
       "      <td>96.44</td>\n",
       "      <td>1</td>\n",
       "      <td>7.40</td>\n",
       "      <td>3.79</td>\n",
       "      <td>31.33</td>\n",
       "      <td>83.98</td>\n",
       "      <td>98.40</td>\n",
       "      <td>...</td>\n",
       "      <td>40.59</td>\n",
       "      <td>4384</td>\n",
       "      <td>12.02</td>\n",
       "      <td>126600.00</td>\n",
       "      <td>122</td>\n",
       "      <td>1319</td>\n",
       "      <td>1479</td>\n",
       "      <td>45</td>\n",
       "      <td>97.63</td>\n",
       "      <td>33.47</td>\n",
       "    </tr>\n",
       "    <tr>\n",
       "      <th>2</th>\n",
       "      <td>0.88</td>\n",
       "      <td>24.62</td>\n",
       "      <td>0.11</td>\n",
       "      <td>96.44</td>\n",
       "      <td>1</td>\n",
       "      <td>7.40</td>\n",
       "      <td>18.67</td>\n",
       "      <td>26.56</td>\n",
       "      <td>83.98</td>\n",
       "      <td>98.40</td>\n",
       "      <td>...</td>\n",
       "      <td>40.59</td>\n",
       "      <td>8488</td>\n",
       "      <td>40.34</td>\n",
       "      <td>126600.00</td>\n",
       "      <td>74</td>\n",
       "      <td>1943</td>\n",
       "      <td>2911</td>\n",
       "      <td>37</td>\n",
       "      <td>97.63</td>\n",
       "      <td>33.47</td>\n",
       "    </tr>\n",
       "    <tr>\n",
       "      <th>3</th>\n",
       "      <td>0.88</td>\n",
       "      <td>7.12</td>\n",
       "      <td>0.05</td>\n",
       "      <td>96.44</td>\n",
       "      <td>1</td>\n",
       "      <td>7.40</td>\n",
       "      <td>3.79</td>\n",
       "      <td>31.33</td>\n",
       "      <td>83.98</td>\n",
       "      <td>98.40</td>\n",
       "      <td>...</td>\n",
       "      <td>40.59</td>\n",
       "      <td>6364</td>\n",
       "      <td>4.98</td>\n",
       "      <td>77600.00</td>\n",
       "      <td>142</td>\n",
       "      <td>1802</td>\n",
       "      <td>2544</td>\n",
       "      <td>61</td>\n",
       "      <td>97.63</td>\n",
       "      <td>33.47</td>\n",
       "    </tr>\n",
       "    <tr>\n",
       "      <th>4</th>\n",
       "      <td>0.88</td>\n",
       "      <td>7.12</td>\n",
       "      <td>0.06</td>\n",
       "      <td>96.44</td>\n",
       "      <td>1</td>\n",
       "      <td>7.40</td>\n",
       "      <td>3.79</td>\n",
       "      <td>31.33</td>\n",
       "      <td>83.98</td>\n",
       "      <td>98.40</td>\n",
       "      <td>...</td>\n",
       "      <td>40.59</td>\n",
       "      <td>7401</td>\n",
       "      <td>17.97</td>\n",
       "      <td>77600.00</td>\n",
       "      <td>213</td>\n",
       "      <td>2519</td>\n",
       "      <td>2759</td>\n",
       "      <td>32</td>\n",
       "      <td>97.63</td>\n",
       "      <td>33.47</td>\n",
       "    </tr>\n",
       "  </tbody>\n",
       "</table>\n",
       "<p>5 rows × 47 columns</p>\n",
       "</div>"
      ],
      "text/plain": [
       "   lei  derived_msa-md  census_tract  conforming_loan_limit  action_taken  \\\n",
       "0 0.88           24.62          0.09                   3.51             1   \n",
       "1 0.88           24.62          0.05                  96.44             1   \n",
       "2 0.88           24.62          0.11                  96.44             1   \n",
       "3 0.88            7.12          0.05                  96.44             1   \n",
       "4 0.88            7.12          0.06                  96.44             1   \n",
       "\n",
       "   purchaser_type  loan_type  loan_purpose  lien_status  reverse_mortgage  \\\n",
       "0           73.10       3.79         26.56        83.98             98.40   \n",
       "1            7.40       3.79         31.33        83.98             98.40   \n",
       "2            7.40      18.67         26.56        83.98             98.40   \n",
       "3            7.40       3.79         31.33        83.98             98.40   \n",
       "4            7.40       3.79         31.33        83.98             98.40   \n",
       "\n",
       "   ...  denial_reason-1  tract_population  tract_minority_population_percent  \\\n",
       "0  ...            40.59              6065                              27.55   \n",
       "1  ...            40.59              4384                              12.02   \n",
       "2  ...            40.59              8488                              40.34   \n",
       "3  ...            40.59              6364                               4.98   \n",
       "4  ...            40.59              7401                              17.97   \n",
       "\n",
       "   ffiec_msa_md_median_family_income  tract_to_msa_income_percentage  \\\n",
       "0                          126600.00                              90   \n",
       "1                          126600.00                             122   \n",
       "2                          126600.00                              74   \n",
       "3                           77600.00                             142   \n",
       "4                           77600.00                             213   \n",
       "\n",
       "   tract_owner_occupied_units  tract_one_to_four_family_homes  \\\n",
       "0                        2164                            4750   \n",
       "1                        1319                            1479   \n",
       "2                        1943                            2911   \n",
       "3                        1802                            2544   \n",
       "4                        2519                            2759   \n",
       "\n",
       "   tract_median_age_of_housing_units  family-dwelling_type  high_cost_mortgage  \n",
       "0                                 36                 97.63               33.47  \n",
       "1                                 45                 97.63               33.47  \n",
       "2                                 37                 97.63               33.47  \n",
       "3                                 61                 97.63               33.47  \n",
       "4                                 32                 97.63               33.47  \n",
       "\n",
       "[5 rows x 47 columns]"
      ]
     },
     "execution_count": 256,
     "metadata": {},
     "output_type": "execute_result"
    }
   ],
   "source": [
    "df1['action_taken']=df1['action_taken'].replace({'approved':1,'denied':0})\n",
    "df1.head()"
   ]
  },
  {
   "cell_type": "code",
   "execution_count": 257,
   "metadata": {
    "execution": {
     "iopub.execute_input": "2021-09-09T02:36:12.026584Z",
     "iopub.status.busy": "2021-09-09T02:36:12.026060Z",
     "iopub.status.idle": "2021-09-09T02:36:12.035550Z",
     "shell.execute_reply": "2021-09-09T02:36:12.034179Z",
     "shell.execute_reply.started": "2021-09-09T02:36:12.026546Z"
    }
   },
   "outputs": [
    {
     "data": {
      "text/plain": [
       "0    107414\n",
       "1     73730\n",
       "Name: action_taken, dtype: int64"
      ]
     },
     "execution_count": 257,
     "metadata": {},
     "output_type": "execute_result"
    }
   ],
   "source": [
    "df1['action_taken'].value_counts()"
   ]
  },
  {
   "cell_type": "code",
   "execution_count": 258,
   "metadata": {
    "execution": {
     "iopub.execute_input": "2021-09-09T02:36:12.037267Z",
     "iopub.status.busy": "2021-09-09T02:36:12.036934Z",
     "iopub.status.idle": "2021-09-09T02:36:12.052256Z",
     "shell.execute_reply": "2021-09-09T02:36:12.051172Z",
     "shell.execute_reply.started": "2021-09-09T02:36:12.037235Z"
    }
   },
   "outputs": [
    {
     "data": {
      "text/plain": [
       "95.00        47637\n",
       "0.00          2045\n",
       "60.00         1515\n",
       "100.00        1434\n",
       "80.00         1250\n",
       "             ...  \n",
       "-53.00           1\n",
       "979.00           1\n",
       "78622.00         1\n",
       "259356.00        1\n",
       "134941.00        1\n",
       "Name: income, Length: 2694, dtype: int64"
      ]
     },
     "execution_count": 258,
     "metadata": {},
     "output_type": "execute_result"
    }
   ],
   "source": [
    "df1['income'].value_counts()"
   ]
  },
  {
   "cell_type": "code",
   "execution_count": 259,
   "metadata": {
    "execution": {
     "iopub.execute_input": "2021-09-09T02:36:12.053902Z",
     "iopub.status.busy": "2021-09-09T02:36:12.053611Z",
     "iopub.status.idle": "2021-09-09T02:36:12.252323Z",
     "shell.execute_reply": "2021-09-09T02:36:12.251235Z",
     "shell.execute_reply.started": "2021-09-09T02:36:12.053873Z"
    }
   },
   "outputs": [
    {
     "data": {
      "text/plain": [
       "<AxesSubplot:xlabel='income'>"
      ]
     },
     "execution_count": 259,
     "metadata": {},
     "output_type": "execute_result"
    },
    {
     "data": {
      "image/png": "[encoded data removed]",
      "text/plain": [
       "<Figure size 432x288 with 1 Axes>"
      ]
     },
     "metadata": {
      "needs_background": "light"
     },
     "output_type": "display_data"
    }
   ],
   "source": [
    "sns.boxplot(df['income'])"
   ]
  },
  {
   "cell_type": "code",
   "execution_count": 260,
   "metadata": {
    "execution": {
     "iopub.execute_input": "2021-09-09T02:36:12.254372Z",
     "iopub.status.busy": "2021-09-09T02:36:12.253935Z",
     "iopub.status.idle": "2021-09-09T02:36:12.259143Z",
     "shell.execute_reply": "2021-09-09T02:36:12.257777Z",
     "shell.execute_reply.started": "2021-09-09T02:36:12.254329Z"
    }
   },
   "outputs": [],
   "source": [
    "from sklearn.preprocessing import StandardScaler"
   ]
  },
  {
   "cell_type": "code",
   "execution_count": 261,
   "metadata": {
    "execution": {
     "iopub.execute_input": "2021-09-09T02:36:12.261233Z",
     "iopub.status.busy": "2021-09-09T02:36:12.260791Z",
     "iopub.status.idle": "2021-09-09T02:36:12.348838Z",
     "shell.execute_reply": "2021-09-09T02:36:12.347668Z",
     "shell.execute_reply.started": "2021-09-09T02:36:12.261190Z"
    }
   },
   "outputs": [],
   "source": [
    "#the below columns wouldn't be suitable for deploying model,hence dropping these columns\n",
    "x=df1.drop(['aus-1','co-applicant_credit_score_type','applicant_credit_score_type','action_taken','denial_reason-1'],axis=1)\n",
    "y=df1['action_taken']"
   ]
  },
  {
   "cell_type": "code",
   "execution_count": 262,
   "metadata": {
    "execution": {
     "iopub.execute_input": "2021-09-09T02:36:12.350936Z",
     "iopub.status.busy": "2021-09-09T02:36:12.350469Z",
     "iopub.status.idle": "2021-09-09T02:36:12.592504Z",
     "shell.execute_reply": "2021-09-09T02:36:12.591647Z",
     "shell.execute_reply.started": "2021-09-09T02:36:12.350880Z"
    }
   },
   "outputs": [
    {
     "data": {
      "text/html": [
       "<div>\n",
       "<style scoped>\n",
       "    .dataframe tbody tr th:only-of-type {\n",
       "        vertical-align: middle;\n",
       "    }\n",
       "\n",
       "    .dataframe tbody tr th {\n",
       "        vertical-align: top;\n",
       "    }\n",
       "\n",
       "    .dataframe thead th {\n",
       "        text-align: right;\n",
       "    }\n",
       "</style>\n",
       "<table border=\"1\" class=\"dataframe\">\n",
       "  <thead>\n",
       "    <tr style=\"text-align: right;\">\n",
       "      <th></th>\n",
       "      <th>lei</th>\n",
       "      <th>derived_msa-md</th>\n",
       "      <th>census_tract</th>\n",
       "      <th>conforming_loan_limit</th>\n",
       "      <th>purchaser_type</th>\n",
       "      <th>loan_type</th>\n",
       "      <th>loan_purpose</th>\n",
       "      <th>lien_status</th>\n",
       "      <th>reverse_mortgage</th>\n",
       "      <th>open-end_line_of_credit</th>\n",
       "      <th>...</th>\n",
       "      <th>initially_payable_to_institution</th>\n",
       "      <th>tract_population</th>\n",
       "      <th>tract_minority_population_percent</th>\n",
       "      <th>ffiec_msa_md_median_family_income</th>\n",
       "      <th>tract_to_msa_income_percentage</th>\n",
       "      <th>tract_owner_occupied_units</th>\n",
       "      <th>tract_one_to_four_family_homes</th>\n",
       "      <th>tract_median_age_of_housing_units</th>\n",
       "      <th>family-dwelling_type</th>\n",
       "      <th>high_cost_mortgage</th>\n",
       "    </tr>\n",
       "  </thead>\n",
       "  <tbody>\n",
       "    <tr>\n",
       "      <th>0</th>\n",
       "      <td>-0.67</td>\n",
       "      <td>0.44</td>\n",
       "      <td>0.60</td>\n",
       "      <td>-5.20</td>\n",
       "      <td>0.61</td>\n",
       "      <td>-2.27</td>\n",
       "      <td>0.55</td>\n",
       "      <td>0.44</td>\n",
       "      <td>0.13</td>\n",
       "      <td>0.50</td>\n",
       "      <td>...</td>\n",
       "      <td>-0.06</td>\n",
       "      <td>0.71</td>\n",
       "      <td>-0.16</td>\n",
       "      <td>1.63</td>\n",
       "      <td>-0.47</td>\n",
       "      <td>1.62</td>\n",
       "      <td>4.12</td>\n",
       "      <td>-1.13</td>\n",
       "      <td>0.16</td>\n",
       "      <td>-1.41</td>\n",
       "    </tr>\n",
       "    <tr>\n",
       "      <th>1</th>\n",
       "      <td>-0.67</td>\n",
       "      <td>0.44</td>\n",
       "      <td>0.06</td>\n",
       "      <td>0.19</td>\n",
       "      <td>-1.65</td>\n",
       "      <td>-2.27</td>\n",
       "      <td>1.06</td>\n",
       "      <td>0.44</td>\n",
       "      <td>0.13</td>\n",
       "      <td>0.50</td>\n",
       "      <td>...</td>\n",
       "      <td>-0.06</td>\n",
       "      <td>-0.18</td>\n",
       "      <td>-0.67</td>\n",
       "      <td>1.63</td>\n",
       "      <td>0.16</td>\n",
       "      <td>0.23</td>\n",
       "      <td>-0.11</td>\n",
       "      <td>-0.56</td>\n",
       "      <td>0.16</td>\n",
       "      <td>-1.41</td>\n",
       "    </tr>\n",
       "    <tr>\n",
       "      <th>2</th>\n",
       "      <td>-0.67</td>\n",
       "      <td>0.44</td>\n",
       "      <td>0.82</td>\n",
       "      <td>0.19</td>\n",
       "      <td>-1.65</td>\n",
       "      <td>-1.70</td>\n",
       "      <td>0.55</td>\n",
       "      <td>0.44</td>\n",
       "      <td>0.13</td>\n",
       "      <td>0.50</td>\n",
       "      <td>...</td>\n",
       "      <td>-0.06</td>\n",
       "      <td>1.99</td>\n",
       "      <td>0.26</td>\n",
       "      <td>1.63</td>\n",
       "      <td>-0.79</td>\n",
       "      <td>1.26</td>\n",
       "      <td>1.75</td>\n",
       "      <td>-1.06</td>\n",
       "      <td>0.16</td>\n",
       "      <td>-1.41</td>\n",
       "    </tr>\n",
       "    <tr>\n",
       "      <th>3</th>\n",
       "      <td>-0.67</td>\n",
       "      <td>-1.00</td>\n",
       "      <td>0.13</td>\n",
       "      <td>0.19</td>\n",
       "      <td>-1.65</td>\n",
       "      <td>-2.27</td>\n",
       "      <td>1.06</td>\n",
       "      <td>0.44</td>\n",
       "      <td>0.13</td>\n",
       "      <td>0.50</td>\n",
       "      <td>...</td>\n",
       "      <td>-0.06</td>\n",
       "      <td>0.86</td>\n",
       "      <td>-0.90</td>\n",
       "      <td>-0.71</td>\n",
       "      <td>0.55</td>\n",
       "      <td>1.02</td>\n",
       "      <td>1.27</td>\n",
       "      <td>0.45</td>\n",
       "      <td>0.16</td>\n",
       "      <td>-1.41</td>\n",
       "    </tr>\n",
       "    <tr>\n",
       "      <th>4</th>\n",
       "      <td>-0.67</td>\n",
       "      <td>-1.00</td>\n",
       "      <td>0.22</td>\n",
       "      <td>0.19</td>\n",
       "      <td>-1.65</td>\n",
       "      <td>-2.27</td>\n",
       "      <td>1.06</td>\n",
       "      <td>0.44</td>\n",
       "      <td>0.13</td>\n",
       "      <td>0.50</td>\n",
       "      <td>...</td>\n",
       "      <td>-0.06</td>\n",
       "      <td>1.41</td>\n",
       "      <td>-0.47</td>\n",
       "      <td>-0.71</td>\n",
       "      <td>1.94</td>\n",
       "      <td>2.20</td>\n",
       "      <td>1.55</td>\n",
       "      <td>-1.38</td>\n",
       "      <td>0.16</td>\n",
       "      <td>-1.41</td>\n",
       "    </tr>\n",
       "  </tbody>\n",
       "</table>\n",
       "<p>5 rows × 42 columns</p>\n",
       "</div>"
      ],
      "text/plain": [
       "    lei  derived_msa-md  census_tract  conforming_loan_limit  purchaser_type  \\\n",
       "0 -0.67            0.44          0.60                  -5.20            0.61   \n",
       "1 -0.67            0.44          0.06                   0.19           -1.65   \n",
       "2 -0.67            0.44          0.82                   0.19           -1.65   \n",
       "3 -0.67           -1.00          0.13                   0.19           -1.65   \n",
       "4 -0.67           -1.00          0.22                   0.19           -1.65   \n",
       "\n",
       "   loan_type  loan_purpose  lien_status  reverse_mortgage  \\\n",
       "0      -2.27          0.55         0.44              0.13   \n",
       "1      -2.27          1.06         0.44              0.13   \n",
       "2      -1.70          0.55         0.44              0.13   \n",
       "3      -2.27          1.06         0.44              0.13   \n",
       "4      -2.27          1.06         0.44              0.13   \n",
       "\n",
       "   open-end_line_of_credit  ...  initially_payable_to_institution  \\\n",
       "0                     0.50  ...                             -0.06   \n",
       "1                     0.50  ...                             -0.06   \n",
       "2                     0.50  ...                             -0.06   \n",
       "3                     0.50  ...                             -0.06   \n",
       "4                     0.50  ...                             -0.06   \n",
       "\n",
       "   tract_population  tract_minority_population_percent  \\\n",
       "0              0.71                              -0.16   \n",
       "1             -0.18                              -0.67   \n",
       "2              1.99                               0.26   \n",
       "3              0.86                              -0.90   \n",
       "4              1.41                              -0.47   \n",
       "\n",
       "   ffiec_msa_md_median_family_income  tract_to_msa_income_percentage  \\\n",
       "0                               1.63                           -0.47   \n",
       "1                               1.63                            0.16   \n",
       "2                               1.63                           -0.79   \n",
       "3                              -0.71                            0.55   \n",
       "4                              -0.71                            1.94   \n",
       "\n",
       "   tract_owner_occupied_units  tract_one_to_four_family_homes  \\\n",
       "0                        1.62                            4.12   \n",
       "1                        0.23                           -0.11   \n",
       "2                        1.26                            1.75   \n",
       "3                        1.02                            1.27   \n",
       "4                        2.20                            1.55   \n",
       "\n",
       "   tract_median_age_of_housing_units  family-dwelling_type  high_cost_mortgage  \n",
       "0                              -1.13                  0.16               -1.41  \n",
       "1                              -0.56                  0.16               -1.41  \n",
       "2                              -1.06                  0.16               -1.41  \n",
       "3                               0.45                  0.16               -1.41  \n",
       "4                              -1.38                  0.16               -1.41  \n",
       "\n",
       "[5 rows x 42 columns]"
      ]
     },
     "execution_count": 262,
     "metadata": {},
     "output_type": "execute_result"
    }
   ],
   "source": [
    "ss=StandardScaler()\n",
    "x_scaled=pd.DataFrame(ss.fit_transform(x),columns=x.columns)\n",
    "x_scaled.head()"
   ]
  },
  {
   "cell_type": "code",
   "execution_count": 263,
   "metadata": {
    "execution": {
     "iopub.execute_input": "2021-09-09T02:36:12.594252Z",
     "iopub.status.busy": "2021-09-09T02:36:12.593741Z",
     "iopub.status.idle": "2021-09-09T02:36:13.612464Z",
     "shell.execute_reply": "2021-09-09T02:36:13.611402Z",
     "shell.execute_reply.started": "2021-09-09T02:36:12.594216Z"
    }
   },
   "outputs": [],
   "source": [
    "from sklearn.model_selection import train_test_split,cross_val_score\n",
    "import statsmodels.api as sm\n",
    "from sklearn.metrics import accuracy_score,classification_report,confusion_matrix\n",
    "from sklearn.ensemble import RandomForestClassifier"
   ]
  },
  {
   "cell_type": "code",
   "execution_count": 264,
   "metadata": {
    "execution": {
     "iopub.execute_input": "2021-09-09T02:36:13.614174Z",
     "iopub.status.busy": "2021-09-09T02:36:13.613861Z",
     "iopub.status.idle": "2021-09-09T02:36:13.937222Z",
     "shell.execute_reply": "2021-09-09T02:36:13.936141Z",
     "shell.execute_reply.started": "2021-09-09T02:36:13.614145Z"
    }
   },
   "outputs": [],
   "source": [
    "x_const=sm.add_constant(x_scaled)\n",
    "x_train,x_test,y_train,y_test=train_test_split(x_const,y,test_size=0.3,stratify=y)"
   ]
  },
  {
   "cell_type": "code",
   "execution_count": 265,
   "metadata": {
    "execution": {
     "iopub.execute_input": "2021-09-09T02:36:13.938736Z",
     "iopub.status.busy": "2021-09-09T02:36:13.938455Z",
     "iopub.status.idle": "2021-09-09T02:36:16.941221Z",
     "shell.execute_reply": "2021-09-09T02:36:16.940053Z",
     "shell.execute_reply.started": "2021-09-09T02:36:13.938710Z"
    }
   },
   "outputs": [
    {
     "name": "stdout",
     "output_type": "stream",
     "text": [
      "Warning: Maximum number of iterations has been exceeded.\n",
      "         Current function value: 0.013344\n",
      "         Iterations: 35\n"
     ]
    },
    {
     "data": {
      "text/html": [
       "<table class=\"simpletable\">\n",
       "<caption>Logit Regression Results</caption>\n",
       "<tr>\n",
       "  <th>Dep. Variable:</th>     <td>action_taken</td>   <th>  No. Observations:  </th>  <td>126800</td> \n",
       "</tr>\n",
       "<tr>\n",
       "  <th>Model:</th>                 <td>Logit</td>      <th>  Df Residuals:      </th>  <td>126757</td> \n",
       "</tr>\n",
       "<tr>\n",
       "  <th>Method:</th>                 <td>MLE</td>       <th>  Df Model:          </th>  <td>    42</td> \n",
       "</tr>\n",
       "<tr>\n",
       "  <th>Date:</th>            <td>Thu, 16 Sep 2021</td> <th>  Pseudo R-squ.:     </th>  <td>0.9803</td> \n",
       "</tr>\n",
       "<tr>\n",
       "  <th>Time:</th>                <td>12:20:43</td>     <th>  Log-Likelihood:    </th> <td> -1692.1</td>\n",
       "</tr>\n",
       "<tr>\n",
       "  <th>converged:</th>             <td>False</td>      <th>  LL-Null:           </th> <td> -85686.</td>\n",
       "</tr>\n",
       "<tr>\n",
       "  <th>Covariance Type:</th>     <td>nonrobust</td>    <th>  LLR p-value:       </th>  <td> 0.000</td> \n",
       "</tr>\n",
       "</table>\n",
       "<table class=\"simpletable\">\n",
       "<tr>\n",
       "                  <td></td>                     <th>coef</th>     <th>std err</th>      <th>z</th>      <th>P>|z|</th>  <th>[0.025</th>    <th>0.975]</th>  \n",
       "</tr>\n",
       "<tr>\n",
       "  <th>const</th>                             <td>   21.3317</td> <td> 1.47e+06</td> <td> 1.45e-05</td> <td> 1.000</td> <td>-2.89e+06</td> <td> 2.89e+06</td>\n",
       "</tr>\n",
       "<tr>\n",
       "  <th>lei</th>                               <td>    0.8171</td> <td>    0.049</td> <td>   16.756</td> <td> 0.000</td> <td>    0.722</td> <td>    0.913</td>\n",
       "</tr>\n",
       "<tr>\n",
       "  <th>derived_msa-md</th>                    <td>    0.2461</td> <td>    0.078</td> <td>    3.163</td> <td> 0.002</td> <td>    0.094</td> <td>    0.399</td>\n",
       "</tr>\n",
       "<tr>\n",
       "  <th>census_tract</th>                      <td>    0.0132</td> <td>    0.052</td> <td>    0.252</td> <td> 0.801</td> <td>   -0.089</td> <td>    0.116</td>\n",
       "</tr>\n",
       "<tr>\n",
       "  <th>conforming_loan_limit</th>             <td>    0.2938</td> <td>    0.065</td> <td>    4.542</td> <td> 0.000</td> <td>    0.167</td> <td>    0.421</td>\n",
       "</tr>\n",
       "<tr>\n",
       "  <th>purchaser_type</th>                    <td>  -23.3821</td> <td> 2.45e+06</td> <td>-9.55e-06</td> <td> 1.000</td> <td> -4.8e+06</td> <td>  4.8e+06</td>\n",
       "</tr>\n",
       "<tr>\n",
       "  <th>loan_type</th>                         <td>   -0.3489</td> <td>    0.058</td> <td>   -6.045</td> <td> 0.000</td> <td>   -0.462</td> <td>   -0.236</td>\n",
       "</tr>\n",
       "<tr>\n",
       "  <th>loan_purpose</th>                      <td>   -0.2717</td> <td>    0.059</td> <td>   -4.595</td> <td> 0.000</td> <td>   -0.388</td> <td>   -0.156</td>\n",
       "</tr>\n",
       "<tr>\n",
       "  <th>lien_status</th>                       <td>    0.2206</td> <td>    0.121</td> <td>    1.820</td> <td> 0.069</td> <td>   -0.017</td> <td>    0.458</td>\n",
       "</tr>\n",
       "<tr>\n",
       "  <th>reverse_mortgage</th>                  <td>   -0.7215</td> <td>    0.136</td> <td>   -5.292</td> <td> 0.000</td> <td>   -0.989</td> <td>   -0.454</td>\n",
       "</tr>\n",
       "<tr>\n",
       "  <th>open-end_line_of_credit</th>           <td>    1.5759</td> <td>    0.303</td> <td>    5.195</td> <td> 0.000</td> <td>    0.981</td> <td>    2.170</td>\n",
       "</tr>\n",
       "<tr>\n",
       "  <th>business_or_commercial_purpose</th>    <td>    0.7529</td> <td>    0.045</td> <td>   16.697</td> <td> 0.000</td> <td>    0.664</td> <td>    0.841</td>\n",
       "</tr>\n",
       "<tr>\n",
       "  <th>loan_amount</th>                       <td>   -0.2549</td> <td>    0.140</td> <td>   -1.819</td> <td> 0.069</td> <td>   -0.530</td> <td>    0.020</td>\n",
       "</tr>\n",
       "<tr>\n",
       "  <th>loan_to_value_ratio</th>               <td>    4.1074</td> <td>    0.600</td> <td>    6.840</td> <td> 0.000</td> <td>    2.930</td> <td>    5.284</td>\n",
       "</tr>\n",
       "<tr>\n",
       "  <th>loan_term</th>                         <td>    0.0206</td> <td>    0.061</td> <td>    0.340</td> <td> 0.734</td> <td>   -0.098</td> <td>    0.139</td>\n",
       "</tr>\n",
       "<tr>\n",
       "  <th>negative_amortization</th>             <td>   -1.6431</td> <td>    0.201</td> <td>   -8.171</td> <td> 0.000</td> <td>   -2.037</td> <td>   -1.249</td>\n",
       "</tr>\n",
       "<tr>\n",
       "  <th>interest_only_payment</th>             <td>    0.3993</td> <td>    0.142</td> <td>    2.803</td> <td> 0.005</td> <td>    0.120</td> <td>    0.678</td>\n",
       "</tr>\n",
       "<tr>\n",
       "  <th>balloon_payment</th>                   <td>    0.1563</td> <td>    0.062</td> <td>    2.536</td> <td> 0.011</td> <td>    0.036</td> <td>    0.277</td>\n",
       "</tr>\n",
       "<tr>\n",
       "  <th>other_nonamortizing_features</th>      <td>   -0.1624</td> <td>    0.146</td> <td>   -1.110</td> <td> 0.267</td> <td>   -0.449</td> <td>    0.124</td>\n",
       "</tr>\n",
       "<tr>\n",
       "  <th>property_value</th>                    <td>   -0.3389</td> <td>    0.058</td> <td>   -5.866</td> <td> 0.000</td> <td>   -0.452</td> <td>   -0.226</td>\n",
       "</tr>\n",
       "<tr>\n",
       "  <th>occupancy_type</th>                    <td>   -0.6918</td> <td>    0.042</td> <td>  -16.352</td> <td> 0.000</td> <td>   -0.775</td> <td>   -0.609</td>\n",
       "</tr>\n",
       "<tr>\n",
       "  <th>total_units</th>                       <td>    0.0229</td> <td>    0.031</td> <td>    0.742</td> <td> 0.458</td> <td>   -0.038</td> <td>    0.083</td>\n",
       "</tr>\n",
       "<tr>\n",
       "  <th>income</th>                            <td>    4.5337</td> <td>    0.241</td> <td>   18.827</td> <td> 0.000</td> <td>    4.062</td> <td>    5.006</td>\n",
       "</tr>\n",
       "<tr>\n",
       "  <th>debt_to_income_ratio</th>              <td>    1.7423</td> <td>    0.333</td> <td>    5.225</td> <td> 0.000</td> <td>    1.089</td> <td>    2.396</td>\n",
       "</tr>\n",
       "<tr>\n",
       "  <th>applicant_ethnicity-1</th>             <td>    0.0556</td> <td>    0.070</td> <td>    0.797</td> <td> 0.425</td> <td>   -0.081</td> <td>    0.192</td>\n",
       "</tr>\n",
       "<tr>\n",
       "  <th>co-applicant_ethnicity-1</th>          <td>   -0.7429</td> <td>    0.194</td> <td>   -3.824</td> <td> 0.000</td> <td>   -1.124</td> <td>   -0.362</td>\n",
       "</tr>\n",
       "<tr>\n",
       "  <th>applicant_race-1</th>                  <td>   -0.1346</td> <td>    0.068</td> <td>   -1.987</td> <td> 0.047</td> <td>   -0.267</td> <td>   -0.002</td>\n",
       "</tr>\n",
       "<tr>\n",
       "  <th>co-applicant_race-1</th>               <td>    0.6028</td> <td>    0.212</td> <td>    2.837</td> <td> 0.005</td> <td>    0.186</td> <td>    1.019</td>\n",
       "</tr>\n",
       "<tr>\n",
       "  <th>applicant_sex</th>                     <td>    0.0603</td> <td>    0.064</td> <td>    0.943</td> <td> 0.346</td> <td>   -0.065</td> <td>    0.186</td>\n",
       "</tr>\n",
       "<tr>\n",
       "  <th>co-applicant_sex</th>                  <td>   -0.2083</td> <td>    0.248</td> <td>   -0.841</td> <td> 0.400</td> <td>   -0.694</td> <td>    0.277</td>\n",
       "</tr>\n",
       "<tr>\n",
       "  <th>applicant_age</th>                     <td>    4.0012</td> <td>    0.094</td> <td>   42.360</td> <td> 0.000</td> <td>    3.816</td> <td>    4.186</td>\n",
       "</tr>\n",
       "<tr>\n",
       "  <th>co-applicant_age</th>                  <td>   -0.1221</td> <td>    0.137</td> <td>   -0.888</td> <td> 0.374</td> <td>   -0.391</td> <td>    0.147</td>\n",
       "</tr>\n",
       "<tr>\n",
       "  <th>submission_of_application</th>         <td>   -0.3271</td> <td>    0.040</td> <td>   -8.089</td> <td> 0.000</td> <td>   -0.406</td> <td>   -0.248</td>\n",
       "</tr>\n",
       "<tr>\n",
       "  <th>initially_payable_to_institution</th>  <td>   -0.0567</td> <td>    0.044</td> <td>   -1.278</td> <td> 0.201</td> <td>   -0.144</td> <td>    0.030</td>\n",
       "</tr>\n",
       "<tr>\n",
       "  <th>tract_population</th>                  <td>   -0.0664</td> <td>    0.083</td> <td>   -0.797</td> <td> 0.425</td> <td>   -0.230</td> <td>    0.097</td>\n",
       "</tr>\n",
       "<tr>\n",
       "  <th>tract_minority_population_percent</th> <td>   -0.1700</td> <td>    0.080</td> <td>   -2.125</td> <td> 0.034</td> <td>   -0.327</td> <td>   -0.013</td>\n",
       "</tr>\n",
       "<tr>\n",
       "  <th>ffiec_msa_md_median_family_income</th> <td>   -0.1873</td> <td>    0.060</td> <td>   -3.117</td> <td> 0.002</td> <td>   -0.305</td> <td>   -0.070</td>\n",
       "</tr>\n",
       "<tr>\n",
       "  <th>tract_to_msa_income_percentage</th>    <td>   -0.1271</td> <td>    0.077</td> <td>   -1.653</td> <td> 0.098</td> <td>   -0.278</td> <td>    0.024</td>\n",
       "</tr>\n",
       "<tr>\n",
       "  <th>tract_owner_occupied_units</th>        <td>    0.0516</td> <td>    0.130</td> <td>    0.396</td> <td> 0.692</td> <td>   -0.204</td> <td>    0.307</td>\n",
       "</tr>\n",
       "<tr>\n",
       "  <th>tract_one_to_four_family_homes</th>    <td>    0.0380</td> <td>    0.079</td> <td>    0.479</td> <td> 0.632</td> <td>   -0.117</td> <td>    0.194</td>\n",
       "</tr>\n",
       "<tr>\n",
       "  <th>tract_median_age_of_housing_units</th> <td>   -0.0314</td> <td>    0.061</td> <td>   -0.519</td> <td> 0.604</td> <td>   -0.150</td> <td>    0.087</td>\n",
       "</tr>\n",
       "<tr>\n",
       "  <th>family-dwelling_type</th>              <td>    0.2010</td> <td>    0.061</td> <td>    3.294</td> <td> 0.001</td> <td>    0.081</td> <td>    0.321</td>\n",
       "</tr>\n",
       "<tr>\n",
       "  <th>high_cost_mortgage</th>                <td>  -21.3694</td> <td> 3.28e+05</td> <td>-6.51e-05</td> <td> 1.000</td> <td>-6.44e+05</td> <td> 6.44e+05</td>\n",
       "</tr>\n",
       "</table><br/><br/>Possibly complete quasi-separation: A fraction 0.80 of observations can be<br/>perfectly predicted. This might indicate that there is complete<br/>quasi-separation. In this case some parameters will not be identified."
      ],
      "text/plain": [
       "<class 'statsmodels.iolib.summary.Summary'>\n",
       "\"\"\"\n",
       "                           Logit Regression Results                           \n",
       "==============================================================================\n",
       "Dep. Variable:           action_taken   No. Observations:               126800\n",
       "Model:                          Logit   Df Residuals:                   126757\n",
       "Method:                           MLE   Df Model:                           42\n",
       "Date:                Thu, 16 Sep 2021   Pseudo R-squ.:                  0.9803\n",
       "Time:                        12:20:43   Log-Likelihood:                -1692.1\n",
       "converged:                      False   LL-Null:                       -85686.\n",
       "Covariance Type:            nonrobust   LLR p-value:                     0.000\n",
       "=====================================================================================================\n",
       "                                        coef    std err          z      P>|z|      [0.025      0.975]\n",
       "-----------------------------------------------------------------------------------------------------\n",
       "const                                21.3317   1.47e+06   1.45e-05      1.000   -2.89e+06    2.89e+06\n",
       "lei                                   0.8171      0.049     16.756      0.000       0.722       0.913\n",
       "derived_msa-md                        0.2461      0.078      3.163      0.002       0.094       0.399\n",
       "census_tract                          0.0132      0.052      0.252      0.801      -0.089       0.116\n",
       "conforming_loan_limit                 0.2938      0.065      4.542      0.000       0.167       0.421\n",
       "purchaser_type                      -23.3821   2.45e+06  -9.55e-06      1.000    -4.8e+06     4.8e+06\n",
       "loan_type                            -0.3489      0.058     -6.045      0.000      -0.462      -0.236\n",
       "loan_purpose                         -0.2717      0.059     -4.595      0.000      -0.388      -0.156\n",
       "lien_status                           0.2206      0.121      1.820      0.069      -0.017       0.458\n",
       "reverse_mortgage                     -0.7215      0.136     -5.292      0.000      -0.989      -0.454\n",
       "open-end_line_of_credit               1.5759      0.303      5.195      0.000       0.981       2.170\n",
       "business_or_commercial_purpose        0.7529      0.045     16.697      0.000       0.664       0.841\n",
       "loan_amount                          -0.2549      0.140     -1.819      0.069      -0.530       0.020\n",
       "loan_to_value_ratio                   4.1074      0.600      6.840      0.000       2.930       5.284\n",
       "loan_term                             0.0206      0.061      0.340      0.734      -0.098       0.139\n",
       "negative_amortization                -1.6431      0.201     -8.171      0.000      -2.037      -1.249\n",
       "interest_only_payment                 0.3993      0.142      2.803      0.005       0.120       0.678\n",
       "balloon_payment                       0.1563      0.062      2.536      0.011       0.036       0.277\n",
       "other_nonamortizing_features         -0.1624      0.146     -1.110      0.267      -0.449       0.124\n",
       "property_value                       -0.3389      0.058     -5.866      0.000      -0.452      -0.226\n",
       "occupancy_type                       -0.6918      0.042    -16.352      0.000      -0.775      -0.609\n",
       "total_units                           0.0229      0.031      0.742      0.458      -0.038       0.083\n",
       "income                                4.5337      0.241     18.827      0.000       4.062       5.006\n",
       "debt_to_income_ratio                  1.7423      0.333      5.225      0.000       1.089       2.396\n",
       "applicant_ethnicity-1                 0.0556      0.070      0.797      0.425      -0.081       0.192\n",
       "co-applicant_ethnicity-1             -0.7429      0.194     -3.824      0.000      -1.124      -0.362\n",
       "applicant_race-1                     -0.1346      0.068     -1.987      0.047      -0.267      -0.002\n",
       "co-applicant_race-1                   0.6028      0.212      2.837      0.005       0.186       1.019\n",
       "applicant_sex                         0.0603      0.064      0.943      0.346      -0.065       0.186\n",
       "co-applicant_sex                     -0.2083      0.248     -0.841      0.400      -0.694       0.277\n",
       "applicant_age                         4.0012      0.094     42.360      0.000       3.816       4.186\n",
       "co-applicant_age                     -0.1221      0.137     -0.888      0.374      -0.391       0.147\n",
       "submission_of_application            -0.3271      0.040     -8.089      0.000      -0.406      -0.248\n",
       "initially_payable_to_institution     -0.0567      0.044     -1.278      0.201      -0.144       0.030\n",
       "tract_population                     -0.0664      0.083     -0.797      0.425      -0.230       0.097\n",
       "tract_minority_population_percent    -0.1700      0.080     -2.125      0.034      -0.327      -0.013\n",
       "ffiec_msa_md_median_family_income    -0.1873      0.060     -3.117      0.002      -0.305      -0.070\n",
       "tract_to_msa_income_percentage       -0.1271      0.077     -1.653      0.098      -0.278       0.024\n",
       "tract_owner_occupied_units            0.0516      0.130      0.396      0.692      -0.204       0.307\n",
       "tract_one_to_four_family_homes        0.0380      0.079      0.479      0.632      -0.117       0.194\n",
       "tract_median_age_of_housing_units    -0.0314      0.061     -0.519      0.604      -0.150       0.087\n",
       "family-dwelling_type                  0.2010      0.061      3.294      0.001       0.081       0.321\n",
       "high_cost_mortgage                  -21.3694   3.28e+05  -6.51e-05      1.000   -6.44e+05    6.44e+05\n",
       "=====================================================================================================\n",
       "\n",
       "Possibly complete quasi-separation: A fraction 0.80 of observations can be\n",
       "perfectly predicted. This might indicate that there is complete\n",
       "quasi-separation. In this case some parameters will not be identified.\n",
       "\"\"\""
      ]
     },
     "execution_count": 265,
     "metadata": {},
     "output_type": "execute_result"
    }
   ],
   "source": [
    "base_model=sm.Logit(y_train,x_train).fit()\n",
    "base_model.summary()"
   ]
  },
  {
   "cell_type": "code",
   "execution_count": 266,
   "metadata": {
    "execution": {
     "iopub.execute_input": "2021-09-09T02:36:16.943602Z",
     "iopub.status.busy": "2021-09-09T02:36:16.942912Z",
     "iopub.status.idle": "2021-09-09T02:36:17.050858Z",
     "shell.execute_reply": "2021-09-09T02:36:17.049717Z",
     "shell.execute_reply.started": "2021-09-09T02:36:16.943551Z"
    }
   },
   "outputs": [
    {
     "data": {
      "text/plain": [
       "0.9974054173413809"
      ]
     },
     "execution_count": 266,
     "metadata": {},
     "output_type": "execute_result"
    }
   ],
   "source": [
    "bas_pred=base_model.predict(x_test)\n",
    "base_pred=[1 if x>0.5 else 0 for x in bas_pred]\n",
    "accuracy_score(y_test,base_pred)"
   ]
  },
  {
   "cell_type": "code",
   "execution_count": 267,
   "metadata": {
    "execution": {
     "iopub.execute_input": "2021-09-09T02:36:17.059357Z",
     "iopub.status.busy": "2021-09-09T02:36:17.056342Z",
     "iopub.status.idle": "2021-09-09T02:36:20.471522Z",
     "shell.execute_reply": "2021-09-09T02:36:20.470456Z",
     "shell.execute_reply.started": "2021-09-09T02:36:17.059289Z"
    }
   },
   "outputs": [],
   "source": [
    "from sklearn.linear_model import LogisticRegression\n",
    "lr=LogisticRegression(solver='liblinear')\n",
    "lr_model=lr.fit(x_train,y_train)"
   ]
  },
  {
   "cell_type": "code",
   "execution_count": 268,
   "metadata": {
    "execution": {
     "iopub.execute_input": "2021-09-09T02:36:20.472987Z",
     "iopub.status.busy": "2021-09-09T02:36:20.472711Z",
     "iopub.status.idle": "2021-09-09T02:36:20.501425Z",
     "shell.execute_reply": "2021-09-09T02:36:20.500322Z",
     "shell.execute_reply.started": "2021-09-09T02:36:20.472960Z"
    }
   },
   "outputs": [
    {
     "data": {
      "text/plain": [
       "0.9973134108641248"
      ]
     },
     "execution_count": 268,
     "metadata": {},
     "output_type": "execute_result"
    }
   ],
   "source": [
    "lr_model.score(x_test,y_test)"
   ]
  },
  {
   "cell_type": "code",
   "execution_count": 269,
   "metadata": {
    "execution": {
     "iopub.execute_input": "2021-09-09T02:36:20.509551Z",
     "iopub.status.busy": "2021-09-09T02:36:20.506719Z",
     "iopub.status.idle": "2021-09-09T02:36:20.545884Z",
     "shell.execute_reply": "2021-09-09T02:36:20.544733Z",
     "shell.execute_reply.started": "2021-09-09T02:36:20.509485Z"
    }
   },
   "outputs": [
    {
     "data": {
      "text/html": [
       "<div>\n",
       "<style scoped>\n",
       "    .dataframe tbody tr th:only-of-type {\n",
       "        vertical-align: middle;\n",
       "    }\n",
       "\n",
       "    .dataframe tbody tr th {\n",
       "        vertical-align: top;\n",
       "    }\n",
       "\n",
       "    .dataframe thead th {\n",
       "        text-align: right;\n",
       "    }\n",
       "</style>\n",
       "<table border=\"1\" class=\"dataframe\">\n",
       "  <thead>\n",
       "    <tr style=\"text-align: right;\">\n",
       "      <th></th>\n",
       "      <th>feat</th>\n",
       "      <th>coef</th>\n",
       "      <th>ODD</th>\n",
       "    </tr>\n",
       "  </thead>\n",
       "  <tbody>\n",
       "    <tr>\n",
       "      <th>22</th>\n",
       "      <td>income</td>\n",
       "      <td>4.13</td>\n",
       "      <td>62.12</td>\n",
       "    </tr>\n",
       "    <tr>\n",
       "      <th>30</th>\n",
       "      <td>applicant_age</td>\n",
       "      <td>3.77</td>\n",
       "      <td>43.38</td>\n",
       "    </tr>\n",
       "    <tr>\n",
       "      <th>13</th>\n",
       "      <td>loan_to_value_ratio</td>\n",
       "      <td>3.34</td>\n",
       "      <td>28.19</td>\n",
       "    </tr>\n",
       "    <tr>\n",
       "      <th>23</th>\n",
       "      <td>debt_to_income_ratio</td>\n",
       "      <td>1.58</td>\n",
       "      <td>4.84</td>\n",
       "    </tr>\n",
       "    <tr>\n",
       "      <th>10</th>\n",
       "      <td>open-end_line_of_credit</td>\n",
       "      <td>1.29</td>\n",
       "      <td>3.62</td>\n",
       "    </tr>\n",
       "    <tr>\n",
       "      <th>0</th>\n",
       "      <td>const</td>\n",
       "      <td>1.00</td>\n",
       "      <td>2.71</td>\n",
       "    </tr>\n",
       "    <tr>\n",
       "      <th>1</th>\n",
       "      <td>lei</td>\n",
       "      <td>0.82</td>\n",
       "      <td>2.27</td>\n",
       "    </tr>\n",
       "    <tr>\n",
       "      <th>11</th>\n",
       "      <td>business_or_commercial_purpose</td>\n",
       "      <td>0.69</td>\n",
       "      <td>1.99</td>\n",
       "    </tr>\n",
       "    <tr>\n",
       "      <th>27</th>\n",
       "      <td>co-applicant_race-1</td>\n",
       "      <td>0.50</td>\n",
       "      <td>1.65</td>\n",
       "    </tr>\n",
       "    <tr>\n",
       "      <th>16</th>\n",
       "      <td>interest_only_payment</td>\n",
       "      <td>0.33</td>\n",
       "      <td>1.39</td>\n",
       "    </tr>\n",
       "    <tr>\n",
       "      <th>4</th>\n",
       "      <td>conforming_loan_limit</td>\n",
       "      <td>0.28</td>\n",
       "      <td>1.32</td>\n",
       "    </tr>\n",
       "    <tr>\n",
       "      <th>8</th>\n",
       "      <td>lien_status</td>\n",
       "      <td>0.23</td>\n",
       "      <td>1.26</td>\n",
       "    </tr>\n",
       "    <tr>\n",
       "      <th>2</th>\n",
       "      <td>derived_msa-md</td>\n",
       "      <td>0.21</td>\n",
       "      <td>1.24</td>\n",
       "    </tr>\n",
       "    <tr>\n",
       "      <th>41</th>\n",
       "      <td>family-dwelling_type</td>\n",
       "      <td>0.19</td>\n",
       "      <td>1.21</td>\n",
       "    </tr>\n",
       "    <tr>\n",
       "      <th>17</th>\n",
       "      <td>balloon_payment</td>\n",
       "      <td>0.17</td>\n",
       "      <td>1.18</td>\n",
       "    </tr>\n",
       "    <tr>\n",
       "      <th>28</th>\n",
       "      <td>applicant_sex</td>\n",
       "      <td>0.05</td>\n",
       "      <td>1.05</td>\n",
       "    </tr>\n",
       "    <tr>\n",
       "      <th>39</th>\n",
       "      <td>tract_one_to_four_family_homes</td>\n",
       "      <td>0.04</td>\n",
       "      <td>1.04</td>\n",
       "    </tr>\n",
       "    <tr>\n",
       "      <th>14</th>\n",
       "      <td>loan_term</td>\n",
       "      <td>0.04</td>\n",
       "      <td>1.04</td>\n",
       "    </tr>\n",
       "    <tr>\n",
       "      <th>24</th>\n",
       "      <td>applicant_ethnicity-1</td>\n",
       "      <td>0.03</td>\n",
       "      <td>1.03</td>\n",
       "    </tr>\n",
       "    <tr>\n",
       "      <th>38</th>\n",
       "      <td>tract_owner_occupied_units</td>\n",
       "      <td>0.03</td>\n",
       "      <td>1.03</td>\n",
       "    </tr>\n",
       "    <tr>\n",
       "      <th>21</th>\n",
       "      <td>total_units</td>\n",
       "      <td>0.02</td>\n",
       "      <td>1.02</td>\n",
       "    </tr>\n",
       "    <tr>\n",
       "      <th>3</th>\n",
       "      <td>census_tract</td>\n",
       "      <td>0.01</td>\n",
       "      <td>1.01</td>\n",
       "    </tr>\n",
       "    <tr>\n",
       "      <th>40</th>\n",
       "      <td>tract_median_age_of_housing_units</td>\n",
       "      <td>-0.02</td>\n",
       "      <td>0.98</td>\n",
       "    </tr>\n",
       "    <tr>\n",
       "      <th>33</th>\n",
       "      <td>initially_payable_to_institution</td>\n",
       "      <td>-0.05</td>\n",
       "      <td>0.95</td>\n",
       "    </tr>\n",
       "    <tr>\n",
       "      <th>34</th>\n",
       "      <td>tract_population</td>\n",
       "      <td>-0.05</td>\n",
       "      <td>0.95</td>\n",
       "    </tr>\n",
       "    <tr>\n",
       "      <th>31</th>\n",
       "      <td>co-applicant_age</td>\n",
       "      <td>-0.09</td>\n",
       "      <td>0.91</td>\n",
       "    </tr>\n",
       "    <tr>\n",
       "      <th>18</th>\n",
       "      <td>other_nonamortizing_features</td>\n",
       "      <td>-0.10</td>\n",
       "      <td>0.91</td>\n",
       "    </tr>\n",
       "    <tr>\n",
       "      <th>37</th>\n",
       "      <td>tract_to_msa_income_percentage</td>\n",
       "      <td>-0.11</td>\n",
       "      <td>0.90</td>\n",
       "    </tr>\n",
       "    <tr>\n",
       "      <th>26</th>\n",
       "      <td>applicant_race-1</td>\n",
       "      <td>-0.11</td>\n",
       "      <td>0.90</td>\n",
       "    </tr>\n",
       "    <tr>\n",
       "      <th>35</th>\n",
       "      <td>tract_minority_population_percent</td>\n",
       "      <td>-0.16</td>\n",
       "      <td>0.85</td>\n",
       "    </tr>\n",
       "    <tr>\n",
       "      <th>36</th>\n",
       "      <td>ffiec_msa_md_median_family_income</td>\n",
       "      <td>-0.17</td>\n",
       "      <td>0.84</td>\n",
       "    </tr>\n",
       "    <tr>\n",
       "      <th>29</th>\n",
       "      <td>co-applicant_sex</td>\n",
       "      <td>-0.18</td>\n",
       "      <td>0.83</td>\n",
       "    </tr>\n",
       "    <tr>\n",
       "      <th>12</th>\n",
       "      <td>loan_amount</td>\n",
       "      <td>-0.28</td>\n",
       "      <td>0.75</td>\n",
       "    </tr>\n",
       "    <tr>\n",
       "      <th>7</th>\n",
       "      <td>loan_purpose</td>\n",
       "      <td>-0.28</td>\n",
       "      <td>0.75</td>\n",
       "    </tr>\n",
       "    <tr>\n",
       "      <th>19</th>\n",
       "      <td>property_value</td>\n",
       "      <td>-0.32</td>\n",
       "      <td>0.73</td>\n",
       "    </tr>\n",
       "    <tr>\n",
       "      <th>32</th>\n",
       "      <td>submission_of_application</td>\n",
       "      <td>-0.33</td>\n",
       "      <td>0.72</td>\n",
       "    </tr>\n",
       "    <tr>\n",
       "      <th>6</th>\n",
       "      <td>loan_type</td>\n",
       "      <td>-0.34</td>\n",
       "      <td>0.71</td>\n",
       "    </tr>\n",
       "    <tr>\n",
       "      <th>20</th>\n",
       "      <td>occupancy_type</td>\n",
       "      <td>-0.65</td>\n",
       "      <td>0.52</td>\n",
       "    </tr>\n",
       "    <tr>\n",
       "      <th>9</th>\n",
       "      <td>reverse_mortgage</td>\n",
       "      <td>-0.65</td>\n",
       "      <td>0.52</td>\n",
       "    </tr>\n",
       "    <tr>\n",
       "      <th>25</th>\n",
       "      <td>co-applicant_ethnicity-1</td>\n",
       "      <td>-0.67</td>\n",
       "      <td>0.51</td>\n",
       "    </tr>\n",
       "    <tr>\n",
       "      <th>15</th>\n",
       "      <td>negative_amortization</td>\n",
       "      <td>-1.37</td>\n",
       "      <td>0.26</td>\n",
       "    </tr>\n",
       "    <tr>\n",
       "      <th>5</th>\n",
       "      <td>purchaser_type</td>\n",
       "      <td>-6.64</td>\n",
       "      <td>0.00</td>\n",
       "    </tr>\n",
       "    <tr>\n",
       "      <th>42</th>\n",
       "      <td>high_cost_mortgage</td>\n",
       "      <td>-7.21</td>\n",
       "      <td>0.00</td>\n",
       "    </tr>\n",
       "  </tbody>\n",
       "</table>\n",
       "</div>"
      ],
      "text/plain": [
       "                                 feat  coef   ODD\n",
       "22                             income  4.13 62.12\n",
       "30                      applicant_age  3.77 43.38\n",
       "13                loan_to_value_ratio  3.34 28.19\n",
       "23               debt_to_income_ratio  1.58  4.84\n",
       "10            open-end_line_of_credit  1.29  3.62\n",
       "0                               const  1.00  2.71\n",
       "1                                 lei  0.82  2.27\n",
       "11     business_or_commercial_purpose  0.69  1.99\n",
       "27                co-applicant_race-1  0.50  1.65\n",
       "16              interest_only_payment  0.33  1.39\n",
       "4               conforming_loan_limit  0.28  1.32\n",
       "8                         lien_status  0.23  1.26\n",
       "2                      derived_msa-md  0.21  1.24\n",
       "41               family-dwelling_type  0.19  1.21\n",
       "17                    balloon_payment  0.17  1.18\n",
       "28                      applicant_sex  0.05  1.05\n",
       "39     tract_one_to_four_family_homes  0.04  1.04\n",
       "14                          loan_term  0.04  1.04\n",
       "24              applicant_ethnicity-1  0.03  1.03\n",
       "38         tract_owner_occupied_units  0.03  1.03\n",
       "21                        total_units  0.02  1.02\n",
       "3                        census_tract  0.01  1.01\n",
       "40  tract_median_age_of_housing_units -0.02  0.98\n",
       "33   initially_payable_to_institution -0.05  0.95\n",
       "34                   tract_population -0.05  0.95\n",
       "31                   co-applicant_age -0.09  0.91\n",
       "18       other_nonamortizing_features -0.10  0.91\n",
       "37     tract_to_msa_income_percentage -0.11  0.90\n",
       "26                   applicant_race-1 -0.11  0.90\n",
       "35  tract_minority_population_percent -0.16  0.85\n",
       "36  ffiec_msa_md_median_family_income -0.17  0.84\n",
       "29                   co-applicant_sex -0.18  0.83\n",
       "12                        loan_amount -0.28  0.75\n",
       "7                        loan_purpose -0.28  0.75\n",
       "19                     property_value -0.32  0.73\n",
       "32          submission_of_application -0.33  0.72\n",
       "6                           loan_type -0.34  0.71\n",
       "20                     occupancy_type -0.65  0.52\n",
       "9                    reverse_mortgage -0.65  0.52\n",
       "25           co-applicant_ethnicity-1 -0.67  0.51\n",
       "15              negative_amortization -1.37  0.26\n",
       "5                      purchaser_type -6.64  0.00\n",
       "42                 high_cost_mortgage -7.21  0.00"
      ]
     },
     "execution_count": 269,
     "metadata": {},
     "output_type": "execute_result"
    }
   ],
   "source": [
    "coef=pd.DataFrame({'feat':x_train.columns,'coef':lr_model.coef_[0]})\n",
    "coef['ODD']=np.exp(coef['coef'])\n",
    "coef.sort_values('coef',ascending=False)"
   ]
  },
  {
   "cell_type": "markdown",
   "metadata": {},
   "source": [
    "## Cross validating Random forest model"
   ]
  },
  {
   "cell_type": "code",
   "execution_count": 270,
   "metadata": {
    "execution": {
     "iopub.execute_input": "2021-09-09T02:36:20.554696Z",
     "iopub.status.busy": "2021-09-09T02:36:20.551711Z",
     "iopub.status.idle": "2021-09-09T02:36:20.769839Z",
     "shell.execute_reply": "2021-09-09T02:36:20.768889Z",
     "shell.execute_reply.started": "2021-09-09T02:36:20.554628Z"
    }
   },
   "outputs": [],
   "source": [
    "x_train,x_test,y_train,y_test=train_test_split(x_scaled,y,test_size=0.3,stratify=y)"
   ]
  },
  {
   "cell_type": "code",
   "execution_count": 271,
   "metadata": {
    "execution": {
     "iopub.execute_input": "2021-09-09T02:36:20.774407Z",
     "iopub.status.busy": "2021-09-09T02:36:20.773752Z",
     "iopub.status.idle": "2021-09-09T02:36:29.018396Z",
     "shell.execute_reply": "2021-09-09T02:36:29.017239Z",
     "shell.execute_reply.started": "2021-09-09T02:36:20.774337Z"
    }
   },
   "outputs": [],
   "source": [
    "rf=RandomForestClassifier()\n",
    "rf_model=rf.fit(x_train,y_train)"
   ]
  },
  {
   "cell_type": "code",
   "execution_count": 272,
   "metadata": {
    "execution": {
     "iopub.execute_input": "2021-09-09T02:36:29.020066Z",
     "iopub.status.busy": "2021-09-09T02:36:29.019748Z",
     "iopub.status.idle": "2021-09-09T02:36:29.447919Z",
     "shell.execute_reply": "2021-09-09T02:36:29.446924Z",
     "shell.execute_reply.started": "2021-09-09T02:36:29.020036Z"
    }
   },
   "outputs": [
    {
     "data": {
      "text/plain": [
       "0.9999447961136464"
      ]
     },
     "execution_count": 272,
     "metadata": {},
     "output_type": "execute_result"
    }
   ],
   "source": [
    "rf_model.score(x_test,y_test)"
   ]
  },
  {
   "cell_type": "code",
   "execution_count": 273,
   "metadata": {
    "execution": {
     "iopub.execute_input": "2021-09-09T02:36:29.451564Z",
     "iopub.status.busy": "2021-09-09T02:36:29.450959Z",
     "iopub.status.idle": "2021-09-09T02:36:29.878391Z",
     "shell.execute_reply": "2021-09-09T02:36:29.877406Z",
     "shell.execute_reply.started": "2021-09-09T02:36:29.451526Z"
    }
   },
   "outputs": [
    {
     "data": {
      "text/plain": [
       "0.9999447961136464"
      ]
     },
     "execution_count": 273,
     "metadata": {},
     "output_type": "execute_result"
    }
   ],
   "source": [
    "rf_pred=rf_model.predict(x_test)\n",
    "accuracy_score(y_test,rf_pred)"
   ]
  },
  {
   "cell_type": "code",
   "execution_count": 275,
   "metadata": {
    "execution": {
     "iopub.execute_input": "2021-09-09T02:36:31.287087Z",
     "iopub.status.busy": "2021-09-09T02:36:31.286773Z",
     "iopub.status.idle": "2021-09-09T02:37:05.758898Z",
     "shell.execute_reply": "2021-09-09T02:37:05.757880Z",
     "shell.execute_reply.started": "2021-09-09T02:36:31.287056Z"
    }
   },
   "outputs": [
    {
     "name": "stdout",
     "output_type": "stream",
     "text": [
      "bias error 8.310555388302276e-08\n",
      "variance error 7.408308956107719e-08\n"
     ]
    }
   ],
   "source": [
    "score=cross_val_score(rf,x_train,y_train,cv=5,scoring='roc_auc')\n",
    "print('bias error', 1-np.mean(score))\n",
    "print('variance error',np.std(score)/np.mean(score))"
   ]
  },
  {
   "cell_type": "markdown",
   "metadata": {},
   "source": [
    "## trying with other models"
   ]
  },
  {
   "cell_type": "code",
   "execution_count": 278,
   "metadata": {
    "execution": {
     "iopub.execute_input": "2021-09-09T02:37:06.211191Z",
     "iopub.status.busy": "2021-09-09T02:37:06.210754Z",
     "iopub.status.idle": "2021-09-09T02:37:06.314767Z",
     "shell.execute_reply": "2021-09-09T02:37:06.313629Z",
     "shell.execute_reply.started": "2021-09-09T02:37:06.211137Z"
    }
   },
   "outputs": [],
   "source": [
    "from sklearn.tree import DecisionTreeClassifier\n",
    "from sklearn.neighbors import KNeighborsClassifier\n",
    "from sklearn.linear_model import LogisticRegression\n",
    "from sklearn.ensemble import RandomForestClassifier\n",
    "from sklearn.naive_bayes import GaussianNB\n",
    "from sklearn.ensemble import GradientBoostingClassifier\n",
    "from xgboost import XGBClassifier\n",
    "from sklearn.model_selection import cross_val_score"
   ]
  },
  {
   "cell_type": "code",
   "execution_count": 279,
   "metadata": {
    "execution": {
     "iopub.execute_input": "2021-09-09T02:37:06.316940Z",
     "iopub.status.busy": "2021-09-09T02:37:06.316512Z",
     "iopub.status.idle": "2021-09-09T02:37:06.323381Z",
     "shell.execute_reply": "2021-09-09T02:37:06.321864Z",
     "shell.execute_reply.started": "2021-09-09T02:37:06.316892Z"
    }
   },
   "outputs": [],
   "source": [
    "clf1=LogisticRegression(solver='liblinear')\n",
    "clf2=DecisionTreeClassifier()\n",
    "clf3=RandomForestClassifier()\n",
    "clf5=GaussianNB()\n",
    "clf6=GradientBoostingClassifier()\n",
    "clf7=XGBClassifier()"
   ]
  },
  {
   "cell_type": "code",
   "execution_count": 280,
   "metadata": {
    "execution": {
     "iopub.execute_input": "2021-09-09T02:37:06.325682Z",
     "iopub.status.busy": "2021-09-09T02:37:06.325197Z",
     "iopub.status.idle": "2021-09-09T02:38:07.603898Z",
     "shell.execute_reply": "2021-09-09T02:38:07.602826Z",
     "shell.execute_reply.started": "2021-09-09T02:37:06.325642Z"
    }
   },
   "outputs": [
    {
     "name": "stdout",
     "output_type": "stream",
     "text": [
      "Logreg train: 0.9974763406940063\n",
      "Logreg test: 0.9974606212277344\n",
      "DT train: 1.0\n",
      "DT test: 0.9999815987045488\n",
      "RF train: 1.0\n",
      "RF test: 0.999907993522744\n",
      "GaussNB train: 0.9928391167192429\n",
      "GaussNB test: 0.9930075077285441\n",
      "GradBoost train: 0.9999211356466877\n",
      "GradBoost test: 0.9998527896363903\n",
      "[12:22:32] WARNING: C:/Users/Administrator/workspace/xgboost-win64_release_1.4.0/src/learner.cc:1095: Starting in XGBoost 1.3.0, the default evaluation metric used with the objective 'binary:logistic' was changed from 'error' to 'logloss'. Explicitly set eval_metric if you'd like to restore the old behavior.\n",
      "XGB train: 1.0\n",
      "XGB test: 1.0\n"
     ]
    }
   ],
   "source": [
    "from sklearn.model_selection import cross_val_score\n",
    "mod=[clf1,clf2,clf3,clf5,clf6,clf7]\n",
    "mod_name=['Logreg','DT','RF','GaussNB','GradBoost','XGB']\n",
    "for  i ,j in zip(mod,mod_name):\n",
    "    model=i.fit(x_train,y_train)\n",
    "    print(j,'train:',model.score(x_train,y_train))\n",
    "    print(j,'test:',model.score(x_test,y_test))"
   ]
  },
  {
   "cell_type": "markdown",
   "metadata": {},
   "source": [
    "## using significant columns from logit model"
   ]
  },
  {
   "cell_type": "code",
   "execution_count": 281,
   "metadata": {
    "execution": {
     "iopub.execute_input": "2021-09-09T02:38:07.605958Z",
     "iopub.status.busy": "2021-09-09T02:38:07.605518Z",
     "iopub.status.idle": "2021-09-09T02:38:07.614191Z",
     "shell.execute_reply": "2021-09-09T02:38:07.612647Z",
     "shell.execute_reply.started": "2021-09-09T02:38:07.605910Z"
    }
   },
   "outputs": [],
   "source": [
    "pval=base_model.pvalues\n",
    "sig_cols=pval[pval<0.05].index"
   ]
  },
  {
   "cell_type": "code",
   "execution_count": 282,
   "metadata": {
    "execution": {
     "iopub.execute_input": "2021-09-09T02:38:07.616009Z",
     "iopub.status.busy": "2021-09-09T02:38:07.615687Z",
     "iopub.status.idle": "2021-09-09T02:38:07.657159Z",
     "shell.execute_reply": "2021-09-09T02:38:07.655966Z",
     "shell.execute_reply.started": "2021-09-09T02:38:07.615980Z"
    }
   },
   "outputs": [
    {
     "data": {
      "text/html": [
       "<div>\n",
       "<style scoped>\n",
       "    .dataframe tbody tr th:only-of-type {\n",
       "        vertical-align: middle;\n",
       "    }\n",
       "\n",
       "    .dataframe tbody tr th {\n",
       "        vertical-align: top;\n",
       "    }\n",
       "\n",
       "    .dataframe thead th {\n",
       "        text-align: right;\n",
       "    }\n",
       "</style>\n",
       "<table border=\"1\" class=\"dataframe\">\n",
       "  <thead>\n",
       "    <tr style=\"text-align: right;\">\n",
       "      <th></th>\n",
       "      <th>lei</th>\n",
       "      <th>derived_msa-md</th>\n",
       "      <th>conforming_loan_limit</th>\n",
       "      <th>loan_type</th>\n",
       "      <th>loan_purpose</th>\n",
       "      <th>reverse_mortgage</th>\n",
       "      <th>open-end_line_of_credit</th>\n",
       "      <th>business_or_commercial_purpose</th>\n",
       "      <th>loan_to_value_ratio</th>\n",
       "      <th>negative_amortization</th>\n",
       "      <th>...</th>\n",
       "      <th>income</th>\n",
       "      <th>debt_to_income_ratio</th>\n",
       "      <th>co-applicant_ethnicity-1</th>\n",
       "      <th>applicant_race-1</th>\n",
       "      <th>co-applicant_race-1</th>\n",
       "      <th>applicant_age</th>\n",
       "      <th>submission_of_application</th>\n",
       "      <th>tract_minority_population_percent</th>\n",
       "      <th>ffiec_msa_md_median_family_income</th>\n",
       "      <th>family-dwelling_type</th>\n",
       "    </tr>\n",
       "  </thead>\n",
       "  <tbody>\n",
       "    <tr>\n",
       "      <th>0</th>\n",
       "      <td>0.88</td>\n",
       "      <td>24.62</td>\n",
       "      <td>3.51</td>\n",
       "      <td>3.79</td>\n",
       "      <td>26.56</td>\n",
       "      <td>98.40</td>\n",
       "      <td>79.76</td>\n",
       "      <td>95.95</td>\n",
       "      <td>66.03</td>\n",
       "      <td>98.74</td>\n",
       "      <td>...</td>\n",
       "      <td>95.00</td>\n",
       "      <td>84.83</td>\n",
       "      <td>23.54</td>\n",
       "      <td>27.24</td>\n",
       "      <td>23.53</td>\n",
       "      <td>28.29</td>\n",
       "      <td>40.48</td>\n",
       "      <td>27.55</td>\n",
       "      <td>126600.00</td>\n",
       "      <td>97.63</td>\n",
       "    </tr>\n",
       "    <tr>\n",
       "      <th>1</th>\n",
       "      <td>0.88</td>\n",
       "      <td>24.62</td>\n",
       "      <td>96.44</td>\n",
       "      <td>3.79</td>\n",
       "      <td>31.33</td>\n",
       "      <td>98.40</td>\n",
       "      <td>79.76</td>\n",
       "      <td>95.95</td>\n",
       "      <td>66.03</td>\n",
       "      <td>98.74</td>\n",
       "      <td>...</td>\n",
       "      <td>95.00</td>\n",
       "      <td>84.83</td>\n",
       "      <td>23.54</td>\n",
       "      <td>27.24</td>\n",
       "      <td>23.53</td>\n",
       "      <td>28.29</td>\n",
       "      <td>40.48</td>\n",
       "      <td>12.02</td>\n",
       "      <td>126600.00</td>\n",
       "      <td>97.63</td>\n",
       "    </tr>\n",
       "    <tr>\n",
       "      <th>2</th>\n",
       "      <td>0.88</td>\n",
       "      <td>24.62</td>\n",
       "      <td>96.44</td>\n",
       "      <td>18.67</td>\n",
       "      <td>26.56</td>\n",
       "      <td>98.40</td>\n",
       "      <td>79.76</td>\n",
       "      <td>95.95</td>\n",
       "      <td>66.03</td>\n",
       "      <td>98.74</td>\n",
       "      <td>...</td>\n",
       "      <td>95.00</td>\n",
       "      <td>84.83</td>\n",
       "      <td>23.54</td>\n",
       "      <td>27.24</td>\n",
       "      <td>23.53</td>\n",
       "      <td>28.29</td>\n",
       "      <td>40.48</td>\n",
       "      <td>40.34</td>\n",
       "      <td>126600.00</td>\n",
       "      <td>97.63</td>\n",
       "    </tr>\n",
       "    <tr>\n",
       "      <th>3</th>\n",
       "      <td>0.88</td>\n",
       "      <td>7.12</td>\n",
       "      <td>96.44</td>\n",
       "      <td>3.79</td>\n",
       "      <td>31.33</td>\n",
       "      <td>98.40</td>\n",
       "      <td>79.76</td>\n",
       "      <td>95.95</td>\n",
       "      <td>66.03</td>\n",
       "      <td>98.74</td>\n",
       "      <td>...</td>\n",
       "      <td>95.00</td>\n",
       "      <td>84.83</td>\n",
       "      <td>23.54</td>\n",
       "      <td>27.24</td>\n",
       "      <td>23.53</td>\n",
       "      <td>28.29</td>\n",
       "      <td>40.48</td>\n",
       "      <td>4.98</td>\n",
       "      <td>77600.00</td>\n",
       "      <td>97.63</td>\n",
       "    </tr>\n",
       "    <tr>\n",
       "      <th>4</th>\n",
       "      <td>0.88</td>\n",
       "      <td>7.12</td>\n",
       "      <td>96.44</td>\n",
       "      <td>3.79</td>\n",
       "      <td>31.33</td>\n",
       "      <td>98.40</td>\n",
       "      <td>79.76</td>\n",
       "      <td>95.95</td>\n",
       "      <td>66.03</td>\n",
       "      <td>98.74</td>\n",
       "      <td>...</td>\n",
       "      <td>95.00</td>\n",
       "      <td>84.83</td>\n",
       "      <td>23.54</td>\n",
       "      <td>27.24</td>\n",
       "      <td>23.53</td>\n",
       "      <td>28.29</td>\n",
       "      <td>40.48</td>\n",
       "      <td>17.97</td>\n",
       "      <td>77600.00</td>\n",
       "      <td>97.63</td>\n",
       "    </tr>\n",
       "  </tbody>\n",
       "</table>\n",
       "<p>5 rows × 24 columns</p>\n",
       "</div>"
      ],
      "text/plain": [
       "   lei  derived_msa-md  conforming_loan_limit  loan_type  loan_purpose  \\\n",
       "0 0.88           24.62                   3.51       3.79         26.56   \n",
       "1 0.88           24.62                  96.44       3.79         31.33   \n",
       "2 0.88           24.62                  96.44      18.67         26.56   \n",
       "3 0.88            7.12                  96.44       3.79         31.33   \n",
       "4 0.88            7.12                  96.44       3.79         31.33   \n",
       "\n",
       "   reverse_mortgage  open-end_line_of_credit  business_or_commercial_purpose  \\\n",
       "0             98.40                    79.76                           95.95   \n",
       "1             98.40                    79.76                           95.95   \n",
       "2             98.40                    79.76                           95.95   \n",
       "3             98.40                    79.76                           95.95   \n",
       "4             98.40                    79.76                           95.95   \n",
       "\n",
       "   loan_to_value_ratio  negative_amortization  ...  income  \\\n",
       "0                66.03                  98.74  ...   95.00   \n",
       "1                66.03                  98.74  ...   95.00   \n",
       "2                66.03                  98.74  ...   95.00   \n",
       "3                66.03                  98.74  ...   95.00   \n",
       "4                66.03                  98.74  ...   95.00   \n",
       "\n",
       "   debt_to_income_ratio  co-applicant_ethnicity-1  applicant_race-1  \\\n",
       "0                 84.83                     23.54             27.24   \n",
       "1                 84.83                     23.54             27.24   \n",
       "2                 84.83                     23.54             27.24   \n",
       "3                 84.83                     23.54             27.24   \n",
       "4                 84.83                     23.54             27.24   \n",
       "\n",
       "   co-applicant_race-1  applicant_age  submission_of_application  \\\n",
       "0                23.53          28.29                      40.48   \n",
       "1                23.53          28.29                      40.48   \n",
       "2                23.53          28.29                      40.48   \n",
       "3                23.53          28.29                      40.48   \n",
       "4                23.53          28.29                      40.48   \n",
       "\n",
       "   tract_minority_population_percent  ffiec_msa_md_median_family_income  \\\n",
       "0                              27.55                          126600.00   \n",
       "1                              12.02                          126600.00   \n",
       "2                              40.34                          126600.00   \n",
       "3                               4.98                           77600.00   \n",
       "4                              17.97                           77600.00   \n",
       "\n",
       "   family-dwelling_type  \n",
       "0                 97.63  \n",
       "1                 97.63  \n",
       "2                 97.63  \n",
       "3                 97.63  \n",
       "4                 97.63  \n",
       "\n",
       "[5 rows x 24 columns]"
      ]
     },
     "execution_count": 282,
     "metadata": {},
     "output_type": "execute_result"
    }
   ],
   "source": [
    "\n",
    "x_sig=x[sig_cols]\n",
    "x_sig.head()"
   ]
  },
  {
   "cell_type": "code",
   "execution_count": 283,
   "metadata": {
    "execution": {
     "iopub.execute_input": "2021-09-09T02:38:07.658835Z",
     "iopub.status.busy": "2021-09-09T02:38:07.658529Z",
     "iopub.status.idle": "2021-09-09T02:38:07.823770Z",
     "shell.execute_reply": "2021-09-09T02:38:07.822535Z",
     "shell.execute_reply.started": "2021-09-09T02:38:07.658802Z"
    }
   },
   "outputs": [],
   "source": [
    "x_train,x_test,y_train,y_test=train_test_split(x_sig,y,test_size=0.3,stratify=y)"
   ]
  },
  {
   "cell_type": "code",
   "execution_count": 284,
   "metadata": {
    "execution": {
     "iopub.execute_input": "2021-09-09T02:38:07.825440Z",
     "iopub.status.busy": "2021-09-09T02:38:07.825126Z",
     "iopub.status.idle": "2021-09-09T02:38:47.125768Z",
     "shell.execute_reply": "2021-09-09T02:38:47.124894Z",
     "shell.execute_reply.started": "2021-09-09T02:38:07.825409Z"
    }
   },
   "outputs": [
    {
     "name": "stdout",
     "output_type": "stream",
     "text": [
      "LogReg train: 0.9112854889589905\n",
      "LogReg test: 0.9103488885617548\n",
      "DT train: 1.0\n",
      "DT test: 0.9999263948181952\n",
      "RF train: 1.0\n",
      "RF test: 0.9999263948181952\n",
      "GaussNB train: 0.9568927444794952\n",
      "GaussNB test: 0.9564625349624614\n",
      "GradBoost train: 0.9999605678233439\n",
      "GradBoost test: 0.9999447961136464\n",
      "[12:23:02] WARNING: C:/Users/Administrator/workspace/xgboost-win64_release_1.4.0/src/learner.cc:1095: Starting in XGBoost 1.3.0, the default evaluation metric used with the objective 'binary:logistic' was changed from 'error' to 'logloss'. Explicitly set eval_metric if you'd like to restore the old behavior.\n",
      "XGB train: 1.0\n",
      "XGB test: 0.9999815987045488\n"
     ]
    }
   ],
   "source": [
    "from sklearn.model_selection import cross_val_score\n",
    "mod=[clf1,clf2,clf3,clf5,clf6,clf7]\n",
    "mod_name=['LogReg','DT','RF','GaussNB','GradBoost','XGB']\n",
    "for  i ,j in zip(mod,mod_name):\n",
    "    model=i.fit(x_train,y_train)\n",
    "    print(j,'train:',model.score(x_train,y_train))\n",
    "    print(j,'test:',model.score(x_test,y_test))"
   ]
  },
  {
   "cell_type": "markdown",
   "metadata": {},
   "source": [
    "## Performing feature selection"
   ]
  },
  {
   "cell_type": "code",
   "execution_count": 285,
   "metadata": {
    "execution": {
     "iopub.execute_input": "2021-09-09T02:38:47.127910Z",
     "iopub.status.busy": "2021-09-09T02:38:47.127535Z",
     "iopub.status.idle": "2021-09-09T02:38:47.145824Z",
     "shell.execute_reply": "2021-09-09T02:38:47.145044Z",
     "shell.execute_reply.started": "2021-09-09T02:38:47.127875Z"
    }
   },
   "outputs": [],
   "source": [
    "from sklearn.feature_selection import RFE"
   ]
  },
  {
   "cell_type": "code",
   "execution_count": 286,
   "metadata": {
    "execution": {
     "iopub.execute_input": "2021-09-09T02:38:47.147461Z",
     "iopub.status.busy": "2021-09-09T02:38:47.147023Z",
     "iopub.status.idle": "2021-09-09T02:38:47.348535Z",
     "shell.execute_reply": "2021-09-09T02:38:47.347483Z",
     "shell.execute_reply.started": "2021-09-09T02:38:47.147431Z"
    }
   },
   "outputs": [],
   "source": [
    "x_train,x_test,y_train,y_test=train_test_split(x_scaled,y,test_size=0.3,stratify=y)"
   ]
  },
  {
   "cell_type": "code",
   "execution_count": 287,
   "metadata": {
    "execution": {
     "iopub.execute_input": "2021-09-09T02:38:47.350072Z",
     "iopub.status.busy": "2021-09-09T02:38:47.349776Z",
     "iopub.status.idle": "2021-09-09T02:42:30.858552Z",
     "shell.execute_reply": "2021-09-09T02:42:30.857423Z",
     "shell.execute_reply.started": "2021-09-09T02:38:47.350043Z"
    }
   },
   "outputs": [],
   "source": [
    "rfe=RFE(rf,n_features_to_select=15)\n",
    "rfe_model=rfe.fit(x,y)"
   ]
  },
  {
   "cell_type": "code",
   "execution_count": 288,
   "metadata": {
    "execution": {
     "iopub.execute_input": "2021-09-09T02:42:30.867050Z",
     "iopub.status.busy": "2021-09-09T02:42:30.866682Z",
     "iopub.status.idle": "2021-09-09T02:42:30.872878Z",
     "shell.execute_reply": "2021-09-09T02:42:30.871700Z",
     "shell.execute_reply.started": "2021-09-09T02:42:30.867019Z"
    }
   },
   "outputs": [],
   "source": [
    "feat=pd.Series(rfe_model.ranking_,index=x.columns)\n",
    "rfe_feat=feat[feat==1].index"
   ]
  },
  {
   "cell_type": "code",
   "execution_count": 289,
   "metadata": {
    "execution": {
     "iopub.execute_input": "2021-09-09T02:42:30.875191Z",
     "iopub.status.busy": "2021-09-09T02:42:30.874751Z",
     "iopub.status.idle": "2021-09-09T02:42:30.890456Z",
     "shell.execute_reply": "2021-09-09T02:42:30.889395Z",
     "shell.execute_reply.started": "2021-09-09T02:42:30.875146Z"
    }
   },
   "outputs": [
    {
     "data": {
      "text/plain": [
       "Index(['lei', 'purchaser_type', 'loan_type', 'loan_purpose',\n",
       "       'open-end_line_of_credit', 'loan_to_value_ratio', 'income',\n",
       "       'applicant_ethnicity-1', 'co-applicant_ethnicity-1',\n",
       "       'co-applicant_race-1', 'applicant_age', 'co-applicant_age',\n",
       "       'submission_of_application', 'initially_payable_to_institution',\n",
       "       'high_cost_mortgage'],\n",
       "      dtype='object')"
      ]
     },
     "execution_count": 289,
     "metadata": {},
     "output_type": "execute_result"
    }
   ],
   "source": [
    "rfe_feat"
   ]
  },
  {
   "cell_type": "code",
   "execution_count": 290,
   "metadata": {
    "execution": {
     "iopub.execute_input": "2021-09-09T02:42:30.893068Z",
     "iopub.status.busy": "2021-09-09T02:42:30.892259Z",
     "iopub.status.idle": "2021-09-09T02:42:30.920905Z",
     "shell.execute_reply": "2021-09-09T02:42:30.919918Z",
     "shell.execute_reply.started": "2021-09-09T02:42:30.893019Z"
    }
   },
   "outputs": [
    {
     "data": {
      "text/html": [
       "<div>\n",
       "<style scoped>\n",
       "    .dataframe tbody tr th:only-of-type {\n",
       "        vertical-align: middle;\n",
       "    }\n",
       "\n",
       "    .dataframe tbody tr th {\n",
       "        vertical-align: top;\n",
       "    }\n",
       "\n",
       "    .dataframe thead th {\n",
       "        text-align: right;\n",
       "    }\n",
       "</style>\n",
       "<table border=\"1\" class=\"dataframe\">\n",
       "  <thead>\n",
       "    <tr style=\"text-align: right;\">\n",
       "      <th></th>\n",
       "      <th>lei</th>\n",
       "      <th>purchaser_type</th>\n",
       "      <th>loan_type</th>\n",
       "      <th>loan_purpose</th>\n",
       "      <th>open-end_line_of_credit</th>\n",
       "      <th>loan_to_value_ratio</th>\n",
       "      <th>income</th>\n",
       "      <th>applicant_ethnicity-1</th>\n",
       "      <th>co-applicant_ethnicity-1</th>\n",
       "      <th>co-applicant_race-1</th>\n",
       "      <th>applicant_age</th>\n",
       "      <th>co-applicant_age</th>\n",
       "      <th>submission_of_application</th>\n",
       "      <th>initially_payable_to_institution</th>\n",
       "      <th>high_cost_mortgage</th>\n",
       "    </tr>\n",
       "  </thead>\n",
       "  <tbody>\n",
       "    <tr>\n",
       "      <th>0</th>\n",
       "      <td>0.88</td>\n",
       "      <td>73.10</td>\n",
       "      <td>3.79</td>\n",
       "      <td>26.56</td>\n",
       "      <td>79.76</td>\n",
       "      <td>66.03</td>\n",
       "      <td>95.00</td>\n",
       "      <td>27.24</td>\n",
       "      <td>23.54</td>\n",
       "      <td>23.53</td>\n",
       "      <td>28.29</td>\n",
       "      <td>25.89</td>\n",
       "      <td>40.48</td>\n",
       "      <td>47.60</td>\n",
       "      <td>33.47</td>\n",
       "    </tr>\n",
       "    <tr>\n",
       "      <th>1</th>\n",
       "      <td>0.88</td>\n",
       "      <td>7.40</td>\n",
       "      <td>3.79</td>\n",
       "      <td>31.33</td>\n",
       "      <td>79.76</td>\n",
       "      <td>66.03</td>\n",
       "      <td>95.00</td>\n",
       "      <td>27.24</td>\n",
       "      <td>23.54</td>\n",
       "      <td>23.53</td>\n",
       "      <td>28.29</td>\n",
       "      <td>25.89</td>\n",
       "      <td>40.48</td>\n",
       "      <td>47.60</td>\n",
       "      <td>33.47</td>\n",
       "    </tr>\n",
       "    <tr>\n",
       "      <th>2</th>\n",
       "      <td>0.88</td>\n",
       "      <td>7.40</td>\n",
       "      <td>18.67</td>\n",
       "      <td>26.56</td>\n",
       "      <td>79.76</td>\n",
       "      <td>66.03</td>\n",
       "      <td>95.00</td>\n",
       "      <td>27.24</td>\n",
       "      <td>23.54</td>\n",
       "      <td>23.53</td>\n",
       "      <td>28.29</td>\n",
       "      <td>25.89</td>\n",
       "      <td>40.48</td>\n",
       "      <td>47.60</td>\n",
       "      <td>33.47</td>\n",
       "    </tr>\n",
       "    <tr>\n",
       "      <th>3</th>\n",
       "      <td>0.88</td>\n",
       "      <td>7.40</td>\n",
       "      <td>3.79</td>\n",
       "      <td>31.33</td>\n",
       "      <td>79.76</td>\n",
       "      <td>66.03</td>\n",
       "      <td>95.00</td>\n",
       "      <td>27.24</td>\n",
       "      <td>23.54</td>\n",
       "      <td>23.53</td>\n",
       "      <td>28.29</td>\n",
       "      <td>25.89</td>\n",
       "      <td>40.48</td>\n",
       "      <td>47.60</td>\n",
       "      <td>33.47</td>\n",
       "    </tr>\n",
       "    <tr>\n",
       "      <th>4</th>\n",
       "      <td>0.88</td>\n",
       "      <td>7.40</td>\n",
       "      <td>3.79</td>\n",
       "      <td>31.33</td>\n",
       "      <td>79.76</td>\n",
       "      <td>66.03</td>\n",
       "      <td>95.00</td>\n",
       "      <td>27.24</td>\n",
       "      <td>23.54</td>\n",
       "      <td>23.53</td>\n",
       "      <td>28.29</td>\n",
       "      <td>25.89</td>\n",
       "      <td>40.48</td>\n",
       "      <td>47.60</td>\n",
       "      <td>33.47</td>\n",
       "    </tr>\n",
       "  </tbody>\n",
       "</table>\n",
       "</div>"
      ],
      "text/plain": [
       "   lei  purchaser_type  loan_type  loan_purpose  open-end_line_of_credit  \\\n",
       "0 0.88           73.10       3.79         26.56                    79.76   \n",
       "1 0.88            7.40       3.79         31.33                    79.76   \n",
       "2 0.88            7.40      18.67         26.56                    79.76   \n",
       "3 0.88            7.40       3.79         31.33                    79.76   \n",
       "4 0.88            7.40       3.79         31.33                    79.76   \n",
       "\n",
       "   loan_to_value_ratio  income  applicant_ethnicity-1  \\\n",
       "0                66.03   95.00                  27.24   \n",
       "1                66.03   95.00                  27.24   \n",
       "2                66.03   95.00                  27.24   \n",
       "3                66.03   95.00                  27.24   \n",
       "4                66.03   95.00                  27.24   \n",
       "\n",
       "   co-applicant_ethnicity-1  co-applicant_race-1  applicant_age  \\\n",
       "0                     23.54                23.53          28.29   \n",
       "1                     23.54                23.53          28.29   \n",
       "2                     23.54                23.53          28.29   \n",
       "3                     23.54                23.53          28.29   \n",
       "4                     23.54                23.53          28.29   \n",
       "\n",
       "   co-applicant_age  submission_of_application  \\\n",
       "0             25.89                      40.48   \n",
       "1             25.89                      40.48   \n",
       "2             25.89                      40.48   \n",
       "3             25.89                      40.48   \n",
       "4             25.89                      40.48   \n",
       "\n",
       "   initially_payable_to_institution  high_cost_mortgage  \n",
       "0                             47.60               33.47  \n",
       "1                             47.60               33.47  \n",
       "2                             47.60               33.47  \n",
       "3                             47.60               33.47  \n",
       "4                             47.60               33.47  "
      ]
     },
     "execution_count": 290,
     "metadata": {},
     "output_type": "execute_result"
    }
   ],
   "source": [
    "x_rfe=x[rfe_feat]\n",
    "x_rfe.head()"
   ]
  },
  {
   "cell_type": "code",
   "execution_count": 291,
   "metadata": {
    "execution": {
     "iopub.execute_input": "2021-09-09T02:42:30.922600Z",
     "iopub.status.busy": "2021-09-09T02:42:30.922295Z",
     "iopub.status.idle": "2021-09-09T02:42:31.079118Z",
     "shell.execute_reply": "2021-09-09T02:42:31.077981Z",
     "shell.execute_reply.started": "2021-09-09T02:42:30.922570Z"
    }
   },
   "outputs": [],
   "source": [
    "x_train,x_test,y_train,y_test=train_test_split(x_rfe,y,test_size=0.3,stratify=y)"
   ]
  },
  {
   "cell_type": "code",
   "execution_count": 292,
   "metadata": {
    "execution": {
     "iopub.execute_input": "2021-09-09T02:42:31.081064Z",
     "iopub.status.busy": "2021-09-09T02:42:31.080634Z",
     "iopub.status.idle": "2021-09-09T02:42:54.409669Z",
     "shell.execute_reply": "2021-09-09T02:42:54.408619Z",
     "shell.execute_reply.started": "2021-09-09T02:42:31.081022Z"
    }
   },
   "outputs": [
    {
     "name": "stdout",
     "output_type": "stream",
     "text": [
      "Logreg train: 0.9909542586750789\n",
      "Logreg test: 0.9910937730016193\n",
      "DT train: 1.0\n",
      "DT test: 0.9999447961136464\n",
      "RF train: 1.0\n",
      "RF test: 0.9999447961136464\n",
      "GaussNB train: 0.9925236593059937\n",
      "GaussNB test: 0.9927866921831296\n",
      "GradBoost train: 0.9999605678233439\n",
      "GradBoost test: 0.9999631974090976\n",
      "[12:26:55] WARNING: C:/Users/Administrator/workspace/xgboost-win64_release_1.4.0/src/learner.cc:1095: Starting in XGBoost 1.3.0, the default evaluation metric used with the objective 'binary:logistic' was changed from 'error' to 'logloss'. Explicitly set eval_metric if you'd like to restore the old behavior.\n",
      "XGB train: 1.0\n",
      "XGB test: 0.9999631974090976\n"
     ]
    }
   ],
   "source": [
    "mod=[clf1,clf2,clf3,clf5,clf6,clf7]\n",
    "mod_name=['Logreg','DT','RF','GaussNB','GradBoost','XGB']\n",
    "for  i ,j in zip(mod,mod_name):\n",
    "    model=i.fit(x_train,y_train)\n",
    "    print(j,'train:',model.score(x_train,y_train))\n",
    "    print(j,'test:',model.score(x_test,y_test))"
   ]
  },
  {
   "cell_type": "markdown",
   "metadata": {},
   "source": [
    "**Performing PCA**"
   ]
  },
  {
   "cell_type": "code",
   "execution_count": 325,
   "metadata": {
    "execution": {
     "iopub.execute_input": "2021-09-09T02:42:54.411575Z",
     "iopub.status.busy": "2021-09-09T02:42:54.410979Z",
     "iopub.status.idle": "2021-09-09T02:42:54.416217Z",
     "shell.execute_reply": "2021-09-09T02:42:54.415119Z",
     "shell.execute_reply.started": "2021-09-09T02:42:54.411538Z"
    }
   },
   "outputs": [],
   "source": [
    "from sklearn.decomposition import PCA\n",
    "pc=PCA(n_components=0.90)"
   ]
  },
  {
   "cell_type": "code",
   "execution_count": 326,
   "metadata": {
    "execution": {
     "iopub.execute_input": "2021-09-09T02:42:54.418254Z",
     "iopub.status.busy": "2021-09-09T02:42:54.417812Z",
     "iopub.status.idle": "2021-09-09T02:42:54.531979Z",
     "shell.execute_reply": "2021-09-09T02:42:54.530991Z",
     "shell.execute_reply.started": "2021-09-09T02:42:54.418209Z"
    }
   },
   "outputs": [],
   "source": [
    "pcs=pc.fit_transform(x_scaled)"
   ]
  },
  {
   "cell_type": "code",
   "execution_count": 327,
   "metadata": {
    "execution": {
     "iopub.execute_input": "2021-09-09T02:42:54.533721Z",
     "iopub.status.busy": "2021-09-09T02:42:54.533418Z",
     "iopub.status.idle": "2021-09-09T02:42:54.539037Z",
     "shell.execute_reply": "2021-09-09T02:42:54.537399Z",
     "shell.execute_reply.started": "2021-09-09T02:42:54.533691Z"
    }
   },
   "outputs": [],
   "source": [
    "pcs=pd.DataFrame(pcs)"
   ]
  },
  {
   "cell_type": "code",
   "execution_count": 328,
   "metadata": {
    "execution": {
     "iopub.execute_input": "2021-09-09T02:42:54.541424Z",
     "iopub.status.busy": "2021-09-09T02:42:54.540844Z",
     "iopub.status.idle": "2021-09-09T02:42:54.554869Z",
     "shell.execute_reply": "2021-09-09T02:42:54.553411Z",
     "shell.execute_reply.started": "2021-09-09T02:42:54.541377Z"
    }
   },
   "outputs": [
    {
     "data": {
      "text/plain": [
       "(181144, 26)"
      ]
     },
     "execution_count": 328,
     "metadata": {},
     "output_type": "execute_result"
    }
   ],
   "source": [
    "pcs.shape"
   ]
  },
  {
   "cell_type": "code",
   "execution_count": 329,
   "metadata": {
    "execution": {
     "iopub.execute_input": "2021-09-09T02:42:54.556728Z",
     "iopub.status.busy": "2021-09-09T02:42:54.556251Z",
     "iopub.status.idle": "2021-09-09T02:42:54.697141Z",
     "shell.execute_reply": "2021-09-09T02:42:54.696225Z",
     "shell.execute_reply.started": "2021-09-09T02:42:54.556697Z"
    }
   },
   "outputs": [],
   "source": [
    "x_train,x_test,y_train,y_test=train_test_split(pcs,y,test_size=0.3,stratify=y)"
   ]
  },
  {
   "cell_type": "code",
   "execution_count": 330,
   "metadata": {
    "execution": {
     "iopub.execute_input": "2021-09-09T02:42:54.698585Z",
     "iopub.status.busy": "2021-09-09T02:42:54.698308Z",
     "iopub.status.idle": "2021-09-09T02:44:05.813638Z",
     "shell.execute_reply": "2021-09-09T02:44:05.812800Z",
     "shell.execute_reply.started": "2021-09-09T02:42:54.698558Z"
    }
   },
   "outputs": [
    {
     "name": "stdout",
     "output_type": "stream",
     "text": [
      "Logreg train: 0.9963249211356466\n",
      "Logreg test: 0.9959517150007361\n",
      "DT train: 1.0\n",
      "DT test: 0.986640659502429\n",
      "RF train: 1.0\n",
      "RF test: 0.9952524657735905\n",
      "GaussNB train: 0.9287933753943217\n",
      "GaussNB test: 0.9285477697629914\n",
      "GradBoost train: 0.9914195583596215\n",
      "GradBoost test: 0.9899344913881938\n",
      "[12:36:06] WARNING: C:/Users/Administrator/workspace/xgboost-win64_release_1.4.0/src/learner.cc:1095: Starting in XGBoost 1.3.0, the default evaluation metric used with the objective 'binary:logistic' was changed from 'error' to 'logloss'. Explicitly set eval_metric if you'd like to restore the old behavior.\n",
      "XGB train: 1.0\n",
      "XGB test: 0.9981782717503312\n"
     ]
    }
   ],
   "source": [
    "mod=[clf1,clf2,clf3,clf5,clf6,clf7]\n",
    "mod_name=['Logreg','DT','RF','GaussNB','GradBoost','XGB']\n",
    "for  i ,j in zip(mod,mod_name):\n",
    "    model=i.fit(x_train,y_train)\n",
    "    print(j,'train:',model.score(x_train,y_train))\n",
    "    print(j,'test:',model.score(x_test,y_test))"
   ]
  },
  {
   "cell_type": "markdown",
   "metadata": {},
   "source": [
    "* Applying PCA with 90% of variation factor has reduced the feature size to 26 components.\n",
    "* Only for GuassNb the accuracy has reduced to 7%(apprx),rest of the models are still providing the same accuracy scores."
   ]
  },
  {
   "cell_type": "markdown",
   "metadata": {},
   "source": [
    "## finding the best model for rfe features using cross validation"
   ]
  },
  {
   "cell_type": "code",
   "execution_count": 299,
   "metadata": {
    "execution": {
     "iopub.execute_input": "2021-09-09T02:44:05.815429Z",
     "iopub.status.busy": "2021-09-09T02:44:05.814875Z",
     "iopub.status.idle": "2021-09-09T02:46:01.918450Z",
     "shell.execute_reply": "2021-09-09T02:46:01.917628Z",
     "shell.execute_reply.started": "2021-09-09T02:44:05.815390Z"
    }
   },
   "outputs": [
    {
     "name": "stdout",
     "output_type": "stream",
     "text": [
      "Logreg - bias error : 0.022330219996276823\n",
      "Logreg - variance error : 0.016449139579585347\n",
      "DT - bias error : 0.043926137587130265\n",
      "DT - variance error : 0.09047542135117939\n",
      "RF - bias error : 0.0003201854867647125\n",
      "RF - variance error : 0.00033160844888927005\n",
      "GaussNB - bias error : 0.012233381846092017\n",
      "GaussNB - variance error : 0.008714897651212776\n",
      "GradBoost - bias error : 0.00020977669822530576\n",
      "GradBoost - variance error : 0.0003428729910221199\n",
      "[12:29:37] WARNING: C:/Users/Administrator/workspace/xgboost-win64_release_1.4.0/src/learner.cc:1095: Starting in XGBoost 1.3.0, the default evaluation metric used with the objective 'binary:logistic' was changed from 'error' to 'logloss'. Explicitly set eval_metric if you'd like to restore the old behavior.\n",
      "[12:29:38] WARNING: C:/Users/Administrator/workspace/xgboost-win64_release_1.4.0/src/learner.cc:1095: Starting in XGBoost 1.3.0, the default evaluation metric used with the objective 'binary:logistic' was changed from 'error' to 'logloss'. Explicitly set eval_metric if you'd like to restore the old behavior.\n",
      "[12:29:40] WARNING: C:/Users/Administrator/workspace/xgboost-win64_release_1.4.0/src/learner.cc:1095: Starting in XGBoost 1.3.0, the default evaluation metric used with the objective 'binary:logistic' was changed from 'error' to 'logloss'. Explicitly set eval_metric if you'd like to restore the old behavior.\n",
      "[12:29:42] WARNING: C:/Users/Administrator/workspace/xgboost-win64_release_1.4.0/src/learner.cc:1095: Starting in XGBoost 1.3.0, the default evaluation metric used with the objective 'binary:logistic' was changed from 'error' to 'logloss'. Explicitly set eval_metric if you'd like to restore the old behavior.\n",
      "[12:29:43] WARNING: C:/Users/Administrator/workspace/xgboost-win64_release_1.4.0/src/learner.cc:1095: Starting in XGBoost 1.3.0, the default evaluation metric used with the objective 'binary:logistic' was changed from 'error' to 'logloss'. Explicitly set eval_metric if you'd like to restore the old behavior.\n",
      "XGB - bias error : 0.0003312263656187753\n",
      "XGB - variance error : 0.000387346890504481\n"
     ]
    }
   ],
   "source": [
    "mod=[clf1,clf2,clf3,clf5,clf6,clf7]\n",
    "mod_name=['Logreg','DT','RF','GaussNB','GradBoost','XGB']\n",
    "for  i ,j in zip(mod,mod_name):\n",
    "    score=cross_val_score(i,x_rfe,y,cv=5)\n",
    "    print(j,'- bias error :', 1-np.mean(score))\n",
    "    print(j,'- variance error :',np.std(score)/np.mean(score))"
   ]
  },
  {
   "cell_type": "markdown",
   "metadata": {},
   "source": [
    "Both the bias and variance error have achieved least values in Random Forest,Hence Random Forest is our final best  model."
   ]
  },
  {
   "cell_type": "markdown",
   "metadata": {},
   "source": [
    "## Random forest with rfe features"
   ]
  },
  {
   "cell_type": "code",
   "execution_count": 300,
   "metadata": {
    "execution": {
     "iopub.execute_input": "2021-09-09T02:57:32.552916Z",
     "iopub.status.busy": "2021-09-09T02:57:32.552558Z",
     "iopub.status.idle": "2021-09-09T02:57:32.557272Z",
     "shell.execute_reply": "2021-09-09T02:57:32.556265Z",
     "shell.execute_reply.started": "2021-09-09T02:57:32.552886Z"
    }
   },
   "outputs": [],
   "source": [
    "from sklearn.metrics import roc_curve,roc_auc_score"
   ]
  },
  {
   "cell_type": "code",
   "execution_count": 301,
   "metadata": {
    "execution": {
     "iopub.execute_input": "2021-09-09T02:54:25.432649Z",
     "iopub.status.busy": "2021-09-09T02:54:25.432166Z",
     "iopub.status.idle": "2021-09-09T02:54:25.591638Z",
     "shell.execute_reply": "2021-09-09T02:54:25.590760Z",
     "shell.execute_reply.started": "2021-09-09T02:54:25.432617Z"
    }
   },
   "outputs": [],
   "source": [
    "x_train,x_test,y_train,y_test=train_test_split(x_rfe,y,test_size=0.3,stratify=y,random_state=30)"
   ]
  },
  {
   "cell_type": "code",
   "execution_count": 302,
   "metadata": {
    "execution": {
     "iopub.execute_input": "2021-09-09T02:53:29.512153Z",
     "iopub.status.busy": "2021-09-09T02:53:29.511787Z",
     "iopub.status.idle": "2021-09-09T02:53:29.516640Z",
     "shell.execute_reply": "2021-09-09T02:53:29.515466Z",
     "shell.execute_reply.started": "2021-09-09T02:53:29.512122Z"
    }
   },
   "outputs": [],
   "source": [
    "rf=RandomForestClassifier()"
   ]
  },
  {
   "cell_type": "code",
   "execution_count": 303,
   "metadata": {
    "execution": {
     "iopub.execute_input": "2021-09-09T02:54:38.072729Z",
     "iopub.status.busy": "2021-09-09T02:54:38.072064Z",
     "iopub.status.idle": "2021-09-09T02:54:41.859346Z",
     "shell.execute_reply": "2021-09-09T02:54:41.858041Z",
     "shell.execute_reply.started": "2021-09-09T02:54:38.072667Z"
    }
   },
   "outputs": [],
   "source": [
    "#fitting the train data\n",
    "rf_model=rf.fit(x_train,y_train)"
   ]
  },
  {
   "cell_type": "code",
   "execution_count": 304,
   "metadata": {
    "execution": {
     "iopub.execute_input": "2021-09-09T02:55:47.453610Z",
     "iopub.status.busy": "2021-09-09T02:55:47.453256Z",
     "iopub.status.idle": "2021-09-09T02:55:48.207326Z",
     "shell.execute_reply": "2021-09-09T02:55:48.206146Z",
     "shell.execute_reply.started": "2021-09-09T02:55:47.453581Z"
    }
   },
   "outputs": [],
   "source": [
    "#finding prediction and probability for evaluation\n",
    "fin_pred=rf_model.predict(x_test)\n",
    "fin_prob=rf_model.predict_proba(x_test)"
   ]
  },
  {
   "cell_type": "code",
   "execution_count": 305,
   "metadata": {
    "execution": {
     "iopub.execute_input": "2021-09-09T02:59:33.114410Z",
     "iopub.status.busy": "2021-09-09T02:59:33.113859Z",
     "iopub.status.idle": "2021-09-09T02:59:33.128213Z",
     "shell.execute_reply": "2021-09-09T02:59:33.126796Z",
     "shell.execute_reply.started": "2021-09-09T02:59:33.114303Z"
    }
   },
   "outputs": [
    {
     "data": {
      "text/plain": [
       "0.9999263948181952"
      ]
     },
     "execution_count": 305,
     "metadata": {},
     "output_type": "execute_result"
    }
   ],
   "source": [
    "accuracy_score(y_test,fin_pred)"
   ]
  },
  {
   "cell_type": "markdown",
   "metadata": {},
   "source": [
    "## Evaluating the model"
   ]
  },
  {
   "cell_type": "code",
   "execution_count": 306,
   "metadata": {
    "execution": {
     "iopub.execute_input": "2021-09-09T02:59:05.090416Z",
     "iopub.status.busy": "2021-09-09T02:59:05.089996Z",
     "iopub.status.idle": "2021-09-09T02:59:05.402834Z",
     "shell.execute_reply": "2021-09-09T02:59:05.401810Z",
     "shell.execute_reply.started": "2021-09-09T02:59:05.090378Z"
    }
   },
   "outputs": [
    {
     "data": {
      "image/png": "[encoded data removed]",
      "text/plain": [
       "<Figure size 432x288 with 2 Axes>"
      ]
     },
     "metadata": {
      "needs_background": "light"
     },
     "output_type": "display_data"
    }
   ],
   "source": [
    "cfm=confusion_matrix(y_test,fin_pred)\n",
    "sns.heatmap(cfm,annot=True,fmt='d')\n",
    "plt.show()"
   ]
  },
  {
   "cell_type": "code",
   "execution_count": 307,
   "metadata": {
    "execution": {
     "iopub.execute_input": "2021-09-09T03:00:10.342615Z",
     "iopub.status.busy": "2021-09-09T03:00:10.342116Z",
     "iopub.status.idle": "2021-09-09T03:00:10.455249Z",
     "shell.execute_reply": "2021-09-09T03:00:10.454360Z",
     "shell.execute_reply.started": "2021-09-09T03:00:10.342582Z"
    }
   },
   "outputs": [
    {
     "name": "stdout",
     "output_type": "stream",
     "text": [
      "              precision    recall  f1-score   support\n",
      "\n",
      "           0       1.00      1.00      1.00     32225\n",
      "           1       1.00      1.00      1.00     22119\n",
      "\n",
      "    accuracy                           1.00     54344\n",
      "   macro avg       1.00      1.00      1.00     54344\n",
      "weighted avg       1.00      1.00      1.00     54344\n",
      "\n"
     ]
    }
   ],
   "source": [
    "print(classification_report(y_test,fin_pred))"
   ]
  },
  {
   "cell_type": "code",
   "execution_count": 308,
   "metadata": {
    "execution": {
     "iopub.execute_input": "2021-09-09T03:01:10.604574Z",
     "iopub.status.busy": "2021-09-09T03:01:10.604030Z",
     "iopub.status.idle": "2021-09-09T03:01:10.615454Z",
     "shell.execute_reply": "2021-09-09T03:01:10.614363Z",
     "shell.execute_reply.started": "2021-09-09T03:01:10.604541Z"
    }
   },
   "outputs": [],
   "source": [
    "fpr,tpr,th=roc_curve(y_test,fin_prob[:,1])"
   ]
  },
  {
   "cell_type": "code",
   "execution_count": 309,
   "metadata": {
    "execution": {
     "iopub.execute_input": "2021-09-09T03:01:35.262612Z",
     "iopub.status.busy": "2021-09-09T03:01:35.262238Z",
     "iopub.status.idle": "2021-09-09T03:01:35.394596Z",
     "shell.execute_reply": "2021-09-09T03:01:35.393539Z",
     "shell.execute_reply.started": "2021-09-09T03:01:35.262582Z"
    }
   },
   "outputs": [
    {
     "data": {
      "image/png": "[encoded data removed]",
      "text/plain": [
       "<Figure size 432x288 with 1 Axes>"
      ]
     },
     "metadata": {
      "needs_background": "light"
     },
     "output_type": "display_data"
    }
   ],
   "source": [
    "plt.plot(fpr,tpr)\n",
    "plt.show()"
   ]
  },
  {
   "cell_type": "code",
   "execution_count": 310,
   "metadata": {
    "execution": {
     "iopub.execute_input": "2021-09-09T03:02:01.528995Z",
     "iopub.status.busy": "2021-09-09T03:02:01.528643Z",
     "iopub.status.idle": "2021-09-09T03:02:01.550647Z",
     "shell.execute_reply": "2021-09-09T03:02:01.549704Z",
     "shell.execute_reply.started": "2021-09-09T03:02:01.528964Z"
    }
   },
   "outputs": [
    {
     "data": {
      "text/plain": [
       "0.999999995791156"
      ]
     },
     "execution_count": 310,
     "metadata": {},
     "output_type": "execute_result"
    }
   ],
   "source": [
    "roc_auc_score(y_test,fin_prob[:,1])"
   ]
  }
 ],
 "metadata": {
  "kernelspec": {
   "display_name": "Python 3",
   "language": "python",
   "name": "python3"
  },
  "language_info": {
   "codemirror_mode": {
    "name": "ipython",
    "version": 3
   },
   "file_extension": ".py",
   "mimetype": "text/x-python",
   "name": "python",
   "nbconvert_exporter": "python",
   "pygments_lexer": "ipython3",
   "version": "3.8.8"
  }
 },
 "nbformat": 4,
 "nbformat_minor": 4
}
